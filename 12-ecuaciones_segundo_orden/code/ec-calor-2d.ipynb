{
 "cells": [
  {
   "cell_type": "code",
   "execution_count": 1,
   "id": "8fa410f5-2c8a-43c6-afaf-6969d70fab6a",
   "metadata": {},
   "outputs": [],
   "source": [
    "import numpy as np\n",
    "\n",
    "placa_ancho, placa_largo = 50, 50\n",
    "max_iter_tiempo = 750\n",
    "alpha = 5\n",
    "delta_x = 1\n",
    "delta_t = (delta_x ** 2)/(4 * alpha)\n",
    "gamma = (alpha * delta_t) / (delta_x ** 2)\n",
    "\n",
    "# Condiciones de borde\n",
    "u_arriba, u_der = 100.0, 100.0\n",
    "u_abajo, u_izq = 50.0, 50.0\n",
    "\n",
    "# Condición inicial interior\n",
    "u_inicial = 0"
   ]
  },
  {
   "cell_type": "code",
   "execution_count": 2,
   "id": "87fb40a1-9ab8-4243-8bed-d4fc4550fb81",
   "metadata": {},
   "outputs": [],
   "source": [
    "def inicializar_u(max_iter_time, \n",
    "                  ni=placa_largo, nj=placa_ancho):\n",
    "    \n",
    "    # Inicializar la solución: grilla u(k, i, j)\n",
    "    u = np.full((max_iter_tiempo, ni, nj), u_inicial)\n",
    "\n",
    "    # Establecer condiciones de borde\n",
    "    u[:, 0, :] = u_izq + np.arange(ni) * delta_x * (u_arriba - u_izq) / placa_ancho\n",
    "    u[:, :, 0] = u_izq - (np.arange(ni) * delta_x * u_izq / placa_largo)\n",
    "    u[:, -1, :] = np.arange(ni) * delta_x * u_abajo / placa_ancho\n",
    "    u[:, :, -1] = u_arriba - (np.arange(nj) * delta_x * u_abajo / placa_largo)\n",
    "\n",
    "    return u"
   ]
  },
  {
   "cell_type": "code",
   "execution_count": 3,
   "id": "94046b71-f73c-4554-83bb-53bbf38d4e0e",
   "metadata": {},
   "outputs": [],
   "source": [
    "# Código original para calcular el mapa de calor en la grilla (i, j) y en cada tiempo k\n",
    "def calcular(u):\n",
    "    nk, ni, nj = u.shape\n",
    "    for k in range(0, nk-1):\n",
    "        for i in range(1, ni-1):\n",
    "            for j in range(1, nj-1):\n",
    "                u[k + 1, i, j] = gamma * (u[k][i+1][j] + u[k][i-1][j] + u[k][i][j+1] + u[k][i][j-1] - 4*u[k][i][j]) \\\n",
    "                                 + u[k][i][j]\n",
    "    return u"
   ]
  },
  {
   "cell_type": "code",
   "execution_count": 4,
   "id": "2d5b3c26-279c-45b6-9c87-5b3f92fdce07",
   "metadata": {},
   "outputs": [],
   "source": [
    "u1 = calcular(inicializar_u(max_iter_tiempo))"
   ]
  },
  {
   "cell_type": "code",
   "execution_count": 6,
   "id": "c90ccb4a-bf78-4080-a682-f6291b142e35",
   "metadata": {},
   "outputs": [],
   "source": [
    "import matplotlib\n",
    "import matplotlib.pyplot as plt\n",
    "import matplotlib.animation as animation\n",
    "from matplotlib.animation import FuncAnimation\n",
    "matplotlib.rcParams.update({\"text.usetex\": True})"
   ]
  },
  {
   "cell_type": "code",
   "execution_count": 7,
   "id": "a0374eb0-549c-4a99-a0de-fdee824617a6",
   "metadata": {},
   "outputs": [],
   "source": [
    "fig, ax = plt.subplots(figsize=(8,6))\n",
    "mappable = ax.imshow(u1[0], interpolation=None,\n",
    "                     cmap=plt.cm.jet)\n",
    "fig.colorbar(mappable, label=\"Temperatura (°C)\", ax=ax)\n",
    "ax.set_xlabel(r\"$x$\", fontsize=20)\n",
    "ax.set_ylabel(r\"$y$\", fontsize=20)\n",
    "fig.suptitle(\"Temperatura inicial\")\n",
    "fig.tight_layout()\n",
    "fig.savefig(\"temp-inicial-0.pdf\")\n",
    "plt.close()"
   ]
  },
  {
   "cell_type": "code",
   "execution_count": 8,
   "id": "87af4a2f-aa84-43fe-992c-47dcf63e8e41",
   "metadata": {},
   "outputs": [],
   "source": [
    "fig, ax = plt.subplots(figsize=(8,6))\n",
    "mappable = ax.imshow(u1[-1], interpolation=None,\n",
    "                     cmap=plt.cm.jet)\n",
    "fig.colorbar(mappable, label=\"Temperatura (°C)\", ax=ax)\n",
    "ax.set_xlabel(r\"$x$\", fontsize=20)\n",
    "ax.set_ylabel(r\"$y$\", fontsize=20)\n",
    "fig.suptitle(\"Temperatura final\")\n",
    "fig.tight_layout()\n",
    "fig.savefig(\"temp-final-0.pdf\")\n",
    "plt.close()"
   ]
  },
  {
   "cell_type": "code",
   "execution_count": 9,
   "id": "e2236570-f475-4746-a147-d8417704790d",
   "metadata": {},
   "outputs": [],
   "source": [
    "def plotheatmap(u_k, k):\n",
    "    # Limpiamos la figura\n",
    "    plt.clf()\n",
    "\n",
    "    plt.title(f\"Temperatura en t = {k*delta_t:.2f} unidades de tiempo\")\n",
    "    plt.xlabel(r\"$x$\", fontsize=20)\n",
    "    plt.ylabel(r\"$y$\", fontsize=20)\n",
    "\n",
    "    # Ploteamos u_k (u_{i,j} en `paso de tiempo k)\n",
    "    plt.imshow(u_k, cmap=plt.cm.jet, interpolation=\"none\", vmin=0, vmax=100)\n",
    "    plt.colorbar()\n",
    "\n",
    "    return plt"
   ]
  },
  {
   "cell_type": "code",
   "execution_count": 10,
   "id": "478593e3-9507-4905-9be9-09d0b2be173b",
   "metadata": {},
   "outputs": [
    {
     "name": "stdout",
     "output_type": "stream",
     "text": [
      "¡Hecho!\n"
     ]
    },
    {
     "data": {
      "image/png": "[encoded data removed]",
      "text/plain": [
       "<Figure size 640x480 with 2 Axes>"
      ]
     },
     "metadata": {},
     "output_type": "display_data"
    }
   ],
   "source": [
    "def animate(k):\n",
    "    plotheatmap(u1[k], k)\n",
    "\n",
    "anim = animation.FuncAnimation(plt.figure(), animate, interval=50, frames=max_iter_tiempo, repeat=False)\n",
    "anim.save(\"solucion_ecuacion_calor_n-0.mp4\")\n",
    "\n",
    "print(\"¡Hecho!\")"
   ]
  }
 ],
 "metadata": {
  "kernelspec": {
   "display_name": "Python 3 (ipykernel)",
   "language": "python",
   "name": "python3"
  },
  "language_info": {
   "codemirror_mode": {
    "name": "ipython",
    "version": 3
   },
   "file_extension": ".py",
   "mimetype": "text/x-python",
   "name": "python",
   "nbconvert_exporter": "python",
   "pygments_lexer": "ipython3",
   "version": "3.8.16"
  }
 },
 "nbformat": 4,
 "nbformat_minor": 5
}
