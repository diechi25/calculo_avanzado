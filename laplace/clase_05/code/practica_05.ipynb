{
 "cells": [
  {
   "cell_type": "markdown",
   "id": "6feea7bc-0416-49ac-adfa-f8e92f4316a7",
   "metadata": {},
   "source": [
    "# Práctica Nro. 5\n",
    "\n",
    "[![Open In Colab](https://colab.research.google.com/assets/colab-badge.svg)](https://colab.research.google.com/github/manuxch/calculo_avanzado/blob/main/laplace/clase_05/code/practica_05.ipynb)"
   ]
  },
  {
   "cell_type": "markdown",
   "id": "6340e2a7-8508-4bb2-a8e1-a87af082817e",
   "metadata": {},
   "source": [
    "En esta práctica se utiliza el módulo sympy para el cálculo simbólico y operaciones de cálculo diferencial e integral. Se puede obtener ayuda en:\n",
    "- [Evaluación numérica](https://docs.sympy.org/latest/modules/evalf.html)\n",
    "- [Cálculo diferencial e integral](https://docs.sympy.org/latest/tutorials/intro-tutorial/calculus.html)\n",
    "- [Integrales (de Laplace)](https://docs.sympy.org/latest/modules/integrals/integrals.html)"
   ]
  },
  {
   "cell_type": "code",
   "execution_count": 26,
   "id": "6e6c9303-7d3d-4cbc-8c6e-1009550fae53",
   "metadata": {
    "tags": []
   },
   "outputs": [],
   "source": [
    "import math\n",
    "import matplotlib.pyplot as plt\n",
    "plt.style.use('../../../utils/clases.mplstyle') # Borrar esta línea para correr en Colab\n",
    "import numpy as np\n",
    "import sympy as sym\n",
    "from sympy import (DiracDelta, exp, cos, sin, laplace_transform, Heaviside, \n",
    "                   symbols, Function, inverse_laplace_transform, Eq)\n",
    "from sympy.abc import t, s, a\n",
    "sym.init_printing()"
   ]
  },
  {
   "cell_type": "markdown",
   "id": "ae67e6d0-00d5-4d4f-9260-4b575b76986a",
   "metadata": {},
   "source": [
    "## Ejercicio 1"
   ]
  },
  {
   "cell_type": "markdown",
   "id": "74f4439a-793e-4d53-8d9a-968d6154280c",
   "metadata": {
    "tags": []
   },
   "source": [
    "La integral de la transformada de Laplace se puede obtener de alguna tabla, lo que resulta en:\n",
    "\\begin{align}\n",
    "\\mathscr{L}(f)(s) &= \\int_0^{\\infty} e^{-st} \\cos at \\, dt   \\\\\n",
    "&= \\lim_{M \\rightarrow \\infty} \\int_0^{M} e^{-st} \\cos at \\, dt   \\\\\n",
    "&= \\lim_{M \\rightarrow \\infty} \\left. \\frac{e^{-st} (a \\sin at - s \\cos at)}{s^2 + a^2} \\right|_0^M\n",
    "&= \\frac{s}{s^2 + a^2}\n",
    "\\end{align}"
   ]
  },
  {
   "cell_type": "markdown",
   "id": "2aa25585-ce53-46a2-bbe3-c7d2e70ef1fb",
   "metadata": {},
   "source": [
    "Alternativamente, podemos resolverlo de otro modo recordando de la teoría que\n",
    "\n",
    "$$ \\mathscr{L}[e^{at}](s) = \\frac{1}{s - a} $$\n",
    "\n",
    "Si reemplazamos $a$ por $a i$ tenemos:\n",
    "\\begin{align}\n",
    "\\mathscr{L}[e^{ait}](s) &= \\mathscr{L}[\\cos at + i \\sin at](s) \\\\\n",
    "&= \\mathscr{L}[\\cos at](s) + i \\mathscr{L}[\\sin at](s) \\tag{1.1}\\\\\n",
    "&= \\frac{1}{s - a i} = \\frac{1}{s - a i} \\frac{s + ai}{s + ai} = \\frac{s + a i}{s^2 + a^2} \\\\\n",
    "&= \\frac{s}{s^2 + a^2} + i \\frac{a}{s^2 + a^2} \\tag{1.2}\n",
    "\\end{align}\n",
    "\n",
    "Igualando las partes real e imaginarias de (1.1) y (1.2), obtenemos:\n",
    "$$ \\mathscr{L}[\\cos at](s) = \\frac{s}{s^2 + a^2}, \\quad \\mathscr{L}[\\sin at](s) = \\frac{a}{s^2 + a^2} $$"
   ]
  },
  {
   "cell_type": "markdown",
   "id": "c25fbd59-f6e6-48e9-a32d-b50ac66b96e2",
   "metadata": {},
   "source": [
    "Ahora vamos a resolverlo utilizando los recursos de cálculo simbólico que provee SymPy. "
   ]
  },
  {
   "cell_type": "code",
   "execution_count": 3,
   "id": "938feb97-5fc6-4dd3-a208-f9a06471ef6f",
   "metadata": {
    "tags": []
   },
   "outputs": [
    {
     "data": {
      "image/png": "[encoded data removed]",
      "text/latex": [
       "$\\displaystyle \\left( \\frac{s}{a^{2} + s^{2}}, \\  0, \\  2 \\left|{\\arg{\\left(a \\right)}}\\right| = 0\\right)$"
      ],
      "text/plain": [
       "⎛   s                      ⎞\n",
       "⎜───────, 0, 2⋅│arg(a)│ = 0⎟\n",
       "⎜ 2    2                   ⎟\n",
       "⎝a  + s                    ⎠"
      ]
     },
     "execution_count": 3,
     "metadata": {},
     "output_type": "execute_result"
    }
   ],
   "source": [
    "f = cos(a*t)\n",
    "laplace_transform(f, t, s)"
   ]
  },
  {
   "cell_type": "markdown",
   "id": "a31a83a1-8c59-4a4f-b80e-af1d5fe80814",
   "metadata": {},
   "source": [
    "La función `laplace_transfrom()` devuelve una tupla en la que el primer elemento es la transformada $F(s) = \\mathscr{L}(f)$, el segundo es el semiplano de convergencia (esto es $a > 0$) y el tercer elemento son condiciones de convergencia auxiliares (en este caso, $\\arg(a) = 0$ significa que el argumento del número complejo $a$ es nulo, lo que es lo mismo que decir que $a$ es un número real). Si solo queremos obtener $F(s)$ podemos especificar `noconds=True`:"
   ]
  },
  {
   "cell_type": "code",
   "execution_count": 4,
   "id": "75641537-05e0-4d6c-8a44-38a8e2bfe590",
   "metadata": {
    "tags": []
   },
   "outputs": [
    {
     "data": {
      "image/png": "[encoded data removed]",
      "text/latex": [
       "$\\displaystyle \\frac{s}{a^{2} + s^{2}}$"
      ],
      "text/plain": [
       "   s   \n",
       "───────\n",
       " 2    2\n",
       "a  + s "
      ]
     },
     "execution_count": 4,
     "metadata": {},
     "output_type": "execute_result"
    }
   ],
   "source": [
    "laplace_transform(f, t, s, noconds=True)"
   ]
  },
  {
   "cell_type": "markdown",
   "id": "3c82c191-b4f7-420a-ac13-6629f96a75a3",
   "metadata": {},
   "source": [
    "## Ejercicio 2"
   ]
  },
  {
   "cell_type": "markdown",
   "id": "6db51a2e-df2b-4974-b06f-77944bf25ac6",
   "metadata": {},
   "source": [
    "Hemos visto que \n",
    "$$ \\mathscr{L}(t^n) = \\frac{n!}{s^{n + 1}} \\tag{2.1} $$ \n",
    "es válida para $n = 0$, ya que en ese caso, como vimos en la teoría y considerando que $0! = 1$:\n",
    "$$ \\mathscr{L}(t^0) = \\mathscr{L}(1) = \\frac{1}{s} $$\n",
    "\n",
    "Entonces proponemos la hipótesis de inducción y asumimos que (2.1) vale para algún entero $n \\geq 0$, y probaremos que vale entonces para $n + 1$. Integrando por partes (2.1) tenemos\n",
    "\\begin{align}\n",
    "\\mathscr{L}(t^{n + 1}) &= \\int_0^{\\infty} e^{-st} t^{n+1} \\, dt \\\\\n",
    "&= \\left. -\\frac{1}{s} e^{-st} t^{n+1} \\right|_0^{\\infty} + \\frac{n + 1}{s} \\int_0^{\\infty} e^{-st} t^n \\, dt\n",
    "\\end{align}\n",
    "En la última expresión, la parte sin integral es nula al evaluarla en los límites, mientras que el segundo término es $(n + 1)/s$ veces $\\mathscr{L}(t^n)$. De aquí, y por la hipótesis de inducción:\n",
    "$$ \\mathscr{L}(t^{n + 1}) = \\frac{n + 1}{s} \\mathscr{L}(t^{n}) = \\frac{n + 1}{s}  \\frac{n!}{s^{n + 1}} = \\frac{(n + 1)!}{s^{n + 2}} $$\n",
    "Esto prueba la fórmula (2.1)."
   ]
  },
  {
   "cell_type": "markdown",
   "id": "e3d15d8a-3e8b-4e72-b72c-1c3be00cb5d3",
   "metadata": {},
   "source": [
    "## Ejercicio 3"
   ]
  },
  {
   "cell_type": "markdown",
   "id": "c00b3749-5a5a-4f76-93e9-d1bca8b2f9c1",
   "metadata": {},
   "source": [
    "Para hallar la transformada de $H(t-a)$ utilizamos directamente la definición:\n",
    "\\begin{align}\n",
    "\\mathscr{L}[H(t-a)](s) &= \\int_0^{\\infty} e^{-st} H(t-a) \\, dt \\\\\n",
    "&= \\int_0^{\\infty} e^{-st} 1 \\, dt = \\left. -\\frac{e^{-st}}{s} \\right|_{t = a}^{\\infty}\n",
    "\\end{align}"
   ]
  },
  {
   "cell_type": "markdown",
   "id": "f88f3833-b7da-449c-ab15-26b382ebcc5f",
   "metadata": {},
   "source": [
    "En la última expresión, el límite inferior de integración es $t = a$ dado que por la definición de $H(t-a)$, esta función es nula para $t < a$.Por lo tanto:\n",
    "$$ \\mathscr{L}`H(t - a)](s) = \\frac{e^{-as}}{s} $$"
   ]
  },
  {
   "cell_type": "markdown",
   "id": "cd2bcfa9-5cac-4615-a342-e9830e095176",
   "metadata": {},
   "source": [
    "SymPy tiene definida la función Heaviside, con la particularidad de que $H(0) = 1/2$, aunque esto puede ser redefinido en la misma función utilizando como argumento `H0`. "
   ]
  },
  {
   "cell_type": "code",
   "execution_count": 6,
   "id": "5e68b94f-d273-4178-8695-e0560d9adcdf",
   "metadata": {
    "tags": []
   },
   "outputs": [
    {
     "data": {
      "image/png": "[encoded data removed]",
      "text/latex": [
       "$\\displaystyle \\left( \\frac{e^{- a s}}{s}, \\  0, \\  \\arg{\\left(a \\right)} = 0 \\wedge a > 0 \\wedge \\frac{1}{a} \\neq 0\\right)$"
      ],
      "text/plain": [
       "⎛ -a⋅s                               ⎞\n",
       "⎜ℯ                              1    ⎟\n",
       "⎜─────, 0, arg(a) = 0 ∧ a > 0 ∧ ─ ≠ 0⎟\n",
       "⎝  s                            a    ⎠"
      ]
     },
     "execution_count": 6,
     "metadata": {},
     "output_type": "execute_result"
    }
   ],
   "source": [
    "laplace_transform(Heaviside(t - a), t, s)"
   ]
  },
  {
   "cell_type": "markdown",
   "id": "e1da4cfa-d0f7-450e-9104-38bf37602b0f",
   "metadata": {},
   "source": [
    "Obtenemos el mismo resultado anterior para $F(s)$, con la condición de convergencia $a > 0$, y por las condiciones suplementarias de convergencia vemos que $a$ debe ser un número real positivo distinto de cero."
   ]
  },
  {
   "cell_type": "markdown",
   "id": "080e16e4-a8c3-457e-b3eb-88efe7928f2c",
   "metadata": {},
   "source": [
    "## Ejercicio 4"
   ]
  },
  {
   "cell_type": "code",
   "execution_count": 22,
   "id": "4851afbc-16f3-46b8-9500-b307ea72ba57",
   "metadata": {
    "tags": []
   },
   "outputs": [
    {
     "data": {
      "image/png": "[encoded data removed]",
      "text/latex": [
       "$\\displaystyle \\mathcal{L}_{t}\\left[y{\\left(t \\right)}\\right]\\left(s\\right)$"
      ],
      "text/plain": [
       "LaplaceTransform(y(t), t, s)"
      ]
     },
     "execution_count": 22,
     "metadata": {},
     "output_type": "execute_result"
    }
   ],
   "source": [
    "s, t = symbols('s t')\n",
    "y = Function('y')(t)\n",
    "Y = laplace_transform(y, t, s)\n",
    "Y"
   ]
  },
  {
   "cell_type": "code",
   "execution_count": 27,
   "id": "a9f6758e-5e60-48ee-bfb6-30477e8698dc",
   "metadata": {
    "tags": []
   },
   "outputs": [
    {
     "data": {
      "image/png": "[encoded data removed]",
      "text/latex": [
       "$\\displaystyle - 4 y{\\left(t \\right)} + \\frac{d}{d t} y{\\left(t \\right)} = 1$"
      ],
      "text/plain": [
       "          d           \n",
       "-4⋅y(t) + ──(y(t)) = 1\n",
       "          dt          "
      ]
     },
     "execution_count": 27,
     "metadata": {},
     "output_type": "execute_result"
    }
   ],
   "source": [
    "ec_dif = Eq(y.diff(t, 1) - 4 * y,  1)\n",
    "ec_dif"
   ]
  },
  {
   "cell_type": "code",
   "execution_count": 30,
   "id": "4b3741f6-c608-4dc2-a134-f3d469c7f089",
   "metadata": {
    "tags": []
   },
   "outputs": [
    {
     "data": {
      "image/png": "[encoded data removed]",
      "text/latex": [
       "$\\displaystyle - 4 \\mathcal{L}_{t}\\left[y{\\left(t \\right)}\\right]\\left(s\\right) + \\mathcal{L}_{t}\\left[\\frac{d}{d t} y{\\left(t \\right)}\\right]\\left(s\\right)$"
      ],
      "text/plain": [
       "                                                  ⎛d             ⎞\n",
       "-4⋅LaplaceTransform(y(t), t, s) + LaplaceTransform⎜──(y(t)), t, s⎟\n",
       "                                                  ⎝dt            ⎠"
      ]
     },
     "execution_count": 30,
     "metadata": {},
     "output_type": "execute_result"
    }
   ],
   "source": [
    "laplace_transform(ec_dif.lhs, t, s).doit()"
   ]
  },
  {
   "cell_type": "code",
   "execution_count": null,
   "id": "c6508387-6f4f-4a0b-ac77-6edc129c2c1c",
   "metadata": {},
   "outputs": [],
   "source": []
  }
 ],
 "metadata": {
  "kernelspec": {
   "display_name": "Python 3 (ipykernel)",
   "language": "python",
   "name": "python3"
  },
  "language_info": {
   "codemirror_mode": {
    "name": "ipython",
    "version": 3
   },
   "file_extension": ".py",
   "mimetype": "text/x-python",
   "name": "python",
   "nbconvert_exporter": "python",
   "pygments_lexer": "ipython3",
   "version": "3.8.16"
  }
 },
 "nbformat": 4,
 "nbformat_minor": 5
}
