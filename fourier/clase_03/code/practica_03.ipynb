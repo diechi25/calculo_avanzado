{
 "cells": [
  {
   "cell_type": "markdown",
   "id": "f3810fcb-91ba-4885-b653-d079a803e9c8",
   "metadata": {},
   "source": [
    "# Práctica Nro. 3\n",
    "\n",
    "[![Open In Colab](https://colab.research.google.com/assets/colab-badge.svg)](https://colab.research.google.com/github/manuxch/calculo_avanzado/blob/main/fourier/clase_03/code/practica_03.ipynb)"
   ]
  },
  {
   "cell_type": "markdown",
   "id": "245f28f3-c1b8-49f1-bd4a-6800a917f009",
   "metadata": {},
   "source": [
    "En esta práctica se utiliza el módulo sympy para el cálculo simbólico y operaciones de cálculo diferencial e integral. Se puede obtener ayuda en:\n",
    "- [Evaluación numérica](https://docs.sympy.org/latest/modules/evalf.html)\n",
    "- [Cálculo diferencial e integral](https://docs.sympy.org/latest/tutorials/intro-tutorial/calculus.html)\n",
    "- [Series de Fourier](https://docs.sympy.org/latest/modules/series/fourier.html)"
   ]
  },
  {
   "cell_type": "markdown",
   "id": "1613b6f8-a51f-477a-80d4-b4d7fb8540d7",
   "metadata": {},
   "source": [
    "Primero importamos los módulos necesarios."
   ]
  },
  {
   "cell_type": "code",
   "execution_count": 1,
   "id": "7c95acb9-9689-49bd-a525-6727eb8ac114",
   "metadata": {
    "tags": []
   },
   "outputs": [],
   "source": [
    "import math\n",
    "import matplotlib.pyplot as plt\n",
    "plt.style.use('../../../utils/clases.mplstyle')\n",
    "import numpy as np\n",
    "from sympy import symbols, cos, sin, integrate, pi, fourier_series, Piecewise, lambdify"
   ]
  },
  {
   "cell_type": "markdown",
   "id": "ce3ebf84-d0e0-4e27-b708-b31b36578d80",
   "metadata": {},
   "source": [
    "## Ejercicio 1"
   ]
  },
  {
   "cell_type": "markdown",
   "id": "62ffb20b-adca-4add-8d5c-4fd4c1610110",
   "metadata": {},
   "source": [
    "Primero recordemos lo que significa que una función sea par o impar. \n",
    "\n",
    "$f(x)$ es una función impar si $f(x) = -f(-x)$, mientras que es par si $f(x) = f(-x)$. En términos de área, es fácil ver que si $f(x)$ es una función par, entonces\n",
    "$$ \\int_{-a}^{a} f(x) \\, dx = 2 \\int_0^a (f)x) \\, dx $$\n",
    "mientras que si $f(x)$ es impar, entonces\n",
    "$$ \\int_{-a}^{a} f(x) \\, dx = 0 $$\n",
    "\n",
    "![par - impar](./paridad.png)\n",
    "\n",
    "El hecho de que $\\sin mx \\, \\cos nx$ es una función **impar** para cualquier elección de $m$ y $n$, garantiza que\n",
    "$$ \\int_{-\\pi}^{\\pi} \\sin mx \\, \\cos nx \\, dx = 0 $$\n",
    "Por lo tanto, cada miembro de la familia seno es ortogonal a cada miembro de la familia coseno.\n",
    "\n",
    "Para mostrar que cada miembro de la familia seno es ortogonal a todo **otro** miembro de la familia seno, debemos mostrar que\n",
    "$$ \\int_{-\\pi}^{\\pi} \\sin mx \\, \\sin nx \\, dx = 0 $$\n",
    "siempre que $m \\neq n$ (cuando $m = n$ estamos realizando el producto interno de $\\sin mx$ con si mismo).\n",
    "\n",
    "Haciendo uso de las identidades trigonométricas:\n",
    "\\begin{align}\n",
    "\\cos(A + B) &= \\cos A \\, \\cos B - \\sin A \\, \\sin B \\\\\n",
    "\\cos(A - B) &= \\cos A \\, \\cos B + \\sin A \\, \\sin B \\\\\n",
    "\\end{align}\n",
    "podemos ver que\n",
    "$$ \\cos(A - B) - \\cos(A + B) = 2 \\sin A \\, \\sin B$$\n",
    "o\n",
    "\\begin{equation} \n",
    "\\sin A \\, \\sin B = \\frac{1}{2} \\left[ \\cos(A - B) - \\cos(A + B) \\right]\n",
    "\\tag{1.1}\n",
    "\\end{equation}\n",
    "Del mismo modo\n",
    "\\begin{equation}\n",
    "\\cos A \\, \\cos B = \\frac{1}{2} \\left[ \\cos(A + B) + \\cos(A- B) \\right] \n",
    "\\tag{1.2}\n",
    "\\end{equation}\n",
    "\n",
    "Podemos usar (1.1) con $A = mx$ y $B = nx$ para obtener\n",
    "\\begin{align}\n",
    "\\int_{-\\pi}^{\\pi} \\sin mx \\, \\sin nx \\, dx &= \\int_{-\\pi}^{\\pi} \\frac{1}{2} \\left[ \\cos(mx - nx) - \\cos(mx + nx) \\right] \\, dx \\\\\n",
    "&= \\frac{1}{2} \\int_{-\\pi}^{\\pi} \\left[ \\cos(m-n)x - \\cos(m + n)x \\right] \\, dx\n",
    "\\end{align}\n",
    "Entonces\n",
    "\\begin{equation}\n",
    "\\int_{-\\pi}^{\\pi} \\sin mx \\, \\sin nx \\, dx = \\left. \\frac{\\sin(m - n)x}{2(m - n)} \\right|_{x = -\\pi}^{\\pi} - \\left. \\frac{\\sin(m + n)x}{2(m + n)} \\right|_{x = -\\pi}^{\\pi}\n",
    "\\tag{1.3}\n",
    "\\end{equation}\n",
    "\n",
    "Dado que $m$ y $n$ son enteros, también lo son $m + n$ y $m - n$, y dado que el seno de múltiplos enteros de $\\pm \\pi$ es cero, concluimos que el lado derecho de (1.3) es $0$. Por lo tanto, para $m \\neq n$:\n",
    "\\begin{equation}\n",
    "\\int_{-\\pi}^{\\pi} \\sin mx \\, \\sin nx \\, dx = 0 \n",
    "\\tag{1.4}\n",
    "\\end{equation}\n",
    "\n",
    "El primer término del lado derecho de (1.3) contiene $m - n$ en el denominador, por lo que esa expresión es inválida cuando $m = n$. En ese caso\n",
    "\\begin{align}\n",
    "\\int_{-\\pi}^{\\pi} \\sin mx \\, \\sin nx \\, dx &= \\int_{-\\pi}^{\\pi} \\sin^2 nx \\, dx = \\int_{-\\pi}^{\\pi} \\frac{1 - \\cos 2nx}{2} \\, dx \\\\\n",
    "&= \\left. \\frac{x}{2} \\right|_{-\\pi}^{\\pi} - \\left. \\frac{\\sin 2nx}{4n} \\right|_{-\\pi}^{\\pi} = \\frac{\\pi}{2} - \\frac{-\\pi}{2} + 0 = \\pi \\tag{1.5}\n",
    "\\end{align}\n",
    "\n",
    "Entonces, considerando todos los casos:\n",
    "\\begin{equation}\n",
    "\\int_{-\\pi}^{\\pi} \\sin mx \\, \\sin nx \\, dx = \n",
    "\\begin{cases}\n",
    "0,& \\text{ si } m \\neq n \\\\\n",
    "\\pi,& \\text{ si } m = n \n",
    "\\end{cases}\n",
    "\\tag{1.6}\n",
    "\\end{equation}\n",
    "\n"
   ]
  },
  {
   "cell_type": "markdown",
   "id": "620fcc50-694c-4160-b022-00ca398824a8",
   "metadata": {},
   "source": [
    "**Nota:** El hecho de que $n$ aparece como un factor en un término del denominador del lado derecho de (1.5) nos cuestiona sobre la validad de (1.5). Sin embargo, si $n = 0$, $\\sin nx = 0$. Es por esto que la familia $\\{\\sin nx\\}$ comienza con $n = 1$ en vez de $n = 0$. Por otro lado, cuando $n = 0$, $\\cos nx = 1$."
   ]
  },
  {
   "cell_type": "markdown",
   "id": "9c487d88-39cd-4b01-beba-ad0214953040",
   "metadata": {},
   "source": [
    "Ahora nos queda centrar la atención en \n",
    "$$ \\int_{-\\pi}^{\\pi} \\cos mx \\, \\cos nx \\, dx, \\quad \\text{ cuando } m \\neq n $$\n",
    "\n",
    "De la ecuación (1.2) tenemos\n",
    "\\begin{align}\n",
    "\\int_{-\\pi}^{\\pi} \\cos mx \\, \\cos nx \\, dx &= \\frac{1}{2} \\int_{-\\pi}^{\\pi} \\left[(\\cos(m + n)x + \\cos(m - n)x \\right] \\, dx \\\\\n",
    "&= \\left. \\frac{\\sin(m + n)x}{2(m + n)} \\right|_{x = -\\pi}^{\\pi} + \\left. \\frac{\\sin(m - n)x}{2(m - n)} \\right|_{x = -\\pi}^{\\pi}\n",
    "\\tag{1.7}\n",
    "\\end{align}\n",
    "\n",
    "Dado que $\\sin(m + n)\\pi = 0$, de (1.7) resulta que\n",
    "\\begin{equation}\n",
    "n \\neq m \\rightarrow \\int_{-\\pi}^{\\pi} \\cos mx \\, \\cos nx \\, dx = 0\n",
    "\\tag{1.8}\n",
    "\\end{equation}\n",
    "\n",
    "Todo lo que queda para completar todos los casos es calcular\n",
    "$$ \\int_{-\\pi}^{\\pi} \\cos^2 nx \\, dx $$\n",
    "aún cuando esto no es necesario para resolver el ejercicio. Dado que\n",
    "$$ \\cos^2 nx = \\frac{1 + \\cos 2nx}{2} $$\n",
    "tenemos que\n",
    "\\begin{align}\n",
    "\\int_{-\\pi}^{\\pi} \\cos^2 nx \\, dx &= \\frac{1}{2} \\int_{-\\pi}^{\\pi} (1 - \\cos 2nx) \\, dx \\\\\n",
    "&= \\frac{1}{2} \\left[ x - \\frac{\\sin 2nx}{2 n} \\right]_{x = -\\pi}^{\\pi} \\\\\n",
    "&= \\pi\n",
    "\\tag{1.9}\n",
    "\\end{align}\n",
    "**excepto** que la ecuación (1.9) no es válida cuando $n = 0$. Es ese caso especial tenemos\n",
    "$$ \\int_{-\\pi}^{\\pi} \\cos^2 nx \\, dx = \\int_{-\\pi}^{\\pi}  dx = 2 \\pi $$\n",
    "\n",
    "En resumen, para cada par de enteros $m$ y $n$, tenemos:\n",
    "\\begin{equation}\n",
    "\\int_{-\\pi}^{\\pi} \\sin^2 nx \\, dx =\n",
    "\\begin{cases}\n",
    "0,& \\text{ si } n = 0 \\\\\n",
    "\\pi,& \\text{ si } n \\neq 0 \n",
    "\\end{cases}\n",
    "\\tag{1.10}\n",
    "\\end{equation}\n",
    "\n",
    "\\begin{equation}\n",
    "\\int_{-\\pi}^{\\pi} \\cos^2 nx \\, dx =\n",
    "\\begin{cases}\n",
    "2 \\pi,& \\text{ si } n = 0 \\\\\n",
    "\\phantom{2}\\pi,& \\text{ si } n \\neq 0 \n",
    "\\end{cases}\n",
    "\\tag{1.11}\n",
    "\\end{equation}\n",
    "\n",
    "\\begin{equation}\n",
    "\\int_{-\\pi}^{\\pi} \\sin mx \\cos nx \\, dx = 0 \\quad \\text{ aún si } m = n\n",
    "\\tag{1.12}\n",
    "\\end{equation}\n",
    "\n",
    "\\begin{equation}\n",
    "\\int_{-\\pi}^{\\pi} \\sin mx \\sin nx \\, dx = \\int_{-\\pi}^{\\pi} \\cos mx \\cos nx \\, dx = 0 \\quad \\text{ cuando } m \\neq n\n",
    "\\tag{1.13}\n",
    "\\end{equation}"
   ]
  },
  {
   "cell_type": "markdown",
   "id": "06409757-e75f-40c4-aa57-7c94a5ad51dd",
   "metadata": {},
   "source": [
    "En particular, si $\\langle f, g \\rangle$ significa\n",
    "$$\\int_{-\\pi}^{\\pi} f(x) \\, g(x) \\, dx $$\n",
    "entonces la familia\n",
    "$$ \\{1, \\cos x, \\cos 2x, \\ldots, \\cos nx, \\ldots, \\sin x, \\sin 2x, \\ldots, \\sin nx, \\ldots \\} $$\n",
    "es ortogonal. Si queremos construir una famila **ortonormal**, lo que estamos requiriendo es que el producto de un elemento del conjunto por si mismo, cuando no se anule, resulte $1$. En este caso, a partir de (1.10) y (1.11), nuestra familia de funciones debería ser:\n",
    "$$ \\left\\{ \\frac{1}{\\sqrt{2 \\pi}}, \\frac{1}{\\sqrt{\\pi}} \\cos x, \\frac{1}{\\sqrt{\\pi}} \\cos 2x, \\ldots, \\frac{1}{\\sqrt{\\pi}} \\cos nx, \\ldots, \\frac{1}{\\sqrt{\\pi}} \\sin x, \\frac{1}{\\sqrt{\\pi}} \\sin 2x, \\ldots, \\frac{1}{\\sqrt{\\pi}}\\sin nx, \\ldots \\right\\} $$"
   ]
  },
  {
   "cell_type": "markdown",
   "id": "6088e413-e647-4244-8a57-476387209823",
   "metadata": {},
   "source": [
    "Haciendo uso de las funcionalidades simbólicas de SymPy, podemos obtener los valores de los productos internos de los elementos de la familia de senos y cosenos:"
   ]
  },
  {
   "cell_type": "code",
   "execution_count": 2,
   "id": "9560b899-39bd-4267-8ee1-424b10aef038",
   "metadata": {
    "tags": []
   },
   "outputs": [],
   "source": [
    "m, n = symbols('m n', integer=True)\n",
    "x = symbols('x', real=True)"
   ]
  },
  {
   "cell_type": "code",
   "execution_count": 3,
   "id": "3339ee8f-85f7-4d45-b4dd-dc53a573a928",
   "metadata": {
    "tags": []
   },
   "outputs": [
    {
     "data": {
      "text/latex": [
       "$\\displaystyle \\begin{cases} \\pi & \\text{for}\\: n \\neq 0 \\\\2 \\pi & \\text{otherwise} \\end{cases}$"
      ],
      "text/plain": [
       "Piecewise((pi, Ne(n, 0)), (2*pi, True))"
      ]
     },
     "execution_count": 3,
     "metadata": {},
     "output_type": "execute_result"
    }
   ],
   "source": [
    "# coseno m = n\n",
    "integrate(cos(n*x)**2,(x, -pi, pi))"
   ]
  },
  {
   "cell_type": "code",
   "execution_count": 4,
   "id": "7abf7c74-34a2-4995-bfeb-4b3dc02bb854",
   "metadata": {
    "tags": []
   },
   "outputs": [
    {
     "data": {
      "text/latex": [
       "$\\displaystyle \\begin{cases} 0 & \\text{for}\\: m \\neq n \\\\\\pi & \\text{otherwise} \\end{cases}$"
      ],
      "text/plain": [
       "Piecewise((0, Ne(m, n)), (pi, True))"
      ]
     },
     "execution_count": 4,
     "metadata": {},
     "output_type": "execute_result"
    }
   ],
   "source": [
    "# coseno m != n\n",
    "m, n = symbols('m n', integer=True, positive=True)\n",
    "integrate(cos(m*x) * cos(n*x),(x, -pi, pi))"
   ]
  },
  {
   "cell_type": "markdown",
   "id": "07173e45-e875-4528-8e4d-e53da44c0742",
   "metadata": {},
   "source": [
    "En la celda anterior, al declarar `m` y `n`, además de establecer que son enteros también indicamos que son positivos. De esta manera al evaluar la integral, SymPy descarta los casos en que algunas de estas variables se anulan, o cuando $m = -n$. Para ver qué ocurre si eliminamos la restricción `positive=True`, sugerimos volver a ejecutar esta celda eliminando la restricción en el argumento de la función `integrate`."
   ]
  },
  {
   "cell_type": "code",
   "execution_count": 5,
   "id": "d99aa95c-9583-4d79-90e1-7c625f03a325",
   "metadata": {
    "tags": []
   },
   "outputs": [
    {
     "data": {
      "text/latex": [
       "$\\displaystyle \\pi$"
      ],
      "text/plain": [
       "pi"
      ]
     },
     "execution_count": 5,
     "metadata": {},
     "output_type": "execute_result"
    }
   ],
   "source": [
    "# seno m = n\n",
    "integrate(sin(n*x)**2,(x, -pi, pi))"
   ]
  },
  {
   "cell_type": "code",
   "execution_count": 6,
   "id": "737498d9-ef3a-4a67-8199-35f9841f3857",
   "metadata": {
    "tags": []
   },
   "outputs": [
    {
     "data": {
      "text/latex": [
       "$\\displaystyle \\begin{cases} 0 & \\text{for}\\: m \\neq n \\\\\\pi & \\text{otherwise} \\end{cases}$"
      ],
      "text/plain": [
       "Piecewise((0, Ne(m, n)), (pi, True))"
      ]
     },
     "execution_count": 6,
     "metadata": {},
     "output_type": "execute_result"
    }
   ],
   "source": [
    "# seno m != n\n",
    "integrate(sin(m*x) * sin(n*x),(x, -pi, pi))"
   ]
  },
  {
   "cell_type": "code",
   "execution_count": 7,
   "id": "3a5bc115-9178-4679-852e-54aaf0bad04c",
   "metadata": {
    "tags": []
   },
   "outputs": [
    {
     "data": {
      "text/latex": [
       "$\\displaystyle 0$"
      ],
      "text/plain": [
       "0"
      ]
     },
     "execution_count": 7,
     "metadata": {},
     "output_type": "execute_result"
    }
   ],
   "source": [
    "# seno x coseno\n",
    "integrate(sin(m*x) * cos(n*x),(x, -pi, pi))"
   ]
  },
  {
   "cell_type": "markdown",
   "id": "04945935-4f1a-453f-a251-66fcbf66023e",
   "metadata": {},
   "source": [
    "De este modo, recuperamos utilizando el cálculo simbólico de SymPy, los resultados de las ecuaciones (1.19) - (1.13)."
   ]
  },
  {
   "cell_type": "markdown",
   "id": "34a302a6-61a8-49f0-a531-bf480846f387",
   "metadata": {},
   "source": [
    "## Ejercicio 2"
   ]
  },
  {
   "cell_type": "markdown",
   "id": "9ccf08a5-a9cb-427b-b641-c18338a4c633",
   "metadata": {},
   "source": [
    "Tenemos la suposición que:\n",
    "\\begin{equation}\n",
    "f(x) = a_0 + \\sum_{n = 1}^{\\infty} a_n \\cos nx + \\sum_{n = 1}^{\\infty} b_n \\sin nx \n",
    "\\tag{2.1}\n",
    "\\end{equation}\n",
    "\n",
    "Dado que $\\langle 1, \\cos nx \\rangle = \\langle 1, \\sin nx \\rangle = 0$ para $n >0$, podemos usar esta propiedad ortogonal para encontrar $a_0$. Integramos entonces ambos lados de (2.1) entre $-\\pi $ y $\\pi$ para obtener:\n",
    "\\begin{equation}\n",
    "\\int_{-\\pi}^{\\pi} f(x) \\, dx = \\int_{-\\pi}^{\\pi} \\left[ a_0 + \\sum_{n = 1}^{\\infty} a_n \\cos nx + \\sum_{n = 1}^{\\infty} b_n \\sin nx \\right] \\, dx\n",
    "\\tag{2.2}\n",
    "\\end{equation}\n",
    "\n",
    "**Asumiendo** que podemos intercambiar el orden de integración y sumatorias (lo que para sumas infinitas no siempre es válido), la ecuación (2.2) resulta\n",
    "\\begin{equation}\n",
    "\\int_{-\\pi}^{\\pi} f(x) \\, dx = \\int_{-\\pi}^{\\pi} a_0 \\, dx + \\sum_{n = 1}^{\\infty} \\int_{-\\pi}^{\\pi} a_n \\cos nx \\, dx + \\sum_{n = 1}^{\\infty} \\int_{-\\pi}^{\\pi} b_n \\sin nx \\, dx\n",
    "\\end{equation}\n",
    "Por lo tanto\n",
    "$$ \\int_{-\\pi}^{\\pi} f(x) \\, dx = 2 \\pi a_0 $$\n",
    "o \n",
    "\\begin{equation}\n",
    "a_0 = \\frac{1}{2 \\pi} \\int_{-\\pi}^{\\pi} f(x) \\, dx\n",
    "\\tag{2.3}\n",
    "\\end{equation}\n"
   ]
  },
  {
   "cell_type": "markdown",
   "id": "7e1425e7-0d00-4492-b9d2-02eb8ac8ac12",
   "metadata": {},
   "source": [
    "Para encontrar $a_k$ para $k \\neq 0$, multiplicamos ambos lados de (2.1) por $\\cos kx$ e integramos desde $-\\pi$ a $\\pi$:\n",
    "\\begin{align}\n",
    "\\int_{-\\pi}^{\\pi} f(x) \\, \\cos kx \\, dx &= \\int_{-\\pi}^{\\pi} \\left[ a_0 + \\sum_{n = 1}^{\\infty} a_n \\cos nx + \\sum_{n = 1}^{\\infty} b_n \\sin nx \\right] \\, \\cos kx\\, dx \\\\\n",
    "&= \\int_{-\\pi}^{\\pi} a_0 \\, \\cos kx \\, dx + \\int_{-\\pi}^{\\pi} \\left[ \\sum_{n = 1}^{\\infty} a_n \\cos nx \\, cos kx \\right] \\, dx \\\\\n",
    "&+ \\int_{-\\pi}^{\\pi} \\left[ \\sum_{n = 1}^{\\infty} b_n \\sin nx \\, cos kx \\right] \\, dx\n",
    "\\tag{2.4}\n",
    "\\end{align}\n",
    "\n",
    "Nuevamente, bajo la suposición de que podemos intercambiar el orden de integración con las sumas infinitas, tenemos:\n",
    "\\begin{align}\n",
    "\\int_{-\\pi}^{\\pi} f(x) \\, \\cos kx \\, dx &= \\int_{-\\pi}^{\\pi} a_0 \\, \\cos kx \\, dx + \\sum_{n = 1}^{\\infty} a_n \\int_{-\\pi}^{\\pi} \\cos nx \\, cos kx \\, dx \\\\\n",
    "&+ \\sum_{n = 1}^{\\infty}  \\int_{-\\pi}^{\\pi} b_n \\sin nx \\, cos kx \\, dx \\\\\n",
    "&= 0 + \\pi \\delta_{nk} + 0\n",
    "\\end{align}"
   ]
  },
  {
   "cell_type": "markdown",
   "id": "79f94e38-fc35-43de-865f-d6b2060b3523",
   "metadata": {},
   "source": [
    "donde usamos la función delta de Kronecker:\n",
    "$$ \\delta_{ij} = \n",
    "\\begin{cases}\n",
    "1,& \\text{ si } i = j \\\\\n",
    "0,& \\text{ si } i \\neq j\n",
    "\\end{cases} $$\n",
    "\n",
    "Entonces\n",
    "$$ \\int_{-\\pi}^{\\pi} f(x) \\, \\cos kx \\, dx = \\pi a_k $$\n",
    "Por lo tanto, para $k = 1, 2, 3, \\ldots$:\n",
    "\\begin{equation}\n",
    "a_k = \\frac{1}{\\pi}  \\int_{-\\pi}^{\\pi} f(x) \\, \\cos kx \\, dx\n",
    "\\tag{2.5}\n",
    "\\end{equation}"
   ]
  },
  {
   "cell_type": "markdown",
   "id": "c912f3e5-c3cf-4bcd-ad2a-bda89d5b26e9",
   "metadata": {},
   "source": [
    "Para encontrar $b_k$ multiplicamos ambos lados de (2.1) por $\\sin kx$ e integramos de $-\\pi$ a $\\pi$, asumiendo que podemos intercambiar el orden de la suma infinita y la integración. Esto resulta:\n",
    "\\begin{align}\n",
    "\\int_{-\\pi}^{\\pi} f(x) \\, \\sin kx \\, dx &= \\int_{-\\pi}^{\\pi} a_0 \\, \\sin kx \\, dx + \\sum_{n = 1}^{\\infty} a_n \\int_{-\\pi}^{\\pi} \\cos nx \\, \\sin kx \\,dx \\\\\n",
    "&+ \\sum_{n = 1}^{\\infty} \\int_{-\\pi}^{\\pi} b_n \\sin nx \\, \\sin kx \\, dx \\\\\n",
    "&= 0 + 0 + \\pi \\delta_{nk}\n",
    "\\end{align}\n",
    "\n",
    "Entonces\n",
    "$$ \\int_{-\\pi}^{\\pi} f(x) \\, \\sin kx \\, dx = b_k \\pi $$\n",
    "o\n",
    "\\begin{equation}\n",
    "b_k = \\frac{1}{\\pi} \\int_{-\\pi}^{\\pi} f(x) \\, \\sin kx \\, dx\n",
    "\\tag{2.6}\n",
    "\\end{equation}"
   ]
  },
  {
   "cell_type": "markdown",
   "id": "c35f40f0-2bd1-46ce-abb1-1d30ecc145f0",
   "metadata": {},
   "source": [
    "**Nota 1:** usamos $k$ en vez de $n$ simplemente para evitar confundir un término particular con uno general. Esto es, no queremos que $n$ tenga dos interpretaciones diferentes en el mismo problema. Con esto en mente, las ecuaciones (2.5) y (2.6) se pueden reescribir como:\n",
    "\\begin{equation}\n",
    "a_n = \\frac{1}{\\pi}  \\int_{-\\pi}^{\\pi} f(x) \\, \\cos nx \\, dx\n",
    "\\tag{2.5'}\n",
    "\\end{equation}\n",
    "y\n",
    "\\begin{equation}\n",
    "b_n = \\frac{1}{\\pi} \\int_{-\\pi}^{\\pi} f(x) \\, \\sin nx \\, dx\n",
    "\\tag{2.6'}\n",
    "\\end{equation}"
   ]
  },
  {
   "cell_type": "markdown",
   "id": "8b287dd2-901a-4377-bc71-a62b2abfb0e0",
   "metadata": {},
   "source": [
    "**Nota 2:** Notar que **no** decimos que\n",
    "\\begin{align}\n",
    "f(x) &= a_0 + \\sum_{n = 1}^{\\infty} a_n \\cos nx + \\sum_{n = 1}^{\\infty} b_n \\sin nx \\\\\n",
    "&= \\frac{1}{2 \\pi} \\int_{-\\pi}^{\\pi} f(x) \\, dx + \\frac{1}{\\pi} \\sum_{n = 1}^{\\infty} \\left( \\int_{-\\pi}^{\\pi} f(x) \\, \\cos nx \\, dx \\right) \\cos nx \\\\\n",
    "&+ \\frac{1}{\\pi} \\sum_{n = 1}^{\\infty} \\left( \\int_{-\\pi}^{\\pi} f(x) \\, \\sin nx \\, dx \\right) \\sin nx\n",
    "\\tag{1.7}\n",
    "\\end{align}\n",
    "\n",
    "sino que es $F(x)$ la que está definida por el lado derecho de la ecuación (2.7). En otras palabras, el lado derecho de la ecuación (2.7) fue derivada bajo la suposición (no siempre válida) de que está justificado el cambio de orden de integración y sima infinita. En resumen\n",
    "\\begin{align}\n",
    "f(x) &\\sim \\frac{1}{2 \\pi} \\int_{-\\pi}^{\\pi} f(x) \\, dx + \\frac{1}{\\pi} \\sum_{n = 1}^{\\infty} \\left[ \\left( \\int_{-\\pi}^{\\pi} f(x) \\, \\cos nx \\, dx \\right) \\cos nx \\right. \\\\\n",
    "&+ \\left. \\left( \\int_{-\\pi}^{\\pi} f(x) \\, \\sin nx \\, dx \\right) \\sin nx \\right]= F(x)\n",
    "\\end{align}\n",
    "y $F(x)$ se denomina la representación de Fourier de $f(x)$,"
   ]
  },
  {
   "cell_type": "markdown",
   "id": "185e2095-ea77-44c3-8a0e-d17af56d14df",
   "metadata": {},
   "source": [
    "## Ejercicio 3"
   ]
  },
  {
   "cell_type": "markdown",
   "id": "97b0da99-1a35-4aac-9223-a59526a44fb7",
   "metadata": {},
   "source": [
    "En el ejercicio anterior calculamos los coeficientes de Fourier de una función $f(x)$ enfatizando el hecho de que la serie de Fourier no es necesariamente igual a la función. Por otro lado, en la clase dijimos que si $f(x)$ es suave a tramos en $[-\\pi, \\pi]$, la serie de Fourier $F(x)$ de $f(x)$ converge a $f(x)$ en todos los puntos del intervalo $[-\\pi, \\pi]$ donde $f(x)$ es continua, y al valor medio del salto donde $f(x)$ tiene una discontinuidad finita.\n",
    "\n",
    "En este ejercicio calcularemos nuevamente los coeficientes de la serie de Fourier, pero al mismo tiempo elegimos $f(x)$ como una función suave a tramos de modo de ver cómo converge la serie de Fourier en este caso."
   ]
  },
  {
   "cell_type": "markdown",
   "id": "bb144c7c-b233-4de2-96fd-ff0697883c16",
   "metadata": {},
   "source": [
    "### Parte a)"
   ]
  },
  {
   "cell_type": "markdown",
   "id": "3c6cda69-d8ba-4162-bfcb-e1e9c76f79f2",
   "metadata": {},
   "source": [
    "Dado que\n",
    "\\begin{equation}\n",
    "f(x) = \n",
    "\\begin{cases}\n",
    "-1,& -\\pi < x < 0 \\\\\n",
    "\\phantom{-}1,& \\phantom{-}0 < x < \\pi \\\\\n",
    "\\end{cases}\n",
    "\\tag{3.1}\n",
    "\\end{equation}\n",
    "tenemos que:"
   ]
  },
  {
   "cell_type": "markdown",
   "id": "d67c1d98-c3eb-4538-9ba1-1a7acf56d21e",
   "metadata": {},
   "source": [
    "\\begin{align}\n",
    "\\text{(i)} \\qquad \\int_{-\\pi}^{\\pi} f(x) \\, dx &= \\int_{-\\pi}^{0} f(x) \\, dx + \\int_{0}^{\\pi} f(x) \\, dx \\tag{3.2} \\\\\n",
    "&= \\int_{-\\pi}^{0} (-1) \\, dx + \\int_{0}^{\\pi} 1 \\, dx \\\\\n",
    "&= \\int_{0}^{-\\pi} dx + \\int_{0}^{\\pi} dx \\\\\n",
    "&= -\\pi + \\pi \\\\\n",
    "&= 0\n",
    "\\tag{3.3}\n",
    "\\end{align}"
   ]
  },
  {
   "cell_type": "markdown",
   "id": "c5b3bb6b-4332-44f8-b930-83199dcfb3e8",
   "metadata": {
    "tags": []
   },
   "source": [
    "\\begin{align}\n",
    "\\text{(ii)} \\qquad \\int_{-\\pi}^{\\pi} f(x) \\, \\cos nx \\, dx &= \\int_{-\\pi}^{0} -\\cos nx \\, dx + \\int_{0}^{\\pi} \\cos nx \\, dx \\quad (n \\neq 0) \\\\\n",
    "&= \\int_{0}^{-\\pi} \\cos nx \\, dx + \\int_{0}^{\\pi} \\cos nx \\, dx \\\\\n",
    "&= \\left. \\frac{\\sin nx}{n} \\right|_{x = 0}^{-\\pi} + \\left. \\frac{\\sin nx}{n} \\right|_{x = 0}^{\\pi} \\\\\n",
    "&= 0\n",
    "\\tag{3.4}\n",
    "\\end{align}"
   ]
  },
  {
   "cell_type": "markdown",
   "id": "bd67930c-b7be-4a68-972f-c007ba670313",
   "metadata": {},
   "source": [
    "\\begin{align}\n",
    "\\text{(iii)} \\qquad \\int_{-\\pi}^{\\pi} f(x) \\, \\sin nx \\, dx &= \\int_{-\\pi}^{0} -\\sin nx \\, dx + \\int_{0}^{\\pi} \\sin nx \\, dx \\quad (n \\neq 0) \\\\\n",
    "&= \\int_{0}^{-\\pi} \\sin nx \\, dx + \\int_{0}^{\\pi} \\sin nx \\, dx \\\\\n",
    "&= \\left. \\frac{-\\cos nx}{n} \\right|_{x = 0}^{-\\pi} - \\left. \\frac{\\cos nx}{n} \\right|_{x = 0}^{\\pi} \\\\\n",
    "&= \\left( \\frac{-\\cos(-n \\pi)}{n} - \\left[ \\frac{-\\cos 0}{n} \\right] \\right) - \\left( \\frac{\\cos n \\pi}{n} - \\frac{\\cos 0}{n} \\right) \\\\\n",
    "&= \\frac{-\\cos n \\pi}{n} + \\frac{1}{n} - \\frac{\\cos n \\pi}{n} + \\frac{1}{n} \\\\\n",
    "&= \\frac{2}{n} - \\frac{2 \\cos n \\pi}{n}\n",
    "\\tag{3.5}\n",
    "\\end{align}"
   ]
  },
  {
   "cell_type": "markdown",
   "id": "46cba661-092e-49f3-af34-dfe8fadb42cc",
   "metadata": {},
   "source": [
    "Podemos observar que para valores pares de $n$, $\\cos n\\pi = 1$, mientras que para los valores impares de $n$, $\\cos n\\pi = -1$. Por lo tanto\n",
    "$$ \\frac{2}{n} - \\frac{2 \\cos n \\pi}{n} = \n",
    "\\begin{cases}\n",
    "\\frac{2}{n} - \\frac{2}{n},& \\text{ cuando } n \\text { es par} \\\\\n",
    "\\frac{2}{n} - \\frac{-2}{n} = \\frac{4}{n},& \\text{ cuando } n \\text { es impar} \\\\\n",
    "\\end{cases} $$\n",
    "Por lo tanto, concluimos de (3.5) que\n",
    "\\begin{equation}\n",
    "\\int_{-\\pi}^{\\pi} f(x) \\, \\sin nx \\, dx =\n",
    "\\begin{cases}\n",
    "0,& \\text{ si } n \\text{ es  par} \\\\\n",
    "\\frac{4}{n},& \\text{ si } n \\text{ es  impar} \\\\\n",
    "\\end{cases}\n",
    "\\tag{3.6}\n",
    "\\end{equation}"
   ]
  },
  {
   "cell_type": "markdown",
   "id": "25a62116-78a4-4288-9b67-4e4e21a0d8c5",
   "metadata": {},
   "source": [
    "Ahora, usando los resultados del ejercicio anterior, tenemos que la representación en serie de Fourier de $f(x)$ está dada por\n",
    "\\begin{equation}\n",
    "F(x) = a_0 + \\sum_{n = 1}^{\\infty} a_n \\, \\cos nx + \\sum_{n = 1}^{\\infty} b_n \\, \\sin nx \n",
    "\\tag{3.7}\n",
    "\\end{equation}\n",
    "donde\n",
    "$$ a_0 = \\frac{1}{2 \\pi}  \\int_{-\\pi}^{\\pi} f(x) \\, dx $$\n",
    "$$ a_n = \\frac{1}{\\pi}  \\int_{-\\pi}^{\\pi} f(x) \\, \\cos nx \\, dx \\qquad (n \\neq 0) $$\n",
    "$$ b_n = \\frac{1}{\\pi}  \\int_{-\\pi}^{\\pi} f(x) \\, \\sin nx \\, dx \\qquad $$\n",
    "\n",
    "Entonces, de (3.3), (3.4) y (3.6) concluimos que\n",
    "$$ a_0 = \\frac{1}{2 \\pi} (0) = 0 $$\n",
    "$$ a_n = \\frac{1}{\\pi} (0) = 0 \\qquad (n \\neq 0) $$\n",
    "$$ b_n =\n",
    "\\begin{cases}\n",
    "\\frac{1}{\\pi} (0) = 0,& \\text{ si } n \\text{ es par} \\\\\n",
    "\\frac{1}{\\pi} \\frac{4}{n} = \\frac{4}{n \\pi},& \\text{ si } n \\text{ es impar} \\\\\n",
    "\\end{cases} $$\n",
    "\n",
    "lo que a partir de (3.7) resulta:\n",
    "\\begin{align}\n",
    "F(x) &= 0 + 0 + \\sum_{n \\text{ impar}} \\frac{4}{n \\pi} \\sin nx \\tag{3.8.1} \\\\\n",
    "&= \\frac{4}{\\pi} \\left( \\sin x + \\frac{\\sin 3x}{3} + \\frac{\\sin 5 x}{5} + \\cdots + \\frac{\\sin (2n + 1) x}{2n + 1} + \\cdots \\right) \\tag{3.8.2} \\\\\n",
    "&= \\frac{4}{\\pi} \\sum_{n = 0}^{\\infty} \\frac{\\sin (2n +1)x}{2 n +1} \\tag{3.8.3} \\\\\n",
    "\\end{align}"
   ]
  },
  {
   "cell_type": "markdown",
   "id": "1efe71df-611d-435b-9616-e0d0e2b06529",
   "metadata": {},
   "source": [
    "El módulo SymPy de Python provee funciones para generar y manipular series de Fourier. Para ver en este ejercicio cómo podemos obtener la serie de Fourier de la función dada, primero tenemos que definir $f(x)$ como una función suave a tramos:"
   ]
  },
  {
   "cell_type": "code",
   "execution_count": 8,
   "id": "232ed603-d253-423c-8739-6dba4336611b",
   "metadata": {
    "tags": []
   },
   "outputs": [],
   "source": [
    "x = symbols('x', real=True)\n",
    "f = Piecewise((-1, x < 0), (1, True)) # True significa: de otro modo"
   ]
  },
  {
   "cell_type": "markdown",
   "id": "90ce713f-02fd-4eb3-bfe9-e151a27c4538",
   "metadata": {},
   "source": [
    "Ahora podemos generar la función $F(x)$ como la representación en serie de Fourier de $f(x)$:"
   ]
  },
  {
   "cell_type": "code",
   "execution_count": 9,
   "id": "729ee73a-3ced-48c3-95c6-268d995adecb",
   "metadata": {
    "tags": []
   },
   "outputs": [
    {
     "data": {
      "text/latex": [
       "$\\displaystyle \\frac{4 \\sin{\\left(x \\right)}}{\\pi} + \\frac{4 \\sin{\\left(3 x \\right)}}{3 \\pi} + \\frac{4 \\sin{\\left(5 x \\right)}}{5 \\pi} + \\ldots$"
      ],
      "text/plain": [
       "FourierSeries(Piecewise((-1, x < 0), (1, True)), (x, -pi, pi), (0, SeqFormula(0, (_n, 1, oo)), SeqFormula(Piecewise((-2*cos(_n*pi)/_n + 2/_n, (_n > -oo) & (_n < oo) & Ne(_n, 0)), (0, True))*sin(_n*x)/pi, (_n, 1, oo))))"
      ]
     },
     "execution_count": 9,
     "metadata": {},
     "output_type": "execute_result"
    }
   ],
   "source": [
    "F = fourier_series(f, (x, -pi, pi))\n",
    "F"
   ]
  },
  {
   "cell_type": "markdown",
   "id": "3bb0faa9-2059-44a0-b9da-ae6ab7687b9a",
   "metadata": {},
   "source": [
    "Como podemos ver, esta expansión coicide con el resultado obtenido en las ecuaciones (3.8). Podemos ejecutar el método `truncate()` para obtener más términos de la serie:"
   ]
  },
  {
   "cell_type": "code",
   "execution_count": 10,
   "id": "0d837bfb-9c58-4c04-9234-c0ab44c4aae5",
   "metadata": {
    "tags": []
   },
   "outputs": [
    {
     "data": {
      "text/latex": [
       "$\\displaystyle \\frac{4 \\sin{\\left(x \\right)}}{\\pi} + \\frac{4 \\sin{\\left(3 x \\right)}}{3 \\pi} + \\frac{4 \\sin{\\left(5 x \\right)}}{5 \\pi} + \\frac{4 \\sin{\\left(7 x \\right)}}{7 \\pi} + \\frac{4 \\sin{\\left(9 x \\right)}}{9 \\pi} + \\frac{4 \\sin{\\left(11 x \\right)}}{11 \\pi} + \\frac{4 \\sin{\\left(13 x \\right)}}{13 \\pi} + \\frac{4 \\sin{\\left(15 x \\right)}}{15 \\pi}$"
      ],
      "text/plain": [
       "4*sin(x)/pi + 4*sin(3*x)/(3*pi) + 4*sin(5*x)/(5*pi) + 4*sin(7*x)/(7*pi) + 4*sin(9*x)/(9*pi) + 4*sin(11*x)/(11*pi) + 4*sin(13*x)/(13*pi) + 4*sin(15*x)/(15*pi)"
      ]
     },
     "execution_count": 10,
     "metadata": {},
     "output_type": "execute_result"
    }
   ],
   "source": [
    "F.truncate(n=8)"
   ]
  },
  {
   "cell_type": "markdown",
   "id": "3b765563-793f-4353-a5fe-7b51c5ee1c54",
   "metadata": {},
   "source": [
    "Para comparar $f(x)$ con $F(x)$ en forma gráfica, antes tenemos que convertir las funciones simbólicas de SymPy en funciones numéricas que se puedan tratar como arrays de numpy. Esto se logra invocando la función `lambdify`:"
   ]
  },
  {
   "cell_type": "code",
   "execution_count": 11,
   "id": "42a4da3b-2f7e-478c-a0b5-a5c58cf88a9a",
   "metadata": {
    "tags": []
   },
   "outputs": [],
   "source": [
    "f_np = lambdify(x, f, 'numpy')\n",
    "F_np = lambdify(x, F.truncate(n=5), 'numpy')  # tomamos los primeros 5 términos de la serie de Fourier"
   ]
  },
  {
   "cell_type": "markdown",
   "id": "01c4bfc2-d6cf-4b37-af99-813b361b8e9c",
   "metadata": {},
   "source": [
    "(Si luego de ejecutar la celda anterior, queremos cambiar el número de términos a considerar en $F(x)$, es necesario reiniciar el kernel.)\n",
    "Ahora graficamos la función $f(x)$ y $F(x)$:"
   ]
  },
  {
   "cell_type": "code",
   "execution_count": 12,
   "id": "c182db6a-d1cd-427b-af89-8685b06ed56b",
   "metadata": {
    "tags": []
   },
   "outputs": [
    {
     "data": {
      "image/png": "[encoded data removed]",
      "text/plain": [
       "<Figure size 640x480 with 1 Axes>"
      ]
     },
     "metadata": {},
     "output_type": "display_data"
    }
   ],
   "source": [
    "fig, ax = plt.subplots() \n",
    "x_n = np.linspace(-np.pi, np.pi, 300)\n",
    "y = f_np(x_n)\n",
    "Y = F_np(x_n)\n",
    "plt.plot(x_n, y, lw=4, label=r\"$f(x)$\")\n",
    "plt.plot(x_n, Y, label=r\"$F(x)$\")\n",
    "ax.set_xticks([-np.pi, -np.pi/2, 0, np.pi/2, np.pi])\n",
    "ax.set_xticklabels(['$-\\pi$', '$-\\pi/2$', '$0$', '$\\pi/2$', '$\\pi$'])\n",
    "plt.legend()\n",
    "plt.show()"
   ]
  },
  {
   "cell_type": "markdown",
   "id": "9c89b4ca-9830-4553-bbd7-f238ee386f81",
   "metadata": {},
   "source": [
    "**Nota 1:** Notar que el resultado obtenido, por ejemplo (3.8.2), contiene solo términos seno. Esto ocurre porque en este ejercicio $f(x)$ es una **función par**. En otras palabras, dado que el producto de una función impar y una función par es impar, $f(x) \\, \\cos nx$ es impar, ya que $f(x)$ es impar y $\\cos nx$ es par. En consecuencia\n",
    "$$ \\int_{-\\pi}^{\\pi} f(x) \\, \\cos nx \\, dx = 0 $$\n",
    "\n",
    "De la misma forma, $\\langle f(x), \\sin nx \\rangle = 0$ cuando $f(x)$ es par. Por lo tanto, la representación en serie de Fourier de $f(x)$ será una función exclusivamente con senos cuando $f(x)$ es impar, y exclusivamente con cosenos cuando $f(x)$ es par. De hecho podríamos haber utilizado este hecho al derivar las ecuaciones (3.3), (3.4) y (3.6) para simplificar el cálculo, dado que como $f(x)$ es impar:\n",
    "$$ \\int_{-\\pi}^{\\pi} f(x) \\, \\cos nx \\, dx = 0 $$\n",
    "mientras que\n",
    "$$ \\int_{-\\pi}^{\\pi} f(x) \\, \\sin nx \\, dx = 2 \\int_{0}^{\\pi} f(x) \\, \\sin nx \\, dx $$"
   ]
  },
  {
   "cell_type": "markdown",
   "id": "9a8cae42-4920-4fe2-a6e2-92b6fcc5e42d",
   "metadata": {},
   "source": [
    "**Nota 2:** dado que $\\frac{f(x) + f(-x)}{2}$ es **siempre** una función par, y $\\frac{f(x) - f(-x)}{2}$ es **siempre** una función impar, la identidad\n",
    "$$ f(x) = \\underbrace{\\frac{f(x) + f(-x)}{2}}_{\\text{par}} + \\underbrace{\\frac{f(x) - f(-x)}{2}}_{\\text{impar}} $$\n",
    "nos dice que siempre podemos descomponer la construcción de una serie de Fourier en dos problemas, uno involucrando una serie de senos y el otro de cosenos."
   ]
  },
  {
   "cell_type": "markdown",
   "id": "010924ed-553b-41b0-9243-81047c17b33f",
   "metadata": {},
   "source": [
    "### Parte b)"
   ]
  },
  {
   "cell_type": "markdown",
   "id": "f2b2d61c-14ee-4b54-9557-ca38b05058f7",
   "metadata": {},
   "source": [
    "La teoría indica que en cada $x \\in (-\\pi, \\pi)$ para el cual $f(x)$ es continua, $F(x) = f(x)$. En particular, $x = \\tfrac{\\pi}{2}$ es un punto que cumple esa condición. Ahora, por definición de $f$, cuando $x = \\tfrac{\\pi}{2}$, $f(x) = 1$ (dado que $0 < \\tfrac{\\pi}{2} < \\pi$). Entonces, $F(\\tfrac{\\pi}{2}) = 1$, y concluimos a partir de la ecuación (3.8.3) que\n",
    "\\begin{equation}\n",
    "1 = \\frac{4}{\\pi} \\sum_{n = 0}^{\\infty} \\frac{\\sin(2n + 1)x}{2n + 1}\n",
    "\\tag{3.9}\n",
    "\\end{equation}\n",
    "Ahora, los múltiplos impares de $\\tfrac{\\pi}{2}$ tienen la propiedad de que su seno es $1$ o $-1$. Específicamente\n",
    "$$ \\sin \\frac{\\pi}{2} = \\sin \\frac{5 \\pi}{2} = \\sin \\frac{9 \\pi}{2} = \\cdots = 1 $$\n",
    "mientras que\n",
    "$$ \\sin \\frac{3 \\pi}{2} = \\sin \\frac{7 \\pi}{2} = \\sin \\frac{11 \\pi}{2} = \\cdots = -1 $$\n",
    "En forma más compacta:\n",
    "$$ \\sin (2n + 1) \\frac{\\pi}{2} = \n",
    "\\begin{cases}\n",
    "\\phantom{-}1,& n \\text{ par} \\\\\n",
    "-1,& n \\text{ impar} \\\\\n",
    "\\end{cases} $$\n",
    "\n",
    "Por lo tanto, la ecuación (3.9) puede reescribirse como\n",
    "$$ 1 = \\frac{4}{\\pi} \\left( 1 - \\frac{1}{3} + \\frac{1}{5} - \\frac{1}{7} + \\frac{1}{9} - \\frac{1}{11} + \\cdots \\right) $$\n",
    "de lo que sigue que\n",
    "\\begin{equation}\n",
    "\\sum_{n = 0}^{\\infty} \\frac{(-1)^n}{2n + 1} = 1 - \\frac{1}{3} + \\frac{1}{5} - \\frac{1}{7} + \\frac{1}{9} - \\frac{1}{11} + \\cdots = \\frac{\\pi}{4}\n",
    "\\tag{3.10}\n",
    "\\end{equation}"
   ]
  },
  {
   "cell_type": "markdown",
   "id": "2499a387-50c0-49aa-b39b-d8e49267c717",
   "metadata": {},
   "source": [
    "**Nota 3:** en el mismo contexto, notar que $f(0^-) = -1$ y $f(0^+) = 1$. Por lo tanto, la teoría general predice que\n",
    "$$ F(0) = \\frac{f(0^+) + f(0^-)}{2} = \\frac{1 + (-1)}{2} = 0 $$\n",
    "\n",
    "Como verificación de este resultado, vemos que con $x = 0$ en la ecuación (3.8) [o (3.8.1), (3.8.2), (3.8.3)], obtenemos\n",
    "$$ F(0) = 0 $$"
   ]
  },
  {
   "cell_type": "markdown",
   "id": "316ce9db-c9c6-4e55-a72e-e34b09aafa77",
   "metadata": {},
   "source": [
    "## Ejercicio 4"
   ]
  },
  {
   "cell_type": "markdown",
   "id": "a61ced4f-6596-4914-9172-b9f8a545b62c",
   "metadata": {},
   "source": [
    "### Parte a)"
   ]
  },
  {
   "cell_type": "markdown",
   "id": "e9b47011-065c-4cfb-adc9-c07d45d14f7f",
   "metadata": {
    "tags": []
   },
   "source": [
    "$f(x) = |x|$ para $-\\pi \\leq x \\leq \\pi$ significa que\n",
    "$$ f(x) = \n",
    "\\begin{cases}\n",
    "\\phantom{-}x,& \\quad \\phantom{-}0 \\leq x \\leq \\pi \\\\\n",
    "-x,& \\quad -\\pi \\leq x \\leq 0\n",
    "\\end{cases} $$\n",
    "\n",
    "Por lo tanto:\n",
    "\\begin{align}\n",
    "\\langle f(x), 1 \\rangle = \\int_{-\\pi}^{\\pi} f(x) \\, dx &= \\int_{-\\pi}^{0} (-x) \\, dx + \\int_{0}^{\\pi} x \\, dx \\\\\n",
    "&= 2 \\int_{0}^{\\pi} x \\, dx = \\left. x^2 \\right|_{0}^{\\pi} \\\\\n",
    "&= \\pi^2\n",
    "\\end{align}\n",
    "\n",
    "En consecuencia\n",
    "\\begin{equation}\n",
    "a_0 = \\frac{\\langle f(x), 1 \\rangle}{\\langle 1, 1 \\rangle} = \\frac{1}{2 \\pi} \\int_{-\\pi}^{\\pi} f(x) \\, dx = \\frac{\\pi}{2}\n",
    "\\tag{4.1}\n",
    "\\end{equation}"
   ]
  },
  {
   "cell_type": "markdown",
   "id": "5e7bf4fd-400a-4d00-affe-1203cdda9919",
   "metadata": {},
   "source": [
    "Del mismo modo, dado que $f(x)$ es una función **par**:\n",
    "\\begin{align}\n",
    "a_n &= \\frac{\\langle f(x), \\cos nx \\rangle}{\\langle \\cos nx, \\cos nx \\rangle} = \\frac{1}{\\pi} \\int_{-\\pi}^{\\pi} f(x) \\, \\cos nx \\, dx \\qquad (n \\neq 0) \\\\\n",
    "&= \\frac{2}{\\pi} \\int_{0}^{\\pi} x \\, \\cos nx \\, dx\n",
    "\\tag{4.2}\n",
    "\\end{align}\n",
    "\n",
    "Donde hemos usado el resultado (1.11) para $\\langle \\cos nx, \\cos nx \\rangle = \\pi, \\; (n \\neq 0)$. La integral en (4.2) se puede integrar por partes, usando alguna tabla, o aprovechando que tenemos SymPy:"
   ]
  },
  {
   "cell_type": "code",
   "execution_count": 13,
   "id": "4d00b564-2a9e-424f-a51f-a76c276f9d58",
   "metadata": {
    "tags": []
   },
   "outputs": [
    {
     "data": {
      "text/latex": [
       "$\\displaystyle \\begin{cases} \\frac{\\left(-1\\right)^{n}}{n^{2}} - \\frac{1}{n^{2}} & \\text{for}\\: n \\neq 0 \\\\\\frac{\\pi^{2}}{2} & \\text{otherwise} \\end{cases}$"
      ],
      "text/plain": [
       "Piecewise(((-1)**n/n**2 - 1/n**2, Ne(n, 0)), (pi**2/2, True))"
      ]
     },
     "execution_count": 13,
     "metadata": {},
     "output_type": "execute_result"
    }
   ],
   "source": [
    "x = symbols('x', real=True)\n",
    "n = symbols('n', integer=True)\n",
    "integrate(x * cos(n * x), (x, 0, pi))"
   ]
  },
  {
   "cell_type": "markdown",
   "id": "3352a552-89a6-4125-a391-89b6b274e453",
   "metadata": {},
   "source": [
    "Notar que si $n = 0$ recuperamos el resultado de (4.2). Para $n \\neq 0$, tenemos que\n",
    "$$ \\int_0^{\\pi} x \\, \\cos nx \\, dx = \n",
    "\\begin{cases}\n",
    "\\phantom{-}0,& \\qquad n \\text{ par} \\\\\n",
    "\\frac{-2}{n^2},& \\qquad n \\text{ impar} \\\\\n",
    "\\end{cases} $$\n",
    "\n",
    "Por lo tanto, de (4.2) obtenemos\n",
    "\\begin{equation}\n",
    "a_n = \n",
    "\\begin{cases}\n",
    "\\frac{2}{\\pi} (0) = 0,& \\qquad n \\text{ par} \\\\\n",
    "\\frac{2}{\\pi} \\frac{-2}{n^2} = -\\frac{4}{n^2 \\pi},& \\qquad n \\text{ impar} \\\\\n",
    "\\end{cases}\n",
    "\\tag{4.3}\n",
    "\\end{equation}"
   ]
  },
  {
   "cell_type": "markdown",
   "id": "b90a1ea2-3737-4db9-a917-5d36e952113d",
   "metadata": {},
   "source": [
    "Finalmente, dado que $f(x)$ es par, $f(x) \\, \\sin nx$ es impar, entonces:\n",
    "$$ \\langle f(x), \\sin nx \\rangle = \\int_{-\\pi}^{\\pi} f(x) \\, \\sin nx \\, dx = 0 $$\n",
    "lo que significa que \n",
    "\\begin{equation}\n",
    "b_n = 0, \\text{ para } n = 1, 2, 3, \\cdots\n",
    "\\tag{4.4}\n",
    "\\end{equation}"
   ]
  },
  {
   "cell_type": "markdown",
   "id": "79b18aae-4514-466a-86fd-e93823e7bfa1",
   "metadata": {},
   "source": [
    "De (4.1), (4.3) y (4.4), concluimos que\n",
    "\\begin{align}\n",
    "F(x) &= a_0 + \\sum_{n = 1}^{\\infty} a_n \\cos nx + \\sum_{n = 1}^{\\infty} b_n \\sin nx \\\\\n",
    "&= \\frac{\\pi}{2} + \\sum_{n \\text{ impar}} -\\frac{4}{n^2 \\pi} \\cos nx + 0 \\\\\n",
    "&= \\frac{\\pi}{2} - \\frac{4}{\\pi} \\sum_{n \\text{ impar}} \\frac{\\cos nx}{n^2} \\\\\n",
    "&= \\frac{\\pi}{2} - \\frac{4}{\\pi} \\sum_{n = 1}^{\\infty} \\frac{\\cos (2 n + 1)x}{(2 n + 1)^2}\n",
    "\\tag{4.5}\n",
    "\\end{align}"
   ]
  },
  {
   "cell_type": "code",
   "execution_count": 14,
   "id": "22fb3175-7f8f-419e-b4f8-7843096451a2",
   "metadata": {
    "tags": []
   },
   "outputs": [
    {
     "data": {
      "text/latex": [
       "$\\displaystyle - \\frac{4 \\cos{\\left(x \\right)}}{\\pi} - \\frac{4 \\cos{\\left(3 x \\right)}}{9 \\pi} + \\frac{\\pi}{2} + \\ldots$"
      ],
      "text/plain": [
       "FourierSeries(Piecewise((-x, x < 0), (x, True)), (x, -pi, pi), (pi/2, SeqFormula(Piecewise((2*pi*sin(_n*pi)/_n + 2*cos(_n*pi)/_n**2 - 2/_n**2, (_n > -oo) & (_n < oo) & Ne(_n, 0)), (pi**2, True))*cos(_n*x)/pi, (_n, 1, oo)), SeqFormula(0, (_n, 1, oo))))"
      ]
     },
     "execution_count": 14,
     "metadata": {},
     "output_type": "execute_result"
    }
   ],
   "source": [
    "f = Piecewise((-x, x < 0), (x, True)) # True significa: de otro modo\n",
    "F = fourier_series(f, (x, -pi, pi))\n",
    "F"
   ]
  },
  {
   "cell_type": "code",
   "execution_count": 15,
   "id": "5444b124-fc40-4986-b460-9da9bc0396c8",
   "metadata": {
    "tags": []
   },
   "outputs": [
    {
     "data": {
      "text/latex": [
       "$\\displaystyle - \\frac{4 \\cos{\\left(x \\right)}}{\\pi} - \\frac{4 \\cos{\\left(3 x \\right)}}{9 \\pi} - \\frac{4 \\cos{\\left(5 x \\right)}}{25 \\pi} - \\frac{4 \\cos{\\left(7 x \\right)}}{49 \\pi} - \\frac{4 \\cos{\\left(9 x \\right)}}{81 \\pi} - \\frac{4 \\cos{\\left(11 x \\right)}}{121 \\pi} - \\frac{4 \\cos{\\left(13 x \\right)}}{169 \\pi} + \\frac{\\pi}{2}$"
      ],
      "text/plain": [
       "-4*cos(x)/pi - 4*cos(3*x)/(9*pi) - 4*cos(5*x)/(25*pi) - 4*cos(7*x)/(49*pi) - 4*cos(9*x)/(81*pi) - 4*cos(11*x)/(121*pi) - 4*cos(13*x)/(169*pi) + pi/2"
      ]
     },
     "execution_count": 15,
     "metadata": {},
     "output_type": "execute_result"
    }
   ],
   "source": [
    "F.truncate(n=8)"
   ]
  },
  {
   "cell_type": "markdown",
   "id": "ccf3aefd-e2cb-4364-a4b9-be211aedd1e1",
   "metadata": {},
   "source": [
    "Como hicimos en el ejercicio 3, graficamos $f(x)$ y los primeros términos de $F(x)$ para apreciar el grado de aproximación de la representación de Fourier de $f$:"
   ]
  },
  {
   "cell_type": "code",
   "execution_count": 16,
   "id": "93b5a19e-e42f-4ac2-82f8-65a3672c73b0",
   "metadata": {
    "tags": []
   },
   "outputs": [],
   "source": [
    "f_np = lambdify(x, f, 'numpy')\n",
    "F_np = lambdify(x, F.truncate(n=5), 'numpy')  # tomamos los primeros 5 términos de la serie de Fourier"
   ]
  },
  {
   "cell_type": "markdown",
   "id": "30c8b346-8eef-45a2-83d3-042cb62fa717",
   "metadata": {},
   "source": [
    "Dado que la función $F(x)$ es periódica, con período $2 \\pi$, extendemos el intervalo en que graficamos esta función para verificar esta propiedad:"
   ]
  },
  {
   "cell_type": "code",
   "execution_count": 17,
   "id": "c8195faa-4760-4ca8-a479-1262f3410466",
   "metadata": {
    "tags": []
   },
   "outputs": [
    {
     "data": {
      "image/png": "[encoded data removed]",
      "text/plain": [
       "<Figure size 640x480 with 1 Axes>"
      ]
     },
     "metadata": {},
     "output_type": "display_data"
    }
   ],
   "source": [
    "fig, ax = plt.subplots() \n",
    "x_n = np.linspace(-np.pi, np.pi, 300)\n",
    "x_ext = np.linspace(-3 * np.pi, 3 * np.pi, 1000)\n",
    "y = f_np(x_n)\n",
    "Y = F_np(x_ext)\n",
    "plt.plot(x_n, y, lw=4, label=r\"$f(x)$\")\n",
    "plt.plot(x_ext, Y, label=r\"$F(x)$\")\n",
    "ax.set_xticks([-3 * np.pi, -2 * np.pi, -np.pi, 0, np.pi, 2 * np.pi, 3 * np.pi])\n",
    "ax.set_xticklabels(['$-3 \\pi$', '$-2 \\pi$','$-\\pi$','$0$', '$\\pi$', '$2 \\pi$','$3 \\pi$'])\n",
    "plt.legend()\n",
    "plt.show()"
   ]
  },
  {
   "cell_type": "markdown",
   "id": "80851465-2fe8-406b-9508-2e67434c0725",
   "metadata": {},
   "source": [
    "### Parte b)"
   ]
  },
  {
   "cell_type": "markdown",
   "id": "d6b7c842-fb05-4a34-ba78-fcc03c5582c5",
   "metadata": {},
   "source": [
    "Dado que $f(x) = |x|$ implica que $f$ es suave por tramos en $[-\\pi, \\pi]$, concluimos que $F(x) = f(x)$ excepto en aquellos puntos en los cuales $f$ es discontinua. Pero dado que $f$ es continua en todo el intervalo $[-\\pi, \\pi]$, $f(x) \\equiv F(x)$ en $[-\\pi, \\pi]$.\n",
    "\n",
    "Entonces, si hacemos $x = \\pi$ en (4.6) y observamos que $f(\\pi) = |\\pi| = \\pi$, obtenemos\n",
    "\\begin{equation}\n",
    "\\pi = \\frac{\\pi}{2} - \\frac{4}{\\pi} \\sum_{n = 1}^{\\infty} \\frac{\\cos (2 n + 1) \\pi }{(2 n + 1)^2}\n",
    "\\tag{4.6}\n",
    "\\end{equation}\n",
    "\n",
    "Sabemos que $\\cos(2 n + 1) \\pi = -1$ para todo $n$ (es decir, todos los múltiplos impares de $\\pi$ tienen sus cosenos igual a $-1$), por lo que de (4.6)\n",
    "$$ \\pi = \\frac{\\pi}{2} - \\frac{4}{\\pi} \\sum_{n = 1}^{\\infty} \\frac{-1 }{(2 n + 1)^2} $$\n",
    "o\n",
    "\\begin{equation}\n",
    "\\pi = \\frac{\\pi}{2} + \\frac{4}{\\pi} \\sum_{n = 1}^{\\infty} \\frac{1}{(2 n + 1)^2}\n",
    "\\tag{4.7}\n",
    "\\end{equation}\n",
    "\n",
    "De (4.7) sique que\n",
    "$$ \\frac{\\pi}{2} = \\frac{4}{\\pi} \\sum_{n = 1}^{\\infty} \\frac{1}{(2 n + 1)^2} $$\n",
    "o\n",
    "$$ \\sum_{n = 1}^{\\infty} \\frac{1}{(2 n + 1)^2} = \\frac{\\pi^2}{8} $$\n",
    "\n",
    "Extendiendo la suma\n",
    "$$ 1 + \\frac{1}{3^2} + \\frac{1}{5^2} + \\frac{1}{7^2} + \\cdots  + \\frac{1}{(2 n + 1)^2} + \\cdots = \\frac{\\pi^2}{8} $$"
   ]
  },
  {
   "cell_type": "markdown",
   "id": "ff54ea63-2f75-4f02-859a-69d473b8b282",
   "metadata": {},
   "source": [
    "## Ejercicio 5"
   ]
  },
  {
   "cell_type": "markdown",
   "id": "6506b860-083d-4a8f-a5d6-ba4e8399bfa9",
   "metadata": {},
   "source": [
    "### Parte a)"
   ]
  },
  {
   "cell_type": "markdown",
   "id": "969cb9ac-2e5d-49a4-9d53-18dd71563da1",
   "metadata": {},
   "source": [
    "Dado que \n",
    "$$ f(x) =\n",
    "\\begin{cases}\n",
    "0,& -\\pi < x \\leq 0 \\\\\n",
    "x^2,& 0 \\leq x < \\pi\n",
    "\\end{cases} $$\n",
    "tenemos que\n",
    "\\begin{align}\n",
    "\\langle f(x), 1 \\rangle = \\int_{-\\pi}^{\\pi} f(x) \\, dx &= \\int_{-\\pi}^{0} 0 \\, dx + \\int_{0}^{\\pi} x \\, dx \\\\\n",
    "&= 0 + \\left. \\frac{1}{3}x^3 \\right|_{0}^{\\pi} \\\\\n",
    "&= \\frac{pi^3}{3}\n",
    "\\end{align}\n",
    "\n",
    "Por lo tanto\n",
    "\\begin{equation}\n",
    "a_0 = \\frac{\\langle f(x), 1 \\rangle}{\\langle 1, 1 \\rangle} = \\frac{1}{2 \\pi} \\int_{-\\pi}^{\\pi} f(x) \\, dx = \\frac{\\pi}{2} \\left( \\frac{\\pi^3}{3} \\right) = \\frac{\\pi^2}{6}\n",
    "\\tag{5.1}\n",
    "\\end{equation}"
   ]
  },
  {
   "cell_type": "markdown",
   "id": "70743460-a767-449a-969e-1b9b91cf7939",
   "metadata": {},
   "source": [
    "Para los productos con la familia de cosenos, tenemos que evaluar:\n",
    "\\begin{align}\n",
    "\\int_{-\\pi}^{\\pi} f(x) \\, \\cos nx \\, dx &= \\int_{-\\pi}^{\\pi} 0 \\, \\cos nx \\, dx + \\int_{-\\pi}^{\\pi} x^2 \\, \\cos nx \\, dx \\qquad (n \\neq 0) \\\\\n",
    "&= \\int_{0}^{\\pi} x^2 \\, \\cos nx \\, dx\n",
    "\\end{align}\n",
    "\n",
    "por lo que para $n \\neq 0$ tenemos\n",
    "\\begin{align}\n",
    "a_n &= \\frac{\\langle f(x), \\cos nx \\rangle}{\\langle \\cos nx, \\cos nx \\rangle} = \\frac{1}{\\pi} \\int_{-\\pi}^{\\pi} f(x) \\, \\cos nx \\, dx \\\\\n",
    "&= \\frac{1}{\\pi} \\int_{0}^{\\pi} x^2 \\, \\cos nx \\, dx\n",
    "\\tag{5.2}\n",
    "\\end{align}"
   ]
  },
  {
   "cell_type": "markdown",
   "id": "e9acb4d1-b279-42c6-9496-28c7b1c03750",
   "metadata": {},
   "source": [
    "Podemos integrar por partes (dos veces) la integral de la ecuación (4.2), pero haremos uso de la capacidad de integración de SymPy:"
   ]
  },
  {
   "cell_type": "code",
   "execution_count": 18,
   "id": "acf16437-af8c-4ea3-82c5-00a96ed93e8c",
   "metadata": {
    "tags": []
   },
   "outputs": [
    {
     "data": {
      "text/latex": [
       "$\\displaystyle \\frac{2 \\left(-1\\right)^{n} \\pi}{n^{2}}$"
      ],
      "text/plain": [
       "2*(-1)**n*pi/n**2"
      ]
     },
     "execution_count": 18,
     "metadata": {},
     "output_type": "execute_result"
    }
   ],
   "source": [
    "x = symbols('x', real=True)\n",
    "n = symbols('n', integer=True, positive=True)  # Positive para descartar n = 0\n",
    "integrate(x**2 * cos(n * x), (x, 0, pi))"
   ]
  },
  {
   "cell_type": "markdown",
   "id": "e095dc24-1eba-4d92-8f73-afa5ef79e207",
   "metadata": {},
   "source": [
    "Entonces, $a_n$ resulta\n",
    "\\begin{equation}\n",
    "a_n = \\frac{2 (-1)^n}{n^2}\n",
    "\\tag{5.3}\n",
    "\\end{equation}"
   ]
  },
  {
   "cell_type": "markdown",
   "id": "0897f533-87f8-49f5-8e65-d92124859428",
   "metadata": {},
   "source": [
    "Del mismo modo, para las funciones de la familia seno:\n",
    "\\begin{align}\n",
    "b_n &= \\frac{\\langle f(x), \\sin nx \\rangle}{\\langle \\sin nx, \\sin nx \\rangle} = \\frac{1}{\\pi} \\int_{-\\pi}^{\\pi} f(x) \\, \\sin nx \\, dx \\\\\n",
    "&= \\frac{1}{\\pi} \\int_{0}^{\\pi} x^2 \\, \\sin nx \\, dx\n",
    "\\tag{5.4}\n",
    "\\end{align}"
   ]
  },
  {
   "cell_type": "markdown",
   "id": "13f47c76-45b0-4414-bbc4-ba129f8e5398",
   "metadata": {},
   "source": [
    "Nuevamente apelamos al poder integrador de SymPy para evitarnos el álgebra de integrar por partes:"
   ]
  },
  {
   "cell_type": "code",
   "execution_count": 19,
   "id": "5d7fbebd-5e28-4394-9dd0-ac1966999dc2",
   "metadata": {
    "tags": []
   },
   "outputs": [
    {
     "data": {
      "text/latex": [
       "$\\displaystyle - \\frac{\\left(-1\\right)^{n} \\pi^{2}}{n} + \\frac{2 \\left(-1\\right)^{n}}{n^{3}} - \\frac{2}{n^{3}}$"
      ],
      "text/plain": [
       "-(-1)**n*pi**2/n + 2*(-1)**n/n**3 - 2/n**3"
      ]
     },
     "execution_count": 19,
     "metadata": {},
     "output_type": "execute_result"
    }
   ],
   "source": [
    "integrate(x**2 * sin(n * x), (x, 0, pi))"
   ]
  },
  {
   "cell_type": "markdown",
   "id": "56de5505-5960-4882-b5f8-17f80c4a358e",
   "metadata": {},
   "source": [
    "Considerando que tenemos potencias de $-1$ a la $n$, podemos simplificar la expresión anterior para los casos en que $n$ es par o impar, por lo que (4.4) queda:\n",
    "\\begin{equation}\n",
    "b_n = \n",
    "\\begin{cases}\n",
    "-\\frac{\\pi}{n},& \\qquad \\text{ cuando } n \\text{ es par} \\\\\n",
    "\\frac{n^2 \\pi^2 - 4}{n^3 \\pi},& \\qquad \\text{ cuando } n \\text{ es impar}\n",
    "\\end{cases}\n",
    "\\tag{5.5}\n",
    "\\end{equation}\n"
   ]
  },
  {
   "cell_type": "markdown",
   "id": "78622741-c553-4a68-a05e-fe768469d6f8",
   "metadata": {},
   "source": [
    "Combinando (5.1), (5.3) y (5.5) tenemos\n",
    "\\begin{align}\n",
    "f(x) &= \\frac{\\pi^2}{6} + \\sum_{n = 1}^{\\infty} \\frac{2 (-1)^n}{n^2} \\cos nx + \\sum_{n \\text{ par}} \\frac{-\\pi}{n} \\sin nx + \\\\\n",
    "&= + \\sum_{n \\text{ impar}} \\frac{n^2 \\pi^2 - 4}{n^3 \\pi} \\sin nx\n",
    "\\tag{5.6}\n",
    "\\end{align}"
   ]
  },
  {
   "cell_type": "markdown",
   "id": "2288ab4d-c533-4956-9319-7aa7af0faed4",
   "metadata": {},
   "source": [
    "Vamos a verificar esta representación en serie de Fourier utilizando la capacidad simbólica de SymPy:Ç"
   ]
  },
  {
   "cell_type": "code",
   "execution_count": 20,
   "id": "c4c8b3b6-284b-4757-9b7d-b6aceba3e8bc",
   "metadata": {
    "tags": []
   },
   "outputs": [
    {
     "data": {
      "text/latex": [
       "$\\displaystyle \\frac{\\left(-4 + \\pi^{2}\\right) \\sin{\\left(x \\right)}}{\\pi} - \\frac{\\pi \\sin{\\left(2 x \\right)}}{2} + \\frac{\\left(- \\frac{4}{27} + \\frac{\\pi^{2}}{3}\\right) \\sin{\\left(3 x \\right)}}{\\pi} - \\frac{\\pi \\sin{\\left(4 x \\right)}}{4} + \\frac{\\left(- \\frac{4}{125} + \\frac{\\pi^{2}}{5}\\right) \\sin{\\left(5 x \\right)}}{\\pi} - \\frac{\\pi \\sin{\\left(6 x \\right)}}{6} - 2 \\cos{\\left(x \\right)} + \\frac{\\cos{\\left(2 x \\right)}}{2} - \\frac{2 \\cos{\\left(3 x \\right)}}{9} + \\frac{\\cos{\\left(4 x \\right)}}{8} - \\frac{2 \\cos{\\left(5 x \\right)}}{25} + \\frac{\\cos{\\left(6 x \\right)}}{18} + \\frac{\\pi^{2}}{6}$"
      ],
      "text/plain": [
       "(-4 + pi**2)*sin(x)/pi - pi*sin(2*x)/2 + (-4/27 + pi**2/3)*sin(3*x)/pi - pi*sin(4*x)/4 + (-4/125 + pi**2/5)*sin(5*x)/pi - pi*sin(6*x)/6 - 2*cos(x) + cos(2*x)/2 - 2*cos(3*x)/9 + cos(4*x)/8 - 2*cos(5*x)/25 + cos(6*x)/18 + pi**2/6"
      ]
     },
     "execution_count": 20,
     "metadata": {},
     "output_type": "execute_result"
    }
   ],
   "source": [
    "f = Piecewise((0, x < 0), (x**2, True)) # True significa: de otro modo\n",
    "F = fourier_series(f, (x, -pi, pi))\n",
    "F.truncate(n=7)"
   ]
  },
  {
   "cell_type": "markdown",
   "id": "62ce200a-10ca-4a73-9f46-46daf9c14183",
   "metadata": {},
   "source": [
    "Se pueden reconcer en la secuencia de términos los que aparecen en (5.6)"
   ]
  },
  {
   "cell_type": "markdown",
   "id": "b8775332-d30a-4787-846b-fbe91bdcae74",
   "metadata": {},
   "source": [
    "Aquí vemos una diferencia entre $F$ y $f$ en términos de periodicidad. Notar que $f$ no está definida ni en $-\\pi$ ni en $\\pi$, pero podemos pensar en una nueva función $\\bar{f}$ que se obtiene reproduciendo $f$ con período $2 \\pi$."
   ]
  },
  {
   "cell_type": "code",
   "execution_count": 21,
   "id": "45ae1546-b73c-45c4-887f-9a3e810105fe",
   "metadata": {
    "tags": []
   },
   "outputs": [],
   "source": [
    "f_np = lambdify(x, f, 'numpy')\n",
    "F_np = lambdify(x, F.truncate(n=10), 'numpy')  # tomamos los primeros 10 términos de la serie de Fourier"
   ]
  },
  {
   "cell_type": "code",
   "execution_count": 22,
   "id": "2fc81708-8f5e-4706-a0e7-a566fb1d636e",
   "metadata": {},
   "outputs": [
    {
     "data": {
      "image/png": "[encoded data removed]",
      "text/plain": [
       "<Figure size 640x480 with 1 Axes>"
      ]
     },
     "metadata": {},
     "output_type": "display_data"
    }
   ],
   "source": [
    "fig, ax = plt.subplots() \n",
    "x_n = np.linspace(-np.pi, np.pi, 300)\n",
    "x_ext = np.linspace(-3 * np.pi, 3 * np.pi, 1000)\n",
    "y = f_np(x_n)\n",
    "Y = F_np(x_ext)\n",
    "plt.plot(x_n, y, lw=4, c='tab:orange', label=r\"$\\bar{f}(x)$\")\n",
    "plt.plot(x_n + 2 * np.pi, y, c='tab:orange', lw=4) # extensión de f en (pi, 3 pi)\n",
    "plt.plot(x_n - 2 * np.pi, y, c='tab:orange', lw=4) # extensión de f en (-3 pi, -pi)\n",
    "plt.plot(x_ext, Y, label=r\"$F(x)$\")\n",
    "ax.set_xticks([-3 * np.pi, -2 * np.pi, -np.pi, 0, np.pi, 2 * np.pi, 3 * np.pi])\n",
    "ax.set_xticklabels(['$-3 \\pi$', '$-2 \\pi$','$-\\pi$','$0$', '$\\pi$', '$2 \\pi$','$3 \\pi$'])\n",
    "plt.legend()\n",
    "plt.show()"
   ]
  },
  {
   "cell_type": "markdown",
   "id": "4ce383e7-feff-4a63-81a4-ad07bbf01f23",
   "metadata": {},
   "source": [
    "Podemos observar que aún tomando varios términos en la suma de $F(x)$, a la representación en serie de Fourier le cuesta aproximarse a $f(x)$ en la cercanía de las discontinuidades. En cualquier caso, haciendo el esfuerzo de imaginar que con suficientes términos de la suma nos acercamos tanto como queremos a $f(x)$ (es decir, $F(x)$ **converge** a $f(x)$ ), podemos ver que\n",
    "$$ F(\\pi) = \\frac{\\bar{f}(\\pi^+) + \\bar{f}(\\pi^-)}{2} = \\frac{0 + \\pi^2}{2} $$\n",
    "o \n",
    "$$ F(\\pi) = \\frac{\\pi}{2} $$"
   ]
  },
  {
   "cell_type": "markdown",
   "id": "5cb46f3a-217e-4e96-86a3-ea37b34a657b",
   "metadata": {},
   "source": [
    "### Parte c)"
   ]
  },
  {
   "cell_type": "markdown",
   "id": "7294e307-7b86-4cfc-8d01-5d827e19beb3",
   "metadata": {},
   "source": [
    "Ahora volvemos a (5.6) y recordamos que en $(-\\pi, \\pi)$, $f(x) \\equiv F(x)$, pero $F(\\pi) = \\tfrac{\\pi^2}{2}$, y si observamos que $\\sin n \\pi = 0$, obtenemos a partir de (5.6) que\n",
    "$$ \\underbrace{F(\\pi)}_{\\frac{\\pi^2}{2}} = \\frac{\\pi^2}{6} + \\sum_{n = 1}^{\\infty} \\frac{2 (-1)^n}{n^2} (-1)^n + 0 $$\n",
    "Entonces\n",
    "$$ \\frac{\\pi^2}{2} = \\frac{\\pi^2}{6} + \\sum_{n = 1}^{\\infty} \\frac{2 (-1)^n}{n^2} (-1)^n + 0 $$\n",
    "o, dado que $(-1)^n (-1)^n = (-1)^{2n} = 1$,\n",
    "$$ \\frac{\\pi^2}{2} = \\frac{\\pi^2}{6} + \\sum_{n = 1}^{\\infty} \\frac{2}{n^2} $$\n",
    "resulta\n",
    "$$ \\frac{\\pi^2}{3} = 2 \\sum_{n = 1}^{\\infty} \\frac{1}{n^2} $$\n",
    "o\n",
    "$$ \\frac{\\pi^2}{6} = \\sum_{n = 1}^{\\infty} \\frac{1}{n^2} $$\n",
    "Esto es\n",
    "$$ 1 + \\frac{1}{4} + \\frac{1}{9} + \\cdots +  + \\frac{1}{n^2} + \\cdots = \\frac{\\pi^2}{6} $$"
   ]
  },
  {
   "cell_type": "markdown",
   "id": "5c6a19ae-6784-497a-8c78-1154a1382265",
   "metadata": {},
   "source": [
    "**Nota:** este es el primer ejercicio en el que encontramos la serie de Fourier de una función $f(x)$ que no es ni par ni impar. Por esta razón, la solución contiene tanto términos con senos y con cosenos. Si queremos ver qué parte de la solución proviene de los términos con senos y cuál es la que proviene de los cosenos, necesitamos observar que los senos provienen de la parte par de $f$, mientras que los cosenos de la impar. Por la parte par de $f$ nos referimos a \n",
    "$$f_{\\text{par}} = \\frac{f(x) + f(-x)}{2} $$\n",
    "y por la impar a\n",
    "$$f_{\\text{impar}} = \\frac{f(x) - f(-x)}{2} $$\n",
    "\n",
    "Los invitamos a desarrollar estas funciones y graficarlas para ver qué relación tienen con $f$."
   ]
  },
  {
   "cell_type": "markdown",
   "id": "bb752251-da9b-40e5-bb87-e2c49dead348",
   "metadata": {},
   "source": [
    "## Ejercicio 6"
   ]
  },
  {
   "cell_type": "markdown",
   "id": "852e8ddf-5c0c-4cc6-83f8-83ff79779ecf",
   "metadata": {},
   "source": [
    "El paso clave para obtener la ortogonalidad de $\\{\\sin nx, \\cos mx\\}$ reside en el hecho que\n",
    "$$\\left. \\sin(m \\pm n)x \\right|_{x = -\\pi}^{\\pi} = 0 $$\n",
    "\n",
    "Si ahora reemplazamos $[-\\pi, \\pi]$ por $[-p, p]$, el producto interno involucra expresiones como\n",
    "$$\\left. \\sin(m \\pm n)x \\right|_{x = -p}^{p} $$\n",
    "El problema es que $\\sin(m \\pm n) p$ no necesariamente es cero.\n",
    "\n",
    "Si queremos obtener que $\\sin(m \\pm n) p$ sea cero, es fácil conjeturar que sería bueno tener un factor $\\tfrac{\\pi}{p}$ como argumento del seno. Esto es:\n",
    "$$ \\sin \\frac{\\pi}{p}(m \\pm n) p = \\sin(m \\pm n) \\pi = 0 $$\n",
    "\n",
    "Esto sugiere que si queremos la serie de Fourier de $f(x)$ en el intervalo $[-p, p]$, esta serie debe tener la forma\n",
    "\\begin{equation}\n",
    "f(x) \\sim a_0 + \\sum_{n = 1}^{\\infty} a_n \\cos \\frac{n \\pi x}{p} + \\sum_{n = 1}^{\\infty} b_n \\sin \\frac{n \\pi x}{p} \n",
    "\\tag{6.1}\n",
    "\\end{equation}\n",
    "\n",
    "Una verificación similar a la usada en el ejercicio 1 muestra que\n",
    "$$ \\{1, \\cos \\frac{\\pi x}{p}, \\cos \\frac{2 \\pi x}{p}, \\ldots, \\cos \\frac{n \\pi x}{p}, \\ldots, \\sin  \\frac{\\pi x}{p}, \\sin \\frac{2 \\pi x}{p}, \\ldots, \\sin \\frac{n \\pi x}{p}, \\ldots \\} $$\n",
    "es ortogonal en $[-p, p]$.\n",
    "\n",
    "Además, si calculamos $\\langle 1, 1 \\rangle$, $\\langle \\cos \\frac{n \\pi x}{p}, \\cos \\frac{n \\pi x}{p} \\rangle$ y $\\langle \\sin \\frac{n \\pi x}{p}, \\sin \\frac{n \\pi x}{p} \\rangle$ (integrando los productos internos en $[-p, p]$, tenemos"
   ]
  },
  {
   "cell_type": "code",
   "execution_count": 23,
   "id": "16a1b648-1f6e-4cc5-856d-c9a0afe5cc94",
   "metadata": {},
   "outputs": [],
   "source": [
    "x, p = symbols('x p', real=True)\n",
    "n = symbols('n', integer=True, positive=True)"
   ]
  },
  {
   "cell_type": "code",
   "execution_count": 24,
   "id": "7f179b9b-a32e-427d-9644-0eb3778e73bb",
   "metadata": {
    "tags": []
   },
   "outputs": [
    {
     "data": {
      "text/latex": [
       "$\\displaystyle 2 p$"
      ],
      "text/plain": [
       "2*p"
      ]
     },
     "execution_count": 24,
     "metadata": {},
     "output_type": "execute_result"
    }
   ],
   "source": [
    "integrate(1, (x, -p, p))"
   ]
  },
  {
   "cell_type": "code",
   "execution_count": 25,
   "id": "319d1f4c-fc24-4ff0-aab2-e41c9f285fcc",
   "metadata": {
    "tags": []
   },
   "outputs": [
    {
     "data": {
      "text/latex": [
       "$\\displaystyle p$"
      ],
      "text/plain": [
       "p"
      ]
     },
     "execution_count": 25,
     "metadata": {},
     "output_type": "execute_result"
    }
   ],
   "source": [
    "integrate(cos(pi * n * x / p)**2, (x, -p, p))"
   ]
  },
  {
   "cell_type": "code",
   "execution_count": 26,
   "id": "52608f4c-1520-46b5-8ba9-d955a5104393",
   "metadata": {
    "tags": []
   },
   "outputs": [
    {
     "data": {
      "text/latex": [
       "$\\displaystyle p$"
      ],
      "text/plain": [
       "p"
      ]
     },
     "execution_count": 26,
     "metadata": {},
     "output_type": "execute_result"
    }
   ],
   "source": [
    "integrate(sin(pi * n * x / p)**2, (x, -p, p))"
   ]
  },
  {
   "cell_type": "markdown",
   "id": "26d47a68-bb65-4fc1-b621-5781c847dea7",
   "metadata": {},
   "source": [
    "De estos resultados vemos que $p$ reemplaza a $\\pi$ cuando el intervalo cambia de $[-\\pi, \\pi]$ a $[-p, p]$. Entonces, si $f(x)$ es integrable en $[-p, p]$, la serie de Fourier de $f(x)$, $F(x)$, está dada por\n",
    "\\begin{equation}\n",
    "F(x) = a_0 + \\sum_{n = 1}^{\\infty} a_n \\cos \\frac{n \\pi x}{p} + \\sum_{n = 1}^{\\infty} b_n \\sin \\frac{n \\pi x}{p} \n",
    "\\tag{6.2}\n",
    "\\end{equation}\n",
    "donde\n",
    "\\begin{equation}\n",
    "a_0 = \\frac{1}{2p} \\int_{-p}^p f(x) \\, dx\n",
    "\\tag{6.3}\n",
    "\\end{equation}\n",
    "\n",
    "\\begin{equation}\n",
    "a_n (\\text{ para } n \\neq 0) = \\frac{1}{p} \\int_{-p}^p f(x) \\, \\cos \\frac{n \\pi x}{p} \\, dx\n",
    "\\tag{6.4}\n",
    "\\end{equation}\n",
    "\n",
    "\\begin{equation}\n",
    "b_n = \\frac{1}{p} \\int_{-p}^p f(x) \\, \\sin \\frac{n \\pi x}{p} \\, dx\n",
    "\\tag{6.5}\n",
    "\\end{equation}"
   ]
  },
  {
   "cell_type": "markdown",
   "id": "16591a2b-737b-469e-bbbd-857bfa9013f7",
   "metadata": {},
   "source": [
    "En este contexto, el problema presenta el caso especial en que $p = 1$ y $f(x) = x$. Bajo estas condiciones, se deduce de (6.3), (6.4) y (6.5) que\n",
    "$$ a_0 = a_1 = \\cdots = a_n = \\cdots = 0 $$\n",
    "debido a que $f(x)$ es una función impar (y por lo tanto $f(x) cos \\tfrac{n \\pi x}{p}$ también es impar). Hacemos la integral sobre los senos con SymPy:"
   ]
  },
  {
   "cell_type": "code",
   "execution_count": 27,
   "id": "aa691126-fff8-4bde-b649-b9f510dee599",
   "metadata": {
    "tags": []
   },
   "outputs": [
    {
     "data": {
      "text/latex": [
       "$\\displaystyle - \\frac{2 \\left(-1\\right)^{n}}{\\pi n}$"
      ],
      "text/plain": [
       "-2*(-1)**n/(pi*n)"
      ]
     },
     "execution_count": 27,
     "metadata": {},
     "output_type": "execute_result"
    }
   ],
   "source": [
    "integrate(x * sin(pi * n * x), (x, -1, 1))"
   ]
  },
  {
   "cell_type": "markdown",
   "id": "57ef7633-975c-4fe5-8eb8-1e293cd63ebd",
   "metadata": {},
   "source": [
    "Poniendo estos resultados en (6.2) obtenemos\n",
    "$$ F(x) = \\sum_{n = 1}^{\\infty} \\frac{2 (-1)^{n + 1}}{n \\pi} \\sin n \\pi x $$\n",
    "o\n",
    "\\begin{equation}\n",
    "F(x) = \\frac{2}{\\pi} \\sum_{n = 1}^{\\infty} (-1)^{n + 1} \\frac{\\sin n \\pi x}{n} \n",
    "\\tag{6.6}\n",
    "\\end{equation}\n",
    "\n",
    "Nuevamente, verificamos este resultado usando la expansión en serie de Fourier que ofrece SymPy:"
   ]
  },
  {
   "cell_type": "code",
   "execution_count": 28,
   "id": "645c6549-946e-4015-8ea7-ac9a7228937d",
   "metadata": {
    "tags": []
   },
   "outputs": [
    {
     "data": {
      "text/latex": [
       "$\\displaystyle \\frac{2 \\sin{\\left(\\pi x \\right)}}{\\pi} - \\frac{\\sin{\\left(2 \\pi x \\right)}}{\\pi} + \\frac{2 \\sin{\\left(3 \\pi x \\right)}}{3 \\pi} + \\ldots$"
      ],
      "text/plain": [
       "FourierSeries(x, (x, -1, 1), (0, SeqFormula(0, (_k, 1, oo)), SeqFormula(Piecewise((-2*cos(_n*pi)/(_n*pi) + 2*sin(_n*pi)/(_n**2*pi**2), (_n > -oo) & (_n < oo) & Ne(_n, 0)), (0, True))*sin(_n*pi*x), (_n, 1, oo))))"
      ]
     },
     "execution_count": 28,
     "metadata": {},
     "output_type": "execute_result"
    }
   ],
   "source": [
    "f = x \n",
    "F = fourier_series(f, (x, -1, 1))\n",
    "F"
   ]
  },
  {
   "cell_type": "markdown",
   "id": "2d1a2c5b-a5cd-4f12-a7b4-0d939f95c7d4",
   "metadata": {
    "tags": []
   },
   "source": [
    "Realizamos una comparación gráfica considerando solo los primeros 5 términos de la representación en serie de Fourier:"
   ]
  },
  {
   "cell_type": "code",
   "execution_count": 29,
   "id": "f12be8f7-e5e0-4e16-ba15-ed5f4158007c",
   "metadata": {
    "tags": []
   },
   "outputs": [],
   "source": [
    "f_np = lambdify(x, f, 'numpy')\n",
    "F_np = lambdify(x, F.truncate(n=5), 'numpy')  # tomamos los primeros 5 términos de la serie de Fourier"
   ]
  },
  {
   "cell_type": "code",
   "execution_count": 30,
   "id": "4d045c5b-aedb-403c-af08-afd21d7edd9f",
   "metadata": {
    "tags": []
   },
   "outputs": [
    {
     "data": {
      "image/png": "[encoded data removed]",
      "text/plain": [
       "<Figure size 640x480 with 1 Axes>"
      ]
     },
     "metadata": {},
     "output_type": "display_data"
    }
   ],
   "source": [
    "fig, ax = plt.subplots() \n",
    "x_n = np.linspace(-1, 1, 300)\n",
    "x_ext = np.linspace(-3, 3, 1000)\n",
    "y = f_np(x_n)\n",
    "Y = F_np(x_ext)\n",
    "plt.plot(x_n, y, lw=4, c='tab:orange', label=r\"$\\bar{f}(x)$\")\n",
    "plt.plot(x_n + 2, y, c='tab:orange', lw=4) # extensión de f en (pi, 3 pi)\n",
    "plt.plot(x_n - 2, y, c='tab:orange', lw=4) # extensión de f en (-3 pi, -pi)\n",
    "plt.plot(x_ext, Y, label=r\"$F(x)$\")\n",
    "ax.set_xticks([-3, -2, -1, 0, 1, 2, 3])\n",
    "ax.set_xticklabels(['$-3$', '$-2$','$-1$','$0$', '$1$', '$2$','$3$'])\n",
    "plt.legend()\n",
    "plt.show()"
   ]
  }
 ],
 "metadata": {
  "kernelspec": {
   "display_name": "Python 3 (ipykernel)",
   "language": "python",
   "name": "python3"
  },
  "language_info": {
   "codemirror_mode": {
    "name": "ipython",
    "version": 3
   },
   "file_extension": ".py",
   "mimetype": "text/x-python",
   "name": "python",
   "nbconvert_exporter": "python",
   "pygments_lexer": "ipython3",
   "version": "3.8.16"
  }
 },
 "nbformat": 4,
 "nbformat_minor": 5
}
