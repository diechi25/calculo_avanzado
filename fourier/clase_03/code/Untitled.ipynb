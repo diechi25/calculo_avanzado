{
 "cells": [
  {
   "cell_type": "code",
   "execution_count": 1,
   "id": "32676eee-7217-47d7-934e-3a5d8c422438",
   "metadata": {
    "tags": []
   },
   "outputs": [
    {
     "name": "stdout",
     "output_type": "stream",
     "text": [
      "Collecting spb\n",
      "  Downloading spb-0.1.1-py3-none-any.whl (27 kB)\n",
      "Collecting setuptools==42.0.2\n",
      "  Downloading setuptools-42.0.2-py2.py3-none-any.whl (583 kB)\n",
      "\u001b[2K     \u001b[38;2;114;156;31m━━━━━━━━━━━━━━━━━━━━━━━━━━━━━━━━━━━━━━\u001b[0m \u001b[32m583.2/583.2 kB\u001b[0m \u001b[31m12.6 MB/s\u001b[0m eta \u001b[36m0:00:00\u001b[0m[36m0:00:01\u001b[0m\n",
      "\u001b[?25hInstalling collected packages: setuptools, spb\n",
      "  Attempting uninstall: setuptools\n",
      "    Found existing installation: setuptools 67.1.0\n",
      "    Uninstalling setuptools-67.1.0:\n",
      "      Successfully uninstalled setuptools-67.1.0\n",
      "\u001b[31mERROR: pip's dependency resolver does not currently take into account all the packages that are installed. This behaviour is the source of the following dependency conflicts.\n",
      "tensorboard 2.3.0 requires markdown>=2.6.8, which is not installed.\n",
      "tensorboard 2.3.0 requires werkzeug>=0.11.15, which is not installed.\n",
      "google-auth 1.21.1 requires pyasn1-modules>=0.2.1, which is not installed.\u001b[0m\u001b[31m\n",
      "\u001b[0mSuccessfully installed setuptools-42.0.2 spb-0.1.1\n",
      "Note: you may need to restart the kernel to use updated packages.\n"
     ]
    }
   ],
   "source": [
    "pip install spb"
   ]
  },
  {
   "cell_type": "code",
   "execution_count": null,
   "id": "79faa1c2-201c-43d4-8c60-717c61f40bc6",
   "metadata": {},
   "outputs": [],
   "source": []
  }
 ],
 "metadata": {
  "kernelspec": {
   "display_name": "Python 3 (ipykernel)",
   "language": "python",
   "name": "python3"
  },
  "language_info": {
   "codemirror_mode": {
    "name": "ipython",
    "version": 3
   },
   "file_extension": ".py",
   "mimetype": "text/x-python",
   "name": "python",
   "nbconvert_exporter": "python",
   "pygments_lexer": "ipython3",
   "version": "3.8.16"
  }
 },
 "nbformat": 4,
 "nbformat_minor": 5
}
