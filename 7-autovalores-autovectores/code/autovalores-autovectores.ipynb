{
 "cells": [
  {
   "cell_type": "markdown",
   "id": "9cf42675-8a97-4f49-ba61-2fc3fd2b4ed6",
   "metadata": {},
   "source": [
    "# Autovalores y autovectores\n",
    "\n",
    "[![Open In Colab](https://colab.research.google.com/assets/colab-badge.svg)](https://colab.research.google.com/github/manuxch/calculo_avanzado/blob/main/7-autovalores-autovectores/code/autovalores-autovectores.ipynb)"
   ]
  },
  {
   "cell_type": "markdown",
   "id": "77af4458-57b2-45fd-98db-1dab53de36db",
   "metadata": {},
   "source": [
    "## Ejercicio 1\n",
    "\n",
    "Para comprobar que $\\vec{v}$ es un autovector de $A$, debe cumplirse que:\n",
    "$$ A \\vec{v} = \\lambda \\vec{v} $$\n",
    "Hacemos el producto de $A$ por $\\vec{v}$:\n",
    "$$ \\begin{bmatrix} 53 & -70 \\\\ 35 & -46 \\end{bmatrix} \\cdot \\begin{bmatrix} 7 \\\\ 5 \\end{bmatrix} = \n",
    "\\begin{bmatrix} 21 \\\\ 15 \\end{bmatrix} $$\n",
    "Podemos ver que el resultado lo podemos escribir como\n",
    "$$ \\begin{bmatrix} 21 \\\\ 15 \\end{bmatrix} = 3 \\begin{bmatrix} 7 \\\\ 5 \\end{bmatrix} $$\n",
    "por lo tanto \n",
    "$$ \\begin{bmatrix} 53 & -70 \\\\ 35 & -46 \\end{bmatrix} \\cdot \\begin{bmatrix} 7 \\\\ 5 \\end{bmatrix} = \n",
    "3 \\begin{bmatrix} 7 \\\\ 5 \\end{bmatrix} $$\n",
    "lo que muestra que $\\vec{v}$ es un autovector de $A$ con autovalor $\\lambda = 3$.\n",
    "\n",
    "El módulo `SymPy` de Python permite la manipulación de matrices y el cálculo de sus autovalores y autovectores:"
   ]
  },
  {
   "cell_type": "code",
   "execution_count": 1,
   "id": "64cb6fc7-287f-4edb-81e8-a0af4560b0b9",
   "metadata": {},
   "outputs": [
    {
     "name": "stdout",
     "output_type": "stream",
     "text": [
      "{4: 1, 3: 1}\n"
     ]
    }
   ],
   "source": [
    "from sympy import Matrix, pprint\n",
    "A = Matrix([[53, -70], [35, -46]]) # Definimos la matriz A\n",
    "v = Matrix([7, 5])                 # Definimos el vector v como matriz columna\n",
    "print(A.eigenvals())               # Mostramos los autovalores de A"
   ]
  },
  {
   "cell_type": "markdown",
   "id": "3359e045-04dd-4127-8f69-dfa0796153dc",
   "metadata": {},
   "source": [
    "Lo que resulta es un un **diccionario** (notar que está delimitado por llaves) cuyas claves son \n",
    "los autovalores de $A$, y como valor encontramos la multiplicidad del autovalor. Recordar que los\n",
    "autovalores son las raíces del polinomio característico, y es posible que un polinomio tenga raíces\n",
    "múltiples. En este caso, como la matriz $A$ es $2 \\times 2$, el polinomio caracteríostico es de segundo grado, por lo que tiene dos raíces, una de ellas (3) es la que hallamos al verificar el autovector.\n",
    "\n",
    "Para hallar los autovalores hacemos lo siguiente:"
   ]
  },
  {
   "cell_type": "code",
   "execution_count": 2,
   "id": "1644ee6a-bc29-47ce-8788-859188dd0e55",
   "metadata": {},
   "outputs": [
    {
     "name": "stdout",
     "output_type": "stream",
     "text": [
      "3\n",
      "⎡7/5⎤\n",
      "⎢   ⎥\n",
      "⎣ 1 ⎦\n",
      "4\n",
      "⎡10/7⎤\n",
      "⎢    ⎥\n",
      "⎣ 1  ⎦\n"
     ]
    }
   ],
   "source": [
    "sol = A.eigenvects()\n",
    "for s in sol:\n",
    "    print(s[0])\n",
    "    pprint(s[2][0])"
   ]
  },
  {
   "cell_type": "markdown",
   "id": "ffc686e4-d8fc-499a-80da-5d6b5bea9156",
   "metadata": {},
   "source": [
    "La salida de `eigenvects()` consiste en una lista con dos elementos, una por cada autovalor. A su vez, cada elemento es una tupla que contiene al autovalor, su multiplicidad, y el autovector asociado, en ese orden.\n",
    "\n",
    "Notar que los autovectores se muestran con una de las componentes con valor $1$. "
   ]
  },
  {
   "cell_type": "markdown",
   "id": "cd491f64-3a4b-473b-a998-ac0b2e60cca0",
   "metadata": {},
   "source": [
    "## Ejercicio 3\n",
    "\n",
    "Si $\\vec{u}$ y $\\vec{v}$ son autovectores de $A$ asociados a $\\lambda$, tenemos que \n",
    "$A \\vec{u} = \\lambda \\vec{u}$ y $A \\vec{v} = \\lambda \\vec{v}$. Entonces:\n",
    "\n",
    "a) \n",
    "$$ A \\cdot(\\vec{u} + \\vec{v}) = A \\vec{u} + A \\vec{v} = \\lambda \\vec{u} + \\lambda \\vec{v} = \n",
    "\\lambda (\\vec{u} + \\vec{v}) $$\n",
    "Por lo tanto $\\vec{u} + \\vec{v}$ es un autovector de $A$ con autovalor asociado $\\lambda$.\n",
    "\n",
    "b)\n",
    "$$ 3 A \\cdot \\vec{v} = 3 \\cdot A \\vec{v} = 3 \\lambda \\vec{v} $$\n",
    "por lo que $\\vec{v}$ es un autovector de $3A$ con autovalor $3 \\lambda$."
   ]
  },
  {
   "cell_type": "markdown",
   "id": "daff6ed2-adfa-431a-b5ac-038ec8cf531f",
   "metadata": {},
   "source": [
    "## Ejercicio 4\n",
    "\n",
    "El teorema del círculo de Gerschgorin establece que los autovalores se hallan en las regiones delimitadas por \n",
    "círculos del plano complejo cuyos centros están sobre el eje real, ubicados en los valores de la diagonal de la matriz, y los radios se hallan, para cada centro, sumando los valores absolutos de los demás elementos de la fila (excepto los valores sobre la diagonal). \n",
    "\n",
    "En este caso, dada la matriz\n",
    "$$ \\begin{bmatrix} 1 & 2 & -1 \\\\ 2 & 7 & 0 \\\\ -1 & 0 & 5 \\end{bmatrix} $$\n",
    "los centros se ubican en los valores $c_1 = 1, c_2 = 7, c_3 = 5$, mientras que los radios para cada centro son:\n",
    "$$ \\begin{align*}\n",
    "r_1 &= |2| + |-1| = 3 \\\\\n",
    "r_2 &= |2| + |0| = 2 \\\\\n",
    "r_3 &= |-1| + |0| = 1\n",
    "\\end{align*} $$\n",
    "Podemos utilizar el módulo `matplotlib`  de Python para graficar estos círculos:"
   ]
  },
  {
   "cell_type": "code",
   "execution_count": 3,
   "id": "daa9907b-5fdf-41ab-b34d-ba118eb34567",
   "metadata": {},
   "outputs": [
    {
     "data": {
      "image/png": "[encoded data removed]",
      "text/plain": [
       "<Figure size 640x480 with 1 Axes>"
      ]
     },
     "metadata": {},
     "output_type": "display_data"
    }
   ],
   "source": [
    "import matplotlib.pyplot as plt\n",
    "import numpy as np\n",
    "\n",
    "fig, ax = plt.subplots()\n",
    "alfa = 0.5 # Transparencia de los círculos\n",
    "c1 = plt.Circle((1, 0), 3, color='tab:blue', alpha = alfa) \n",
    "c2 = plt.Circle((7, 0), 2, color='tab:blue', alpha = alfa) \n",
    "c3 = plt.Circle((5, 0), 1, color='tab:blue', alpha = alfa) \n",
    "ax.add_patch(c1)\n",
    "ax.add_patch(c2)\n",
    "ax.add_patch(c3)\n",
    "ax.set_xlabel(r'Re$(z)$')\n",
    "ax.set_xlabel(r'Im$(z)$')\n",
    "plt.grid()\n",
    "plt.axis('equal')\n",
    "plt.show()"
   ]
  },
  {
   "cell_type": "markdown",
   "id": "8610acbb-3607-4431-ab00-7fb323062f1b",
   "metadata": {},
   "source": [
    "Podemos ver que los círculos definen una región que comprende los valores reales entre $-2$ y $9$, por lo que\n",
    "$$ \\sigma(A) \\subset [-2, 9] $$"
   ]
  },
  {
   "cell_type": "markdown",
   "id": "21c3a19e-c031-4833-8bdd-91a2c4671bc8",
   "metadata": {},
   "source": [
    "## Ejercicio 5\n",
    "\n",
    "Para hallar los autovalores de la matriz $A$, hay que encontrar las raíces del polinomio característico:\n",
    "$$ \n",
    "\\begin{align*} |(A - \\lambda I)| &= \n",
    "\\left| \\begin{bmatrix} -13 & 20 \\\\ -12 & 18 \\end{bmatrix} - \\lambda \\begin{bmatrix} 1 & 0 \\\\ 0 & 1 \\end{bmatrix} \\right| \n",
    "= \\left| \\begin{bmatrix} -13 - \\lambda & 20 \\\\ -12 & 18 - \\lambda \\end{bmatrix} \\right| \\\\\n",
    "&= (-13 - \\lambda) (18 - \\lambda) - 20 (-12) \\\\\n",
    "&= \\lambda^2 - 5 \\lambda + 6 = (\\lambda - 2) (\\lambda - 3)\n",
    "\\end{align*} $$\n",
    "Las raíces resultan, entonces, $\\lambda_1 = 3, \\lambda_2 = 2$, o equivalentemente, el espectro de $A$ es \n",
    "$\\sigma(A) = \\{2, 3\\}$.\n",
    "\n",
    "Para el autovalor $\\lambda_1 = 2$, el autovector correspondiente resulta de resolver el sistema:\n",
    "$$ \\begin{bmatrix} -13 - 2 & 20 \\\\ -12 & 18 - 2 \\end{bmatrix} \\begin{bmatrix} v_x \\\\ v_y \\end{bmatrix} = \n",
    "\\begin{bmatrix} 0 \\\\ 0 \\end{bmatrix} $$\n",
    "que consiste en el sistema de ecuaciones:\n",
    "$$ \\begin{align*}\n",
    "-15 v_x + 20 v_y &= 0 \\\\\n",
    "-12 v_x + 16 v_y &= 0\n",
    "\\end{align*} $$\n",
    "De la primera ecuación tenemos:\n",
    "$$v_x = \\frac{4}{3} v_y $$\n",
    "reemplazando en la segunda:\n",
    "$$ -12 \\frac{4}{3} v_y + 16 v_y = -16 v_y + 16 v_y = 0$$\n",
    "Se cumple para cualquier valor de $v_y$, por lo que podemos elegir como solución $v_y = 3, v_x = 4$ y nuestro autovector correspondiente al autovalor $\\lambda_1 = 2$ resulta $\\vec{v}_1 = [4, 3]^{\\intercal}$. Del mismo modo, para el autovalor\n",
    "$\\lambda_2 = 3$ el autovector asociado es $\\vec{v}_2 = [5, 4]^{\\intercal}$.\n",
    "\n",
    "Nuevamente, podemos hacer uso del módulo `SymPy` para que haga los cálculos por nosotros:"
   ]
  },
  {
   "cell_type": "code",
   "execution_count": 4,
   "id": "21295efc-e496-4286-83aa-ebc20e63b94b",
   "metadata": {},
   "outputs": [
    {
     "name": "stdout",
     "output_type": "stream",
     "text": [
      "Autovalor 2, autovector:\n",
      "⎡4/3⎤\n",
      "⎢   ⎥\n",
      "⎣ 1 ⎦\n",
      "Autovalor 3, autovector:\n",
      "⎡5/4⎤\n",
      "⎢   ⎥\n",
      "⎣ 1 ⎦\n"
     ]
    }
   ],
   "source": [
    "from sympy import Matrix, pprint\n",
    "A = Matrix([[-13, 20], [-12, 18]])\n",
    "sol = A.eigenvects()\n",
    "for s in sol:\n",
    "    print(f'Autovalor {s[0]}, autovector:')\n",
    "    pprint(s[2][0])\n"
   ]
  }
 ],
 "metadata": {
  "kernelspec": {
   "display_name": "Python 3 (ipykernel)",
   "language": "python",
   "name": "python3"
  },
  "language_info": {
   "codemirror_mode": {
    "name": "ipython",
    "version": 3
   },
   "file_extension": ".py",
   "mimetype": "text/x-python",
   "name": "python",
   "nbconvert_exporter": "python",
   "pygments_lexer": "ipython3",
   "version": "3.8.16"
  }
 },
 "nbformat": 4,
 "nbformat_minor": 5
}
