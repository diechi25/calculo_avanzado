{
 "cells": [
  {
   "cell_type": "markdown",
   "id": "f3810fcb-91ba-4885-b653-d079a803e9c8",
   "metadata": {},
   "source": [
    "# Práctica Nro. 2"
   ]
  },
  {
   "cell_type": "markdown",
   "id": "245f28f3-c1b8-49f1-bd4a-6800a917f009",
   "metadata": {},
   "source": [
    "En esta práctica se utiliza el módulo sympy para la manipulación de números complejos y operaciones de cálculo diferencial e integral. Se puede obtener ayuda en:\n",
    "- [Evaluación numérica](https://docs.sympy.org/latest/modules/evalf.html)\n",
    "- [Funciones elementales con números complejos](https://docs.sympy.org/latest/modules/functions/elementary.html)\n",
    "- [Cálculo diferencial e integral](https://docs.sympy.org/latest/tutorials/intro-tutorial/calculus.html)"
   ]
  },
  {
   "cell_type": "markdown",
   "id": "1613b6f8-a51f-477a-80d4-b4d7fb8540d7",
   "metadata": {},
   "source": [
    "Primero importamos los módulos necesarios."
   ]
  },
  {
   "cell_type": "code",
   "execution_count": 2,
   "id": "7c95acb9-9689-49bd-a525-6727eb8ac114",
   "metadata": {
    "tags": []
   },
   "outputs": [],
   "source": [
    "from sympy import *\n",
    "from sympy import re, im, I, symbols"
   ]
  },
  {
   "cell_type": "markdown",
   "id": "47716769-43a0-40d5-a7e5-6c4921c39cf8",
   "metadata": {
    "tags": []
   },
   "source": [
    "## Ejercicio 2"
   ]
  },
  {
   "cell_type": "markdown",
   "id": "4bfd233d-be5e-4230-8b3a-53857028b1e7",
   "metadata": {},
   "source": [
    "Primero definimos los símbolos que vamos a utilizar y las funciones en términos de $u$ y $v$: $$f(x + i y) = u(x, y) + i v(x, y)$$"
   ]
  },
  {
   "cell_type": "code",
   "execution_count": 3,
   "id": "7fbeb68f-bc8b-4e22-aeea-d51b0152a91d",
   "metadata": {
    "tags": []
   },
   "outputs": [],
   "source": [
    "x, y, z = symbols('x y z', real=True)\n",
    "def f(x, y):\n",
    "    return 2 * exp(2 * x + 2 * y * I)\n",
    "\n",
    "def u(x, y):\n",
    "    return re(f(x, y))\n",
    "\n",
    "def v(x, y):\n",
    "    return im(f(x, y))"
   ]
  },
  {
   "cell_type": "markdown",
   "id": "4b2dcac0-1508-4933-aedc-b6fc3b45ba28",
   "metadata": {},
   "source": [
    "Verificamos que obtenemos correctamente ambas funciones:"
   ]
  },
  {
   "cell_type": "code",
   "execution_count": 4,
   "id": "43ed1e73-d084-4bec-b045-828f7612490d",
   "metadata": {
    "tags": []
   },
   "outputs": [
    {
     "data": {
      "text/latex": [
       "$\\displaystyle 2 e^{2 x} \\cos{\\left(2 y \\right)}$"
      ],
      "text/plain": [
       "2*exp(2*x)*cos(2*y)"
      ]
     },
     "execution_count": 4,
     "metadata": {},
     "output_type": "execute_result"
    }
   ],
   "source": [
    "u(x, y)"
   ]
  },
  {
   "cell_type": "code",
   "execution_count": 5,
   "id": "1c9c39d1-adde-40cd-8552-94fa964982bf",
   "metadata": {
    "tags": []
   },
   "outputs": [
    {
     "data": {
      "text/latex": [
       "$\\displaystyle 2 e^{2 x} \\sin{\\left(2 y \\right)}$"
      ],
      "text/plain": [
       "2*exp(2*x)*sin(2*y)"
      ]
     },
     "execution_count": 5,
     "metadata": {},
     "output_type": "execute_result"
    }
   ],
   "source": [
    "v(x, y)"
   ]
  },
  {
   "cell_type": "markdown",
   "id": "59a1c779-c9d9-40df-9ee5-8b5f79b3df6e",
   "metadata": {},
   "source": [
    "Comprobamos que se satisfacen las ecuaciones de Cauchy-Riemann:\n",
    "$$ \\frac{\\partial u(x, y)}{\\partial x} - \\frac{\\partial v(x, y)}{\\partial y} = 0$$\n",
    "y\n",
    "$$ \\frac{\\partial u(x, y)}{\\partial y} + \\frac{\\partial v(x, y)}{\\partial x} = 0$$"
   ]
  },
  {
   "cell_type": "code",
   "execution_count": 6,
   "id": "74f18e2c-ae02-4e24-802b-309ebc057f52",
   "metadata": {
    "tags": []
   },
   "outputs": [
    {
     "data": {
      "text/latex": [
       "$\\displaystyle 0$"
      ],
      "text/plain": [
       "0"
      ]
     },
     "execution_count": 6,
     "metadata": {},
     "output_type": "execute_result"
    }
   ],
   "source": [
    "diff(u(x, y), x) - diff(v(x, y), y)"
   ]
  },
  {
   "cell_type": "code",
   "execution_count": 7,
   "id": "7f38c6f7-99e8-4170-b5ed-95d0e9347b91",
   "metadata": {
    "tags": []
   },
   "outputs": [
    {
     "data": {
      "text/latex": [
       "$\\displaystyle 0$"
      ],
      "text/plain": [
       "0"
      ]
     },
     "execution_count": 7,
     "metadata": {},
     "output_type": "execute_result"
    }
   ],
   "source": [
    "diff(u(x, y), y) + diff(v(x, y), x)"
   ]
  },
  {
   "cell_type": "markdown",
   "id": "8c738750-f242-47f6-af1a-6c23dfd6c7a2",
   "metadata": {},
   "source": [
    "Dado que se verifican las ecuaciones de Cauchy-Riemann, la función $f$ es analítica y por lo tanto su integración  no depende de la trayectoria que une los límites de integración, sino solamente de los valores de estos límites. Podemos hacer la integración como en el caso de las funciones de variable real, obteniendo su primitiva y evaluando en los extremos de integración:"
   ]
  },
  {
   "cell_type": "code",
   "execution_count": 8,
   "id": "c147e94e-9df3-4018-b457-724db7e147ea",
   "metadata": {
    "tags": []
   },
   "outputs": [
    {
     "data": {
      "text/latex": [
       "$\\displaystyle - e^{2} + e^{2 i}$"
      ],
      "text/plain": [
       "-exp(2) + exp(2*I)"
      ]
     },
     "execution_count": 8,
     "metadata": {},
     "output_type": "execute_result"
    }
   ],
   "source": [
    "integral = integrate(2 * exp(2 * z), (z, 1, I))\n",
    "integral"
   ]
  },
  {
   "cell_type": "code",
   "execution_count": 9,
   "id": "8346b975-794b-4cf3-b5b1-73831e22854f",
   "metadata": {
    "tags": []
   },
   "outputs": [
    {
     "name": "stdout",
     "output_type": "stream",
     "text": [
      "-exp(2) + cos(2) + i sin(2)\n"
     ]
    }
   ],
   "source": [
    "print(f\"{re(integral)} + i {im(integral)}\")"
   ]
  },
  {
   "cell_type": "markdown",
   "id": "deb7ccc8-0d6c-4a58-be8b-309f9d51934c",
   "metadata": {},
   "source": [
    "## Ejercicio 3"
   ]
  },
  {
   "cell_type": "markdown",
   "id": "61b911f7-82ec-4bed-9bf6-c5a2051dfcfa",
   "metadata": {},
   "source": [
    "Primero definimos los símbolos que vamos a usar en el problema, y luego definimos las funciones $z = x + i y$ y $f(z) = \\bar{z}^2$:"
   ]
  },
  {
   "cell_type": "code",
   "execution_count": 10,
   "id": "76c5fc79-e2d7-421e-8168-a2ad76c320e1",
   "metadata": {
    "tags": []
   },
   "outputs": [],
   "source": [
    "x, y, z, t = symbols('x y z t', real=True)"
   ]
  },
  {
   "cell_type": "code",
   "execution_count": 11,
   "id": "fd8dae7d-2c67-4146-ac48-3aba5eafb20b",
   "metadata": {
    "tags": []
   },
   "outputs": [],
   "source": [
    "def z(x, y):\n",
    "    return x + I * y\n",
    "\n",
    "def f(z):\n",
    "    return conjugate(z)**2"
   ]
  },
  {
   "cell_type": "code",
   "execution_count": 12,
   "id": "6d3073c9-128e-40ed-8031-d9d527e12b95",
   "metadata": {
    "tags": []
   },
   "outputs": [
    {
     "data": {
      "text/latex": [
       "$\\displaystyle x + i y$"
      ],
      "text/plain": [
       "x + I*y"
      ]
     },
     "execution_count": 12,
     "metadata": {},
     "output_type": "execute_result"
    }
   ],
   "source": [
    "z(x, y)"
   ]
  },
  {
   "cell_type": "code",
   "execution_count": 13,
   "id": "2a8a8271-50b6-4c5f-8ba3-ab0f5cac3503",
   "metadata": {
    "tags": []
   },
   "outputs": [
    {
     "data": {
      "text/latex": [
       "$\\displaystyle \\left(x - i y\\right)^{2}$"
      ],
      "text/plain": [
       "(x - I*y)**2"
      ]
     },
     "execution_count": 13,
     "metadata": {},
     "output_type": "execute_result"
    }
   ],
   "source": [
    "f(z(x, y))"
   ]
  },
  {
   "cell_type": "markdown",
   "id": "a528d2e0-fbf6-452c-aff8-204ffcb1716b",
   "metadata": {},
   "source": [
    "### Parte a)\n",
    "\n",
    "Como $\\bar{z}^2$ no es analítica, suponemos que el valor de la integral dependerá de la trayectoria elegida para unir los extremos de integración. El segmento de recta que une $(1, 0)$ con $(0, 1)$ en el diagrama de Argand $(x, y)$ es\n",
    "$$ y = 1 - x $$\n",
    "por lo tanto tendremos:\n",
    "$$ z = x + (1 - x) i$$ \n",
    "y \n",
    "$$ dz = dx - i dx = (1 - i) dx$$"
   ]
  },
  {
   "cell_type": "code",
   "execution_count": 14,
   "id": "f033d264-f31c-4844-9335-8db8dc19edc8",
   "metadata": {
    "tags": []
   },
   "outputs": [
    {
     "data": {
      "text/latex": [
       "$\\displaystyle 1 - i$"
      ],
      "text/plain": [
       "1 - I"
      ]
     },
     "execution_count": 14,
     "metadata": {},
     "output_type": "execute_result"
    }
   ],
   "source": [
    "dz = diff(z(x, 1-x), x)\n",
    "dz"
   ]
  },
  {
   "cell_type": "markdown",
   "id": "d5f3a4cb-84d5-4cdb-8ca1-66b195aa9891",
   "metadata": {},
   "source": [
    "Ahora las funciones $u$ y $v$, al estar definidas sobre el segmento de recta, quedan parametrizadas solo con $x$:"
   ]
  },
  {
   "cell_type": "code",
   "execution_count": 15,
   "id": "e861e41d-4f2e-42d5-82c1-25d439ec3348",
   "metadata": {
    "tags": []
   },
   "outputs": [],
   "source": [
    "def u(x):\n",
    "    return re(f(z(x, 1-x)) * dz)\n",
    "\n",
    "def v(x):\n",
    "    return im(f(z(x, 1-x)) * dz)"
   ]
  },
  {
   "cell_type": "code",
   "execution_count": 16,
   "id": "5d9d3417-97e8-4f57-863e-45aefd8a2fc3",
   "metadata": {
    "tags": []
   },
   "outputs": [
    {
     "data": {
      "text/latex": [
       "$\\displaystyle x^{2} + 2 x \\left(x - 1\\right) - \\left(x - 1\\right)^{2}$"
      ],
      "text/plain": [
       "x**2 + 2*x*(x - 1) - (x - 1)**2"
      ]
     },
     "execution_count": 16,
     "metadata": {},
     "output_type": "execute_result"
    }
   ],
   "source": [
    "u(x)"
   ]
  },
  {
   "cell_type": "code",
   "execution_count": 17,
   "id": "eba34a07-ff53-4963-b321-ae53129166d9",
   "metadata": {
    "tags": []
   },
   "outputs": [
    {
     "data": {
      "text/latex": [
       "$\\displaystyle - x^{2} + 2 x \\left(x - 1\\right) + \\left(x - 1\\right)^{2}$"
      ],
      "text/plain": [
       "-x**2 + 2*x*(x - 1) + (x - 1)**2"
      ]
     },
     "execution_count": 17,
     "metadata": {},
     "output_type": "execute_result"
    }
   ],
   "source": [
    "v(x)"
   ]
  },
  {
   "cell_type": "markdown",
   "id": "d220155b-0715-47ea-9073-0dd851cb5941",
   "metadata": {},
   "source": [
    "La integral de línea se resuelve entonces como es usual:\n",
    "$$\\int_0^i \\bar{z}^2 dz = \\int_1^0 u(x) dx + i \\int_1^0 v(x) dx $$"
   ]
  },
  {
   "cell_type": "code",
   "execution_count": 18,
   "id": "1abd4e28-6e81-4c6f-a0fa-f3f0b07a4c85",
   "metadata": {
    "tags": []
   },
   "outputs": [
    {
     "data": {
      "text/latex": [
       "$\\displaystyle \\frac{1}{3} + \\frac{i}{3}$"
      ],
      "text/plain": [
       "1/3 + I/3"
      ]
     },
     "execution_count": 18,
     "metadata": {},
     "output_type": "execute_result"
    }
   ],
   "source": [
    "resultado = integrate(u(x), (x, 1, 0)) + I * integrate(v(x), (x, 1, 0))\n",
    "resultado"
   ]
  },
  {
   "cell_type": "markdown",
   "id": "7d149f8f-b0a0-44bc-a36f-b53d57e3b3ea",
   "metadata": {},
   "source": [
    "### Parte b)\n",
    "\n",
    "Ahora utilizamos un recorrido sobre un arco de círculo, por lo que es conveniente expresar la trayectoria en coordenadas polares $(r, \\theta)$ (representando $\\theta$ por la letra `t`en el código):"
   ]
  },
  {
   "cell_type": "code",
   "execution_count": 19,
   "id": "41961891-e659-4f7e-aa7c-98af548d7f63",
   "metadata": {
    "tags": []
   },
   "outputs": [
    {
     "data": {
      "text/latex": [
       "$\\displaystyle i e^{i t}$"
      ],
      "text/plain": [
       "I*exp(I*t)"
      ]
     },
     "execution_count": 19,
     "metadata": {},
     "output_type": "execute_result"
    }
   ],
   "source": [
    "def z(t):\n",
    "    return exp(I * t)\n",
    "\n",
    "dzdt = diff(z(t), t)\n",
    "dzdt"
   ]
  },
  {
   "cell_type": "code",
   "execution_count": 20,
   "id": "d2fdab22-24ad-4c60-815d-d86073225f64",
   "metadata": {
    "tags": []
   },
   "outputs": [
    {
     "data": {
      "text/latex": [
       "$\\displaystyle e^{- 2 i t}$"
      ],
      "text/plain": [
       "exp(-2*I*t)"
      ]
     },
     "execution_count": 20,
     "metadata": {},
     "output_type": "execute_result"
    }
   ],
   "source": [
    "f(z(t))"
   ]
  },
  {
   "cell_type": "markdown",
   "id": "9a3bb733-5d7f-41b5-8a36-9e74a5df277f",
   "metadata": {},
   "source": [
    "La integral de línea se resuelve integrando sobre $\\theta$ en el intervalo $(0, \\pi/2)$:\n",
    "$$ \\int_0^i \\bar{z} dz = \\int_0^{\\pi/2} f(z) \\frac{dz}{d \\theta} d\\theta $$ "
   ]
  },
  {
   "cell_type": "code",
   "execution_count": 21,
   "id": "7aa6e115-6159-416f-a1c6-e3dcc34841cf",
   "metadata": {
    "tags": []
   },
   "outputs": [
    {
     "data": {
      "text/latex": [
       "$\\displaystyle 1 + i$"
      ],
      "text/plain": [
       "1 + I"
      ]
     },
     "execution_count": 21,
     "metadata": {},
     "output_type": "execute_result"
    }
   ],
   "source": [
    "integrate(f(z(t)) * dzdt, (t, 0, pi/2))"
   ]
  },
  {
   "cell_type": "markdown",
   "id": "cb296142-848d-4778-bcdf-45d6f408f133",
   "metadata": {},
   "source": [
    "Como podemos ver, los resultados obtenidos de la integral en las partes a) y b) difieren, lo cual era esperable por no ser analítica la función $f(z)$."
   ]
  },
  {
   "cell_type": "markdown",
   "id": "4d335711-1ed2-4304-a233-2df43fe085dd",
   "metadata": {},
   "source": [
    "## Ejercicio 4"
   ]
  },
  {
   "cell_type": "markdown",
   "id": "239ee208-060b-4fc4-8d83-76538cb70a75",
   "metadata": {},
   "source": [
    "Tal como en el caso real, podemos probar el enunciado considerando que dado $\\varepsilon > 0$, podemos encontrar $N_1$ y $N_2$ tal que:\n",
    "$$ n > N_1 \\rightarrow |L_1 - a_n| < \\frac{\\varepsilon}{2} $$\n",
    "y\n",
    "$$ n > N_2 \\rightarrow |L_2 - a_n| < \\frac{\\varepsilon}{2} $$\n",
    "\n",
    "Entonces, haciendo $N = \\max {N_1, N_2}$, podemos ver que\n",
    "$$ n > N \\rightarrow |L_1 - a_n| + |a_n -L_2| < \\frac{\\varepsilon}{2} + \\frac{\\varepsilon}{2} \\qquad (1.1)$$\n",
    "\n",
    "Teniendo en cuenta la desigualdad triangular, que para vectores es:\n",
    "$$ |\\vec{x}| - |\\vec{y}| \\leq |\\vec{x} + \\vec{y}| \\leq |\\vec{x}| + |\\vec{y}| $$\n",
    "y para números complejos es:\n",
    "$$|z_1| - |z_2| \\leq |z_1 + z_2| \\leq |z_1| + |z_2| $$\n",
    "podemos expresar:\n",
    "$$|L_1 - L_2| = |(L_1 - a_n) + (a_n - L_2)| \\leq |L_1 - a_n| + |a_n - L_2| $$\n",
    "\n",
    "Entonces, la expresión $(1.1)$ resulta:\n",
    "$$ n > N \\rightarrow |L_1 - L_2| < \\varepsilon \\qquad (1.2) $$\n",
    "\n",
    "Dado que $\\varepsilon > 0$ se elige arbitrariamente, la ecuación $(1.2)$ nos dice que para un $n$ suficientemente grande, $|L_1 - L_2|$ es menor que **cualquier** número positivo dado. Entonces, como $|L_1 - L_2|$ es una constante independiente de $n$, podemos concluir que como $|L_1 - L_2|$ es menor que cualquier número positivo elegido arbitrariamente pequeño y dado que $|L_1 - L_2| > 0$, resulta que $|L_1 - L_2| = 0$ o $L_1 = L_2$."
   ]
  }
 ],
 "metadata": {
  "kernelspec": {
   "display_name": "Python 3 (ipykernel)",
   "language": "python",
   "name": "python3"
  },
  "language_info": {
   "codemirror_mode": {
    "name": "ipython",
    "version": 3
   },
   "file_extension": ".py",
   "mimetype": "text/x-python",
   "name": "python",
   "nbconvert_exporter": "python",
   "pygments_lexer": "ipython3",
   "version": "3.8.16"
  }
 },
 "nbformat": 4,
 "nbformat_minor": 5
}
