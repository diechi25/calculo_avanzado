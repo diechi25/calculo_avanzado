{
 "cells": [
  {
   "cell_type": "markdown",
   "id": "f3810fcb-91ba-4885-b653-d079a803e9c8",
   "metadata": {},
   "source": [
    "# Práctica Nro. 1"
   ]
  },
  {
   "cell_type": "markdown",
   "id": "245f28f3-c1b8-49f1-bd4a-6800a917f009",
   "metadata": {},
   "source": [
    "En esta práctica se utiliza el módulo sympy para la manipulación de números complejos y operaciones de cálculo diferencial e integral. Se puede obtener ayuda en:\n",
    "- [Evaluación numérica](https://docs.sympy.org/latest/modules/evalf.html)\n",
    "- [Funciones elementales con números complejos](https://docs.sympy.org/latest/modules/functions/elementary.html)\n",
    "- [Cálculo diferencial e integral](https://docs.sympy.org/latest/tutorials/intro-tutorial/calculus.html)"
   ]
  },
  {
   "cell_type": "markdown",
   "id": "1613b6f8-a51f-477a-80d4-b4d7fb8540d7",
   "metadata": {},
   "source": [
    "Primero importamos los módulos necesarios."
   ]
  },
  {
   "cell_type": "code",
   "execution_count": 1,
   "id": "7c95acb9-9689-49bd-a525-6727eb8ac114",
   "metadata": {
    "tags": []
   },
   "outputs": [
    {
     "ename": "ModuleNotFoundError",
     "evalue": "No module named 'sympy'",
     "output_type": "error",
     "traceback": [
      "\u001b[0;31m---------------------------------------------------------------------------\u001b[0m",
      "\u001b[0;31mModuleNotFoundError\u001b[0m                       Traceback (most recent call last)",
      "Cell \u001b[0;32mIn [1], line 4\u001b[0m\n\u001b[1;32m      2\u001b[0m \u001b[38;5;28;01mimport\u001b[39;00m \u001b[38;5;21;01mmatplotlib\u001b[39;00m\u001b[38;5;21;01m.\u001b[39;00m\u001b[38;5;21;01mpyplot\u001b[39;00m \u001b[38;5;28;01mas\u001b[39;00m \u001b[38;5;21;01mplt\u001b[39;00m\n\u001b[1;32m      3\u001b[0m \u001b[38;5;28;01mimport\u001b[39;00m \u001b[38;5;21;01mnumpy\u001b[39;00m \u001b[38;5;28;01mas\u001b[39;00m \u001b[38;5;21;01mnp\u001b[39;00m\n\u001b[0;32m----> 4\u001b[0m \u001b[38;5;28;01mfrom\u001b[39;00m \u001b[38;5;21;01msympy\u001b[39;00m \u001b[38;5;28;01mimport\u001b[39;00m \u001b[38;5;241m*\u001b[39m\n\u001b[1;32m      5\u001b[0m \u001b[38;5;28;01mfrom\u001b[39;00m \u001b[38;5;21;01msympy\u001b[39;00m \u001b[38;5;28;01mimport\u001b[39;00m re, im, I, symbols\n",
      "\u001b[0;31mModuleNotFoundError\u001b[0m: No module named 'sympy'"
     ]
    }
   ],
   "source": [
    "import math\n",
    "import matplotlib.pyplot as plt\n",
    "import numpy as np\n",
    "from sympy import *\n",
    "from sympy import re, im, I, symbols"
   ]
  },
  {
   "cell_type": "markdown",
   "id": "989c756d-ccdd-4a39-b1ba-89fa1499a1b1",
   "metadata": {},
   "source": [
    "## Ejercicio 1"
   ]
  },
  {
   "cell_type": "markdown",
   "id": "1e3ff3a0-68c0-451e-93b7-05dc9da9b8c0",
   "metadata": {},
   "source": [
    "$i^2 = -1$ por definición de $i$. Pero si utilizamos la regla de multiplicación de números complejos a partir del producto de números reales:\n",
    "$$(a + ib) ( c + id) = (ac-bd) + i(bc + ad)$$\n",
    "y considerando que $i = (0 + 1 i)$ (esto es: $a = 0, b=1, c=0, d=1$):\n",
    "$$ \\begin{align*}\n",
    "i^2 &= i i \\\\\n",
    "    &= (0 + 1i)(0 + 1i) \\\\\n",
    "    &= (0 \\cdot 0 - 1 \\cdot 1) + i (1 \\cdot 0 + 0 \\cdot 1) \\\\\n",
    "    &= -1 + i 0 = -1\n",
    "    \\end{align*} $$\n",
    "    \n",
    "Usando este resultado podemos seguir con el resto de las potencias:\n",
    "$$ i^3 = i^2 i = (-1) i = -i$$\n",
    "$$ i^4 = i^2 i^2 = (-1)(-1) = 1 $$\n",
    "$$ i^5 = i^4 i = i $$\n",
    "\n",
    "Para las potencias inversas multiplicamos el numerador y denominador por el conjugado del denominador, de modo de eliminar el número complejo en el denominador:\n",
    "$$ i^{-1} = \\frac{1}{i} = \\frac{1 \\bar{i}}{i \\bar{i}} = \\frac{1 (-i)}{i (-i)} = \\frac{(1 + 0i)(0 - i)}{(0 + i)(0 -i)} = \\frac{1 \\cdot 0 + 0 \\cdot 1}{0^2 + 1^2} + i \\frac{0 \\cdot 0 - 1 \\cdot 1}{0^2 + 1^2} = 0 - i = -i $$\n",
    "\n",
    "A partir del resultado anterior:\n",
    "$$ \\frac{1}{i^2} = \\frac{1}{i} \\cdot \\frac{1}{i} = (-i)(-i) = (-1)i \\cdot (-1) i = i^2 = -1 $$\n",
    "$$ \\frac{1}{i^3} = \\frac{1}{i^2} \\cdot \\frac{1}{i} = (-1)(-i) = i $$\n",
    "$$ \\frac{1}{i^4} = \\frac{1}{i^2} \\cdot \\frac{1}{i^2} = (-1)(-1) = 1 $$"
   ]
  },
  {
   "cell_type": "markdown",
   "id": "de0a184b-9022-498e-9bc8-2983158e83dc",
   "metadata": {},
   "source": [
    "Python puede manipular números complejos en forma nativa, por lo que podemos hacer las operaciones anteriores en forma computacional:"
   ]
  },
  {
   "cell_type": "code",
   "execution_count": null,
   "id": "9fd7009a-7332-42af-91b1-268cdc8766d3",
   "metadata": {
    "tags": []
   },
   "outputs": [],
   "source": [
    "print(f\"i^2 = {(0 + I)**2}\")"
   ]
  },
  {
   "cell_type": "code",
   "execution_count": null,
   "id": "64edaa65-1704-4ed2-b4cb-30acde1b8526",
   "metadata": {
    "tags": []
   },
   "outputs": [],
   "source": [
    "for n in range(3, 6):\n",
    "    mensaje = f\"i^{n} = {(0 + I)**n}\"\n",
    "    print(mensaje)"
   ]
  },
  {
   "cell_type": "code",
   "execution_count": null,
   "id": "7ba8425a-7c31-46d0-b0f9-c331ccff013a",
   "metadata": {
    "tags": []
   },
   "outputs": [],
   "source": [
    "for n in range(1, 5):\n",
    "    mensaje = f\"1 / i^{n} = i^({-n}) = {(0 + I)**(-n)}\"\n",
    "    print(mensaje)"
   ]
  },
  {
   "cell_type": "markdown",
   "id": "47716769-43a0-40d5-a7e5-6c4921c39cf8",
   "metadata": {
    "tags": []
   },
   "source": [
    "## Ejercicio 2"
   ]
  },
  {
   "cell_type": "markdown",
   "id": "f2172aef-22fc-4586-8443-214a599bb7cd",
   "metadata": {},
   "source": [
    "En este ejercicio vamos a utilizar las funciones `abs(z)` y `arg(z)` de SymPy para obtener el módulo y el argumento del número complejo $z$, respectivamente. Para el primer caso, en que $z = z_1 = 1 + i$:"
   ]
  },
  {
   "cell_type": "code",
   "execution_count": null,
   "id": "f3cb845f-a5c0-4b6b-86a5-117388e501c4",
   "metadata": {
    "tags": []
   },
   "outputs": [],
   "source": [
    "z1 = 1 + I\n",
    "print(f\"|z| = {abs(z1)}, arg(z) = {arg(z1)}\")\n",
    "print(f\"|z i| = {abs(z1 * I)}, arg(z i) = {arg(z1 * I)}\")\n",
    "print(f\"arg(z1 i) - arg(z1) = {arg(z1 * I)} - {arg(z1)} = {arg(z1 * I) - arg(z1)}\")"
   ]
  },
  {
   "cell_type": "markdown",
   "id": "6a5c578f-a2b4-46d7-85a5-2b2d75aeca24",
   "metadata": {},
   "source": [
    "Podemos repetir el cálculo para los otros dos valores del ejercicio, pero aprovechamos que Python es un lenguaje de programación para repetir código y escribir menos. Además, pasamos a una representación en grados (en vez de radianes) para los argumentos de los complejos, de modo de facilitar la representación gráfica."
   ]
  },
  {
   "cell_type": "code",
   "execution_count": null,
   "id": "d5878755-5842-494b-bd6a-5f3db8b59d88",
   "metadata": {
    "tags": []
   },
   "outputs": [],
   "source": [
    "zetas = [1 + I, -1 + 2 * I, 4 - 3 * I]\n",
    "for z in zetas:\n",
    "    print(f\" z = {z}\")\n",
    "    print(f\"|z| = {abs(z)}, arg(z) = {math.degrees(arg(z))}\")\n",
    "    print(f\"|z i| = {abs(z * I)}, arg(z i) = {math.degrees(arg(z * I))}\")\n",
    "    delta_arg = arg(z * I) - arg(z)\n",
    "    print(f\"arg(z i) - arg(z) = {math.degrees(delta_arg)}\")\n",
    "    print(30 * \"-\")"
   ]
  },
  {
   "cell_type": "markdown",
   "id": "28e4bd0a-f0f5-43a6-838f-72415fde097f",
   "metadata": {},
   "source": [
    "## Ejercicio 3"
   ]
  },
  {
   "cell_type": "markdown",
   "id": "fe415d66-18b9-4a3e-9f67-978354e49f8c",
   "metadata": {},
   "source": [
    "Es simple realizar las operaciones aritméticas con los valores indicados para $z_1$ y $z_2$. Podemos aprovechar las capacidades simbólicas del módulo SymPy definiendo ambas cantidades como números abstractos y operando sobre ellas. En Python, el operador `==` devuelve `True` si ambos argumentos (a izquierda y derecha), son iguales."
   ]
  },
  {
   "cell_type": "code",
   "execution_count": null,
   "id": "05f7b62f-b277-4f46-bc0f-6438631c2e29",
   "metadata": {
    "tags": []
   },
   "outputs": [],
   "source": [
    "a, b, c, d = symbols('a b c d', real=True)\n",
    "z1, z2 = a + b * I, c + d * I"
   ]
  },
  {
   "cell_type": "code",
   "execution_count": null,
   "id": "bfb582d7-5f19-4b72-a082-8c85730ed184",
   "metadata": {
    "tags": []
   },
   "outputs": [],
   "source": [
    "conjugate(z1 + z2) == conjugate(z1) + conjugate(z2)"
   ]
  },
  {
   "cell_type": "code",
   "execution_count": null,
   "id": "a6f9ab0a-9641-4799-9bb8-82898cca65a5",
   "metadata": {
    "tags": []
   },
   "outputs": [],
   "source": [
    "conjugate(z1 - z2) == conjugate(z1) - conjugate(z2)"
   ]
  },
  {
   "cell_type": "code",
   "execution_count": null,
   "id": "b03f654e-9038-45cb-985a-8729751d7ae3",
   "metadata": {
    "tags": []
   },
   "outputs": [],
   "source": [
    "conjugate(z1 * z2) == conjugate(z1) * conjugate(z2)"
   ]
  },
  {
   "cell_type": "code",
   "execution_count": null,
   "id": "6a782007-78f3-4585-a817-da77d05d84ec",
   "metadata": {
    "tags": []
   },
   "outputs": [],
   "source": [
    "conjugate(z1 / z2) == conjugate(z1) / conjugate(z2)"
   ]
  },
  {
   "cell_type": "markdown",
   "id": "648f41a6-7044-45a5-b1e8-f050d4e1cb85",
   "metadata": {},
   "source": [
    "## Ejercicio 4"
   ]
  },
  {
   "cell_type": "markdown",
   "id": "522af124-b8cf-4933-9d81-013af42e0bd8",
   "metadata": {},
   "source": [
    "Primero calculamos el cociente entre $z_1$ y $z_2$, recordando que si queremos hacerlo manualmente, debemos multiplicar numerador y denominador por el conjugado del denominador. Python puede hacer esto por nosotros."
   ]
  },
  {
   "cell_type": "code",
   "execution_count": null,
   "id": "1c0b5354-72f1-4e43-a36c-473757a4d442",
   "metadata": {
    "tags": []
   },
   "outputs": [],
   "source": [
    "z1 = 3 + 5 * I\n",
    "z2 = 7 + 9 * I\n",
    "z12 = z1 / z2\n",
    "z12"
   ]
  },
  {
   "cell_type": "markdown",
   "id": "33f2821a-aaeb-4ffe-920f-927ccebda2fb",
   "metadata": {},
   "source": [
    "Las funciones `re()` e `im()` de SymPy nos devuelven la parte real e imaginaria del argumento complejo que le pasemos:"
   ]
  },
  {
   "cell_type": "code",
   "execution_count": null,
   "id": "c8a477a0-fe9d-4331-aa81-4ee2e502e5cc",
   "metadata": {
    "tags": []
   },
   "outputs": [],
   "source": [
    "a = re(z12)\n",
    "b = im(z12)\n",
    "a, b"
   ]
  },
  {
   "cell_type": "markdown",
   "id": "dae51d02-3eaf-4b9f-80a3-d3f02c91cd82",
   "metadata": {},
   "source": [
    "## Ejercicio 5"
   ]
  },
  {
   "cell_type": "markdown",
   "id": "a0a1a83f-6e0c-4fab-8712-360ed75f0746",
   "metadata": {},
   "source": [
    "En este ejercicio, cada una de las regiones en el diagrama de Argand está limitada por una circunferencia:\n",
    "$$ \\begin{cases}\n",
    "|z - (1 + i)| < 2&, \\qquad C_1 \\\\\n",
    "|z - 2 i | > \\frac{3}{2}&, \\qquad C_2\n",
    "\\end{cases}$$\n",
    "$C_1$ es la región **interior** a la circunferencia de radio 2 y centrada en $(1 + i)$, mientras que $C_2$ es la región **exterior** a la circunferencia centrada en $2 i$ y de radio $3/2$. Por lo tanto, la solución es la intersección de ambas regiones (la más oscura del siguiente gráfico):"
   ]
  },
  {
   "cell_type": "code",
   "execution_count": null,
   "id": "371aeef5-8bdb-44db-95b9-78df45c049a0",
   "metadata": {
    "tags": []
   },
   "outputs": [],
   "source": [
    "xinf, xsup = -3, 4\n",
    "yinf, ysup = -3, 5\n",
    "Rect = plt.Rectangle((xinf, yinf), \n",
    "                     xsup-xinf, ysup-yinf, \n",
    "                     color='blue', alpha=0.2) # Todo el \"espacio\"\n",
    "C_1 = plt.Circle((1, 0), 2, color='red', linewidth=3, alpha=0.2) # Región interna\n",
    "C_2 = plt.Circle((0, 2), 2, color='white', linewidth=3, alpha=0.5) # Región externa\n",
    "fig = plt.figure()\n",
    "ax = fig.add_subplot(aspect='equal')\n",
    "ax.add_patch(Rect)\n",
    "ax.add_patch(C_1)\n",
    "ax.add_patch(C_2)\n",
    "plt.plot(1, 0, 'o')\n",
    "plt.plot(0, 2, 'o')\n",
    "plt.axhline()\n",
    "plt.axvline()\n",
    "plt.xlim([xinf, xsup])\n",
    "plt.ylim([yinf, ysup])"
   ]
  },
  {
   "cell_type": "markdown",
   "id": "358573a0-3338-4bfd-bc3e-22b247c8df39",
   "metadata": {},
   "source": [
    "## Ejercicio 6"
   ]
  },
  {
   "cell_type": "markdown",
   "id": "717483ac-53a4-4f5d-acef-627e126cd173",
   "metadata": {
    "tags": []
   },
   "source": [
    "$S$ describe una curva paramétrica en el diagrama de Argand, en la que $\\Re(z(t))$ es la coordenada horizontal e $\\Im(z(t))$ la vertical. AVamos a utilizar este ejemplo para ver cómo graficar con el módulo matplotlib funciones paramétricas en coordenadas cartesianas y polares.\n",
    "\n",
    "Primero veremos la representación cartesiana. Generamos un array de numpy con los valores del parámetro $t$, y luego\n",
    "definimos dos funciones que devuelven dos arrays cada uno (las coordenadas del diagrama):"
   ]
  },
  {
   "cell_type": "code",
   "execution_count": null,
   "id": "6d1f220e-3ff8-437f-8fa0-c3e812ba6dbd",
   "metadata": {
    "tags": []
   },
   "outputs": [],
   "source": [
    "n_puntos = 100\n",
    "t = np.linspace(0, np.pi, n_puntos)\n",
    "\n",
    "def z(t):\n",
    "    return np.cos(t), np.sin(t)\n",
    "\n",
    "def z2(t):\n",
    "    return (z(t)[0])**2 - (z(t)[1])**2, 2 * z(t)[0] * z(t)[1]"
   ]
  },
  {
   "cell_type": "code",
   "execution_count": null,
   "id": "06f1d1a1-6ea2-40e9-a0a5-a9ad59b443f1",
   "metadata": {
    "tags": []
   },
   "outputs": [],
   "source": [
    "fig = plt.figure()\n",
    "ax = fig.add_subplot(aspect='equal')\n",
    "plt.plot(z(t)[0], z(t)[1], linewidth=4, color='red', alpha=0.5, label=\"a)\")\n",
    "plt.plot(z2(t)[0], z2(t)[1], linewidth=2, color='blue', alpha=0.5, label=\"b)\")\n",
    "plt.xlim([-1.5, 1.5])\n",
    "plt.ylim([-1.5, 1.5])\n",
    "plt.xlabel(r\"$\\Re(z)$\")\n",
    "plt.ylabel(r\"$\\Im(z)$\")\n",
    "plt.axhline()\n",
    "plt.axvline()\n",
    "plt.legend()"
   ]
  },
  {
   "cell_type": "markdown",
   "id": "c92abd5d-9c70-4803-b932-33df03ff1dd9",
   "metadata": {},
   "source": [
    "Si pasamos a la representación polar de $z$, vemos que \n",
    "$$z(t) = 1 e^{i t} = (1, t) $$\n",
    "es decir que el módulo de $z$ es 1, y su argumento es $t$. Si ahora calculamos $z^2$ en esta representación, tenemos:\n",
    "$$ (1, t)^2 = (1, t)(1, t) = (1, t + t) = (1, 2t)$$\n",
    "Por lo tanto vemos que al elevar al cuadrado $z$, el valor extremo $t = \\pi$ mapea a $2 \\pi$. Para representar estas funciones ($z(t)$ y $z^2(t)$) en coordenadas polares, debemos suministrar dos arrays con la misma longitud. Uno de ellos representa el argumento y contiene a los valores de $t$, y el otro es el valor constante $r = 1$, por lo que es un array que contiene tantos unos como valores tiene el array `t`:"
   ]
  },
  {
   "cell_type": "code",
   "execution_count": null,
   "id": "8e0b7b13-63ee-4c2b-9bb7-26693871d890",
   "metadata": {
    "tags": []
   },
   "outputs": [],
   "source": [
    "fig, ax = plt.subplots(subplot_kw={'projection': 'polar'})\n",
    "r = np.ones(t.size)\n",
    "t2 = 2 * t\n",
    "ax.plot(t, r, linewidth=4, color='red', alpha=0.5, label=\"a)\")\n",
    "ax.plot(t2, r, linewidth=2, color='blue', alpha=0.5, label=\"b)\")\n",
    "ax.set_rmax(1.5)\n",
    "ax.set_rticks([0.5, 1, 1.5])  # Marcas de la escala radial\n",
    "ax.set_rlabel_position(-22.5)  # Desplazamientos de las etiquetas radiales\n",
    "ax.grid(True)\n",
    "plt.legend()"
   ]
  },
  {
   "cell_type": "markdown",
   "id": "ee7cb659-03e3-44a1-a43b-895987cddc24",
   "metadata": {},
   "source": [
    "## Ejercicio 7"
   ]
  },
  {
   "cell_type": "markdown",
   "id": "36538b3d-76a4-44ef-b333-625e288aa37d",
   "metadata": {},
   "source": [
    "Es conveniente trabajar con la representación polar para multiplicar números complejos, ya que los módulos se multiplican y los argumentos se suman. Para este caso:"
   ]
  },
  {
   "cell_type": "code",
   "execution_count": null,
   "id": "f8235d8c-43f6-423f-a2de-fa3a63f8c345",
   "metadata": {
    "tags": []
   },
   "outputs": [],
   "source": [
    "z = 1 + I\n",
    "print(f\"Módulo de z = {abs(z)}, argumento de z = {arg(z)}\")"
   ]
  },
  {
   "cell_type": "markdown",
   "id": "9c5a25b0-1966-4b9b-bb5a-6758b9e7eb65",
   "metadata": {},
   "source": [
    "Entonces:\n",
    "$$ 1 + i = \\sqrt{2} \\left( \\cos \\frac{\\pi}{4} + i \\sin \\frac{pi}{4} \\right) $$\n",
    "\n",
    "Usando la fórmula de De Moivre, con $r = \\sqrt{2}$ y $n = 20$:\n",
    "$$ \\begin{align*} (1 + i)^{20} &= \\left(\\sqrt{2} \\right)^{20} \\left( \\cos \\frac{20 \\pi}{4} + i \\sin \\frac{ 20 pi}{4} \\right) \\\\\n",
    "&= 2^{10} (\\cos 5 \\pi + i \\sin 5 \\pi) \\\\\n",
    "&= 2^{10} (\\cos \\pi + i \\sin \\pi) \n",
    "\\end{align*} $$\n",
    "\n",
    "Por lo tanto:\n",
    "$$ \\arg(z) = \\pi \\pm 2 n \\pi, \\quad n = 0, 1, 2, \\cdots \\quad $$\n",
    "\n",
    "Además, notar que:\n",
    "$$(1 + i)^{20} = 2^{10}(\\cos \\pi + i \\sin \\pi) = 2^{10}(-1 + i \\cdot 0) = -1024$$"
   ]
  },
  {
   "cell_type": "markdown",
   "id": "e340545d-7ff6-408c-949b-79a24a8580e6",
   "metadata": {},
   "source": [
    "## Ejercicio 8"
   ]
  },
  {
   "cell_type": "markdown",
   "id": "c3e6b502-345d-4371-8572-315cc9ca2e33",
   "metadata": {
    "tags": []
   },
   "source": [
    "Del problema anterior tenemos que\n",
    "$$ 1 + i = \\sqrt{2} \\left( \\cos \\frac{\\pi}{4} + i \\sin \\frac{pi}{4} \\right) $$\n",
    "Por lo tanto\n",
    "$$ \\sqrt[3]{1 + i} = (1 + i)^{1/3} = \\sqrt{2}^{1/3} \\left( \\cos \\frac{\\dfrac{\\pi}{4} + 2 k \\pi}{3} + i \\sin \\frac{\\dfrac{\\pi}{4} + 2 k \\pi}{3} \\right) $$\n",
    "Podemos simplificar\n",
    "\n",
    "$$ \\left( \\sqrt{2} \\right)^{1/3} = \\left( 2^{1/2} \\right)^{1/3} = 2^{1/6} $$\n",
    "y\n",
    "$$ \\frac{\\dfrac{\\pi}{4} + 2 k \\pi}{3} = \\frac{\\pi / 4}{3} + \\frac{2 k \\pi}{3} = \\frac{\\pi}{12} + \\frac{8 k \\pi}{12} = \\frac{\\pi(1 + 8k)}{12} $$\n",
    "Por lo tanto\n",
    "$$ \\sqrt[3]{1 + i} = 2^{1/6} \\left[ \\cos \\frac{\\pi(1 + 8k)}{12} + i \\sin \\frac{\\pi(1 + 8k)}{12} \\right] $$\n",
    "donde $k = 0, 1, 2$ (tres raíces, tres valores de $k$). Reemplazando estos valores en la expresión anterior:\n",
    "$$ \\begin{align*}\n",
    "k &= 0 \\qquad z_0 = 2^{1/6} \\left( \\cos \\frac{\\pi}{12} + i \\sin \\frac{\\pi}{12} \\right) \\\\\n",
    "k &= 1 \\qquad z_1 = 2^{1/6} \\left( \\cos \\frac{9 \\pi}{12} + i \\sin \\frac{9 \\pi}{12} \\right) \\\\\n",
    "k &= 2 \\qquad z_2 = 2^{1/6} \\left( \\cos \\frac{17 \\pi}{12} + i \\sin \\frac{17 \\pi}{12} \\right)\n",
    "\\end{align*} $$"
   ]
  },
  {
   "cell_type": "markdown",
   "id": "b02adff6-28a6-441b-86b6-fc3987fb89c3",
   "metadata": {},
   "source": [
    "Dado que tenemos el módulo y argumentos de las raíces, las graficamos utilizando un diagrama polar en matplotlib:"
   ]
  },
  {
   "cell_type": "code",
   "execution_count": null,
   "id": "4b945faa-78ca-4247-bb9f-22a852ebbdf4",
   "metadata": {
    "tags": []
   },
   "outputs": [],
   "source": [
    "fig, ax = plt.subplots(subplot_kw={'projection': 'polar'})\n",
    "theta = np.linspace(0, 2 * np.pi, n_puntos) # para el círculo r = |z|\n",
    "r = 2**(1/6) # r = |z0| = |z1| = |z2|\n",
    "z_args = [np.pi / 12, 9 * np.pi / 12, 17 * np.pi / 12] # arg(z0), arg(z1), arg(z2)\n",
    "z_mod = [r, r, r] # |z0|, |z1|, |z2|\n",
    "r_circ = np.ones(t.size) * r  # Para graficar el círculo\n",
    "ax.plot(theta, r_circ, linewidth=4, color='red', alpha=0.5)\n",
    "ax.plot(z_args, z_mod, 'o')\n",
    "ax.set_rmax(1.5)\n",
    "ax.set_rticks([0.5, 1, 1.5])  # Marcas de la escala radial\n",
    "ax.set_rlabel_position(-22.5)  # Desplazamientos de las etiquetas radiales\n",
    "ax.grid(True)"
   ]
  },
  {
   "cell_type": "markdown",
   "id": "e4edd3d5-6771-4aca-addc-de9d24de662f",
   "metadata": {},
   "source": [
    "## Ejercicio 9"
   ]
  },
  {
   "cell_type": "markdown",
   "id": "437808e2-2725-4cb4-bcd2-0e0a40878a46",
   "metadata": {},
   "source": [
    "Para encontrar $\\Re(f(z))$ e $\\Im(f(z))$ en $z = 1 - i$, primero evaluamos la función:\n",
    "$$ f(1-i) = \\frac{1}{1 - (1 - i)} = \\frac{1}{1 - 1 + i} = \\frac{1}{i} = -i $$\n",
    "Por inspección vemos que $\\Re(f(z)) = \\Re(-i) = 0$, mientras que $\\Im(f(z)) = \\Im(-i) = -1$.\n",
    "\n",
    "Podemos aprovechar la capacidad de cálculo simbólico de SymPy para llegar al mismo resultado:"
   ]
  },
  {
   "cell_type": "code",
   "execution_count": null,
   "id": "bf2071f9-cf3d-4b91-82a2-d746d3f870fb",
   "metadata": {
    "tags": []
   },
   "outputs": [],
   "source": [
    "def f(z):\n",
    "    return 1 / (1 - z)\n",
    "\n",
    "fz = f(1 - I)\n",
    "print(f\"Re(f(z)) = {re(fz)}, Im(f(z)) = {im(fz)}\")"
   ]
  },
  {
   "cell_type": "markdown",
   "id": "130c95dc-a58d-4778-b3a9-e70be63145a2",
   "metadata": {},
   "source": [
    "## Ejercicio 10"
   ]
  },
  {
   "cell_type": "markdown",
   "id": "a27268bd-88de-4d70-85d6-5cedde18fbc0",
   "metadata": {
    "tags": []
   },
   "source": [
    "Si pasamos de la representación cartesiana a la polar, tenemos $x = r \\cos \\theta$ y $y = r \\sin \\theta$, por lo que:\n",
    "$$ f(z) = \\frac{\\Re(z)}{1 - |z|} = \\frac{x}{1- |z|} = \\frac{r \\cos \\theta}{1 - r} $$\n",
    "Cuando $r \\rightarrow 0$:\n",
    "$$ 1 - r \\rightarrow 0, \\quad \\text{y} \\quad r \\cos \\theta \\rightarrow 0 $$\n",
    "Por lo tanto\n",
    "$$ \\frac{r \\cos \\theta}{1 - r} \\rightarrow 0  \\text{ cuando } r \\rightarrow 0, \\forall \\theta $$\n",
    "Dado que la definición de la función establece que $f(0) = 0$, la función es continua en $z = 0$."
   ]
  },
  {
   "cell_type": "markdown",
   "id": "4814ca74-6598-4127-a87c-e787cd9dc409",
   "metadata": {},
   "source": [
    "Vamos a utilizar la capacidad de hacer cálculo simbólico que tiene SymPy para analizar la continuidad de $f(z)$ en $z = 0$. Primero definimos que `z` será una variable simbólica compleja, y definimos la función $f(z$):"
   ]
  },
  {
   "cell_type": "code",
   "execution_count": null,
   "id": "8f8cdf4e-6435-48ed-b272-5ae629d5fa75",
   "metadata": {
    "tags": []
   },
   "outputs": [],
   "source": [
    "z = symbols('z', real=False)\n",
    "\n",
    "def f(z):\n",
    "    if z != 0:\n",
    "        return re(z) / (1 - abs(z))\n",
    "    else:\n",
    "        return 0"
   ]
  },
  {
   "cell_type": "markdown",
   "id": "6481c4c7-98cb-4dd6-bc9c-b9ed2c8559e0",
   "metadata": {},
   "source": [
    "Verificamos que la función devuelve los valores apropiados:"
   ]
  },
  {
   "cell_type": "code",
   "execution_count": null,
   "id": "d36dd0cc-f2d2-44d7-aab9-18c48b3431c6",
   "metadata": {
    "tags": []
   },
   "outputs": [],
   "source": [
    "f(1 + I)"
   ]
  },
  {
   "cell_type": "code",
   "execution_count": null,
   "id": "4a07aedb-f8cf-4cfb-a38e-d5e27891202e",
   "metadata": {
    "tags": []
   },
   "outputs": [],
   "source": [
    "f(0)"
   ]
  },
  {
   "cell_type": "markdown",
   "id": "5005abe9-f06b-4b3a-a9f9-9876f73e9d86",
   "metadata": {},
   "source": [
    "Ahora verificamos que el límite de $f(z)$ cuando $z \\rightarrow 0$ es igual a $f(0)$:"
   ]
  },
  {
   "cell_type": "code",
   "execution_count": null,
   "id": "2b3ff283-52b5-4a58-8196-6464769c0499",
   "metadata": {
    "tags": []
   },
   "outputs": [],
   "source": [
    "limit(f(z), z, 0) == 0"
   ]
  },
  {
   "cell_type": "markdown",
   "id": "fc5d94d3-cd14-471d-9e97-afa6881ee21a",
   "metadata": {},
   "source": [
    "## Ejercicio 11"
   ]
  },
  {
   "cell_type": "markdown",
   "id": "d3cd8bb3-4231-45e1-8e13-ca3c93150ae5",
   "metadata": {},
   "source": [
    "Resolvemos este ejercicio utilizando SymPy, pero sugerimos enfáticamente resolverlo previamente **a mano** para familiarizarse con las operaciones con variable compleja.\n",
    "\n",
    "Primero definimos los símbolos a utilizar, la función $f(z)$ y verificamos su expresión en términos de $x$ y $y$ expandiendo el binomio al cubo:"
   ]
  },
  {
   "cell_type": "code",
   "execution_count": null,
   "id": "17d5e44d-e89e-4dda-b337-18324b410ae3",
   "metadata": {
    "tags": []
   },
   "outputs": [],
   "source": [
    "x, y = symbols('x y', real=True)\n",
    "\n",
    "z = x + y * I\n",
    "\n",
    "def f(z):\n",
    "    return z**3\n",
    "\n",
    "f(z).expand()"
   ]
  },
  {
   "cell_type": "markdown",
   "id": "4d825808-ded3-4177-904a-59b6b6a9f49c",
   "metadata": {},
   "source": [
    "Ahora definimos $u(x, y)$ y $v(x, y)$ tomando la parte real e imaginaria, respectivamente, de $f(z)$:"
   ]
  },
  {
   "cell_type": "code",
   "execution_count": null,
   "id": "52f29efd-4bec-43ac-8f08-438f0edcfe46",
   "metadata": {
    "tags": []
   },
   "outputs": [],
   "source": [
    "u = re(f(z))\n",
    "v = im(f(z))"
   ]
  },
  {
   "cell_type": "code",
   "execution_count": null,
   "id": "1953d715-7a2b-45d1-9be4-c44904151069",
   "metadata": {
    "tags": []
   },
   "outputs": [],
   "source": [
    "u"
   ]
  },
  {
   "cell_type": "code",
   "execution_count": null,
   "id": "ef786ebb-ac21-448d-8601-daaccfd6acd5",
   "metadata": {
    "tags": []
   },
   "outputs": [],
   "source": [
    "v"
   ]
  },
  {
   "cell_type": "markdown",
   "id": "841209c8-3ad9-42cc-be72-6da472f5ca8b",
   "metadata": {},
   "source": [
    "Las condiciones de Cauchy-Riemann establecen que:\n",
    "$$ \\begin{align*}\n",
    "\\frac{\\partial u(x, y)}{\\partial x} &= \\frac{\\partial v(x, y)}{\\partial y} \\\\ \n",
    "\\frac{\\partial u(x, y)}{\\partial y} &= -\\frac{\\partial v(x, y)}{\\partial x}\n",
    "\\end{align*} $$\n",
    "O, en notación más compacta:\n",
    "$$ \\begin{align*}\n",
    "u_x &= v_y \\\\ \n",
    "u_y &= -v_x\n",
    "\\end{align*} $$\n",
    "Verificamos que se cumplen estas condiciones comparando las expresiones diferenciales de $u(x, y)$ y $v(x, y)$:"
   ]
  },
  {
   "cell_type": "code",
   "execution_count": null,
   "id": "88ee8c31-62da-4f1f-b20a-96b77d80368c",
   "metadata": {
    "tags": []
   },
   "outputs": [],
   "source": [
    "print(f\"u_x =?= v_y : {diff(u, x) == diff(v, y)}!\" )\n",
    "print(f\"u_y =?= -v_x : {diff(u, y) == -diff(v, x)}!\")"
   ]
  },
  {
   "cell_type": "markdown",
   "id": "c1764694-8ff3-464a-be7b-22dbab033834",
   "metadata": {},
   "source": [
    "## Ejercicio 12"
   ]
  },
  {
   "cell_type": "markdown",
   "id": "f7255b98-d21f-4106-b8e2-5417ca00b7f9",
   "metadata": {
    "tags": []
   },
   "source": [
    "Resolvemos este ejercicio utilizando SymPy, pero sugerimos enfáticamente resolverlo previamente **a mano** para familiarizarse con las operaciones con variable compleja.\n",
    "\n",
    "Primero definimos los símbolos a utilizar:"
   ]
  },
  {
   "cell_type": "code",
   "execution_count": null,
   "id": "a5f02075-5451-46e1-873a-cb5e2da4a06f",
   "metadata": {
    "tags": []
   },
   "outputs": [],
   "source": [
    "x, y = symbols('x y', real=True)"
   ]
  },
  {
   "cell_type": "markdown",
   "id": "ebf92112-2e1a-4fd6-95cf-f8e288c67c27",
   "metadata": {},
   "source": [
    "### Parte a)"
   ]
  },
  {
   "cell_type": "markdown",
   "id": "65da4ca8-b5de-4fb1-841b-619e8116786d",
   "metadata": {},
   "source": [
    "Definimos la función $f(z)$, y obtenemos la parte real $u(x, y)$ y $v(x, y)$:"
   ]
  },
  {
   "cell_type": "code",
   "execution_count": null,
   "id": "faab9805-e98e-47da-9ea4-54b16f642212",
   "metadata": {
    "tags": []
   },
   "outputs": [],
   "source": [
    "def f(x, y):\n",
    "    return exp(-2 * x) * (cos(2 * y) - I * sin(2 * y))\n",
    "\n",
    "u = re(f(x, y))\n",
    "v = im(f(x, y))"
   ]
  },
  {
   "cell_type": "code",
   "execution_count": null,
   "id": "9f66b0da-50c1-40b5-97c7-b5bb5718ec28",
   "metadata": {
    "tags": []
   },
   "outputs": [],
   "source": [
    "f(x, y)"
   ]
  },
  {
   "cell_type": "code",
   "execution_count": null,
   "id": "5acf42e3-1055-44fd-902e-51c79d621384",
   "metadata": {
    "tags": []
   },
   "outputs": [],
   "source": [
    "u"
   ]
  },
  {
   "cell_type": "code",
   "execution_count": null,
   "id": "ca863bcb-b19b-441f-96a1-cc31f3066200",
   "metadata": {
    "tags": []
   },
   "outputs": [],
   "source": [
    "v"
   ]
  },
  {
   "cell_type": "markdown",
   "id": "ef2289e7-d75e-4ccc-bf1e-b499043293de",
   "metadata": {},
   "source": [
    "Verificamos si se cumplen las condiciones de Cauchy-Riemann:\n",
    "$$ \\begin{align*}\n",
    "u_x &= v_y \\\\ \n",
    "u_y &= -v_x\n",
    "\\end{align*} $$"
   ]
  },
  {
   "cell_type": "code",
   "execution_count": null,
   "id": "ddbde602-59b5-4870-af87-69c8dc854003",
   "metadata": {
    "tags": []
   },
   "outputs": [],
   "source": [
    "diff(u, x) == diff(v, y)"
   ]
  },
  {
   "cell_type": "code",
   "execution_count": null,
   "id": "c1788790-daea-41d1-adf4-5ea635fcac36",
   "metadata": {
    "tags": []
   },
   "outputs": [],
   "source": [
    "diff(u, y) == -diff(v, x)"
   ]
  },
  {
   "cell_type": "markdown",
   "id": "2f179f70-7371-415f-882f-e92c3bca96fd",
   "metadata": {},
   "source": [
    "Vemos que la función $f(z)$ es **analítica**."
   ]
  },
  {
   "cell_type": "markdown",
   "id": "f0054631-4c22-444e-9b73-5c0e0606ab3f",
   "metadata": {},
   "source": [
    "### Parte b)"
   ]
  },
  {
   "cell_type": "markdown",
   "id": "6033fb79-e83f-4cbe-9e05-ada10082c816",
   "metadata": {},
   "source": [
    "Repetimos las operaciones anteriores, pero redefiniendo primero la función:"
   ]
  },
  {
   "cell_type": "code",
   "execution_count": null,
   "id": "95785b5d-0df2-4eac-a6d9-a48b731354de",
   "metadata": {
    "tags": []
   },
   "outputs": [],
   "source": [
    "def f(x, y):\n",
    "    z = x + y * I\n",
    "    return re(z**2) - I * im(z**2)\n",
    "\n",
    "f(x, y)"
   ]
  },
  {
   "cell_type": "code",
   "execution_count": null,
   "id": "b522acd6-6e77-49b8-b774-bc8c1cb83ce4",
   "metadata": {
    "tags": []
   },
   "outputs": [],
   "source": [
    "u = re(f(x, y))\n",
    "v = im(f(x, y))"
   ]
  },
  {
   "cell_type": "code",
   "execution_count": null,
   "id": "850907cd-e424-44c0-afaa-4aad3d1b5c45",
   "metadata": {
    "tags": []
   },
   "outputs": [],
   "source": [
    "u"
   ]
  },
  {
   "cell_type": "code",
   "execution_count": null,
   "id": "2eec9ac1-8921-443c-a6ee-ec809f6b5f35",
   "metadata": {
    "tags": []
   },
   "outputs": [],
   "source": [
    "v"
   ]
  },
  {
   "cell_type": "markdown",
   "id": "eba5a98d-8aac-4c51-90c1-a6286cada544",
   "metadata": {},
   "source": [
    "Ahora verificamos las condiciones de Cauchy-Riemann:"
   ]
  },
  {
   "cell_type": "code",
   "execution_count": null,
   "id": "f4612ecf-a275-435a-91d9-d1ab91d66779",
   "metadata": {
    "tags": []
   },
   "outputs": [],
   "source": [
    "diff(u, x) == diff(v, y)"
   ]
  },
  {
   "cell_type": "code",
   "execution_count": null,
   "id": "806d9b8c-5434-4450-a8cc-04704b31a629",
   "metadata": {
    "tags": []
   },
   "outputs": [],
   "source": [
    "diff(u, y) == -diff(v, x)"
   ]
  },
  {
   "cell_type": "markdown",
   "id": "c9553c4d-2c04-4904-8d12-2b243396c4e4",
   "metadata": {},
   "source": [
    "\n",
    "Ninguna de las condiciones se verifica, por lo que la función $f(z)$ de la parte b) **no es analítica**."
   ]
  },
  {
   "cell_type": "markdown",
   "id": "545e99cf-34c8-4622-a6e4-06a35126245a",
   "metadata": {},
   "source": [
    "**Nota:** podemos observar que:\n",
    "$$ (\\bar{z})^2 = (x - iy)(x - iy) = x^2 - 2 i x y - y^2 = x^2 - y^2  - 2 i x y$$\n",
    "Si comparamos con la función que estamos analizando vemos que:\n",
    "$$ f(z) = (\\bar{z})^2 = \\bar{z} \\cdot \\bar{z} $$\n",
    "Por lo tanto:\n",
    "$$ f(z) = (\\bar{z})^2 = \\overline{(z^2)} $$\n",
    "En la teoría vimos que $\\bar{z}$ no es diferenciable por lo cual tampoco lo es $f(z) = (\\bar{z})^2$. En conclusión $f(z)$ no es analítica. Esta derivación ofrece el mismo resultado que el cálculo anterior utilizando la representación cartesiana de $z$, pero es *mas elegante*."
   ]
  },
  {
   "cell_type": "markdown",
   "id": "e01d1771-50e6-4721-b81c-b95691f58f74",
   "metadata": {},
   "source": [
    "## Ejercicio 13"
   ]
  },
  {
   "cell_type": "markdown",
   "id": "617f4554-f2ac-464e-aa41-eb6d91f10a5d",
   "metadata": {},
   "source": [
    "Si $f(x, y) = u(x, y) + i v(x, y)$ debe ser analítica, las funciones $u(x, y)$ y $v(x, y)$ deben satisfacer las condiciones de Cauchy-Riemann:\n",
    "$$ \\begin{align*}\n",
    "u_x &= v_y \\\\ \n",
    "u_y &= -v_x\n",
    "\\end{align*} $$\n",
    "Dado que solo conocemos $u(x, y)$, podemos ver cómo deben ser las derivadas parciales de $v(x, y)$ para cumplir estas condiciones:"
   ]
  },
  {
   "cell_type": "code",
   "execution_count": null,
   "id": "77f8671e-682b-4e52-b141-7f35761a0cb4",
   "metadata": {
    "tags": []
   },
   "outputs": [],
   "source": [
    "x, y, C = symbols('x y C', real=True)\n",
    "\n",
    "def u(x, y):\n",
    "    return 3 * x - 2 * y + 5"
   ]
  },
  {
   "cell_type": "code",
   "execution_count": null,
   "id": "4fee8a7e-7403-4600-987d-7a545ecd7886",
   "metadata": {
    "tags": []
   },
   "outputs": [],
   "source": [
    "u(x, y)"
   ]
  },
  {
   "cell_type": "code",
   "execution_count": null,
   "id": "b8362fe3-5e7f-4bfd-925f-52b07e3f9ef4",
   "metadata": {
    "tags": []
   },
   "outputs": [],
   "source": [
    "u_x = diff(u(x, y), x)\n",
    "u_x"
   ]
  },
  {
   "cell_type": "code",
   "execution_count": null,
   "id": "b4c5f9e3-f5ae-4783-a014-cfc4b408b9eb",
   "metadata": {
    "tags": []
   },
   "outputs": [],
   "source": [
    "u_y = diff(u(x, y), y)\n",
    "u_y"
   ]
  },
  {
   "cell_type": "markdown",
   "id": "a13ebc51-1027-4373-957b-609c4b721ff5",
   "metadata": {},
   "source": [
    "Por lo tanto, vemos que por la condición $u_x = v_y$, la derivada de $v(x, y)$ respecto de $y$ debe ser igual a 3, mientras que por la condición $u_y = -v_x$ la derivada de $v(x, y)$ respecto de $x$ debe ser igual a 2. Ambas condiciones se cumplen si:\n",
    "$$ v(x, y) = 2 x + 3 y + C $$\n",
    "donde $C$ es una constante. Verificamos entonces estas condiciones:"
   ]
  },
  {
   "cell_type": "code",
   "execution_count": null,
   "id": "0d92e41e-1731-4a76-ad11-f9aa22398bd0",
   "metadata": {
    "tags": []
   },
   "outputs": [],
   "source": [
    "def v(x, y):\n",
    "    return 2 * x + 3 * y + C"
   ]
  },
  {
   "cell_type": "code",
   "execution_count": null,
   "id": "13c20afc-5ff4-40b0-854e-478518799e6e",
   "metadata": {
    "tags": []
   },
   "outputs": [],
   "source": [
    "diff(u(x, y), x) == diff(v(x, y), y)"
   ]
  },
  {
   "cell_type": "code",
   "execution_count": null,
   "id": "0e0cc5bb-be2e-4a98-9401-4f201a7d9b36",
   "metadata": {
    "tags": []
   },
   "outputs": [],
   "source": [
    "diff(u(x, y), y) == -diff(v(x, y), x)"
   ]
  }
 ],
 "metadata": {
  "kernelspec": {
   "display_name": "Python 3",
   "language": "python",
   "name": "python3"
  },
  "language_info": {
   "codemirror_mode": {
    "name": "ipython",
    "version": 3
   },
   "file_extension": ".py",
   "mimetype": "text/x-python",
   "name": "python",
   "nbconvert_exporter": "python",
   "pygments_lexer": "ipython3",
   "version": "3.8.13"
  }
 },
 "nbformat": 4,
 "nbformat_minor": 5
}
