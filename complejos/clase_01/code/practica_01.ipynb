{
 "cells": [
  {
   "cell_type": "markdown",
   "id": "f3810fcb-91ba-4885-b653-d079a803e9c8",
   "metadata": {},
   "source": [
    "# Práctica Nro. 1"
   ]
  },
  {
   "cell_type": "markdown",
   "id": "245f28f3-c1b8-49f1-bd4a-6800a917f009",
   "metadata": {},
   "source": [
    "En esta práctica se utiliza el módulo sympy para la manipulación de números complejos y operaciones de cálculo diferencial e integral. Se puede obtener ayuda en:\n",
    "- [Evaluación numérica](https://docs.sympy.org/latest/modules/evalf.html)\n",
    "- [Funciones elementales con números complejos](https://docs.sympy.org/latest/modules/functions/elementary.html)\n",
    "- [Cálculo diferencial e integral](https://docs.sympy.org/latest/tutorials/intro-tutorial/calculus.html)"
   ]
  },
  {
   "cell_type": "markdown",
   "id": "1613b6f8-a51f-477a-80d4-b4d7fb8540d7",
   "metadata": {},
   "source": [
    "Primero importamos los módulos necesarios."
   ]
  },
  {
   "cell_type": "code",
   "execution_count": 55,
   "id": "7c95acb9-9689-49bd-a525-6727eb8ac114",
   "metadata": {
    "tags": []
   },
   "outputs": [],
   "source": [
    "import math\n",
    "import matplotlib.pyplot as plt\n",
    "import numpy as np\n",
    "from sympy import *\n",
    "from sympy import re, im, I, symbols"
   ]
  },
  {
   "cell_type": "markdown",
   "id": "989c756d-ccdd-4a39-b1ba-89fa1499a1b1",
   "metadata": {},
   "source": [
    "## Ejercicio 1"
   ]
  },
  {
   "cell_type": "markdown",
   "id": "1e3ff3a0-68c0-451e-93b7-05dc9da9b8c0",
   "metadata": {},
   "source": [
    "$i^2 = -1$ por definición de $i$. Pero si utilizamos la regla de multiplicación de números complejos a partir del producto de números reales:\n",
    "$$(a + ib) ( c + id) = (ac-bd) + i(bc + ad)$$\n",
    "y considerando que $i = (0 + 1 i)$ (esto es: $a = 0, b=1, c=0, b=1$):\n",
    "$$ \\begin{align}\n",
    "i^2 &= i i \\\\\n",
    "    &= (0 + 1i)(0 + 1i) \\\\\n",
    "    &= (0 \\cdot 0 - 1 \\cdot 1) + i (1 \\cdot 0 + 0 \\cdot 1) \\\\\n",
    "    &= -1 + i 0 = -1\n",
    "    \\end{align} $$\n",
    "    \n",
    "Usando este resultado podemos seguir con el resto de las potencias:\n",
    "$$ i^3 = i^2 i = (-1) i = -i$$\n",
    "$$ i^4 = i^2 i^2 = (-1)(-1) = 1 $$\n",
    "$$ i^5 = i^4 i = i $$\n",
    "\n",
    "Para las potencias inversas multiplicamos el numerador y denominador por el conjugado del denominador, de modo de eliminar el número complejo en el denominador:\n",
    "$$ i^{-1} = \\frac{1}{i} = \\frac{1 \\bar{i}}{i \\bar{i}} = \\frac{1 (-i)}{i (-i)} = \\frac{(1 + 0i)(0 - i)}{(0 + i)(0 -i)} = \\frac{1 \\cdot 0 + 0 \\cdot 1}{0^2 + 1^2} + i \\frac{0 \\cdot 0 - 1 \\cdot 1}{0^2 + 1^2} = 0 - i = -i $$\n",
    "\n",
    "A partir del resultado anterior:\n",
    "$$ \\frac{1}{i^2} = \\frac{1}{i} \\cdot \\frac{1}{i} = (-i)(-i) = (-1)i \\cdot (-1) i = i^2 = -1 $$\n",
    "$$ \\frac{1}{i^3} = \\frac{1}{i^2} \\cdot \\frac{1}{i} = (-1)(-i) = i $$\n",
    "$$ \\frac{1}{i^4} = \\frac{1}{i^2} \\cdot \\frac{1}{i^2} = (-1)(-1) = 1 $$"
   ]
  },
  {
   "cell_type": "markdown",
   "id": "de0a184b-9022-498e-9bc8-2983158e83dc",
   "metadata": {},
   "source": [
    "Python puede manipular números complejos en forma nativa, por lo que podemos hacer las operaciones anteriores en forma computacional:"
   ]
  },
  {
   "cell_type": "code",
   "execution_count": 2,
   "id": "9fd7009a-7332-42af-91b1-268cdc8766d3",
   "metadata": {
    "tags": []
   },
   "outputs": [
    {
     "name": "stdout",
     "output_type": "stream",
     "text": [
      "i^2 = -1\n"
     ]
    }
   ],
   "source": [
    "print(f\"i^2 = {(0 + I)**2}\")"
   ]
  },
  {
   "cell_type": "code",
   "execution_count": 3,
   "id": "64edaa65-1704-4ed2-b4cb-30acde1b8526",
   "metadata": {
    "tags": []
   },
   "outputs": [
    {
     "name": "stdout",
     "output_type": "stream",
     "text": [
      "i^3 = -I\n",
      "i^4 = 1\n",
      "i^5 = I\n"
     ]
    }
   ],
   "source": [
    "for n in range(3, 6):\n",
    "    mensaje = f\"i^{n} = {(0 + I)**n}\"\n",
    "    print(mensaje)"
   ]
  },
  {
   "cell_type": "code",
   "execution_count": 4,
   "id": "7ba8425a-7c31-46d0-b0f9-c331ccff013a",
   "metadata": {
    "tags": []
   },
   "outputs": [
    {
     "name": "stdout",
     "output_type": "stream",
     "text": [
      "1 / i^1 = i^(-1) = -I\n",
      "1 / i^2 = i^(-2) = -1\n",
      "1 / i^3 = i^(-3) = I\n",
      "1 / i^4 = i^(-4) = 1\n"
     ]
    }
   ],
   "source": [
    "for n in range(1, 5):\n",
    "    mensaje = f\"1 / i^{n} = i^({-n}) = {(0 + I)**(-n)}\"\n",
    "    print(mensaje)"
   ]
  },
  {
   "cell_type": "markdown",
   "id": "47716769-43a0-40d5-a7e5-6c4921c39cf8",
   "metadata": {
    "tags": []
   },
   "source": [
    "## Ejercicio 2"
   ]
  },
  {
   "cell_type": "markdown",
   "id": "f2172aef-22fc-4586-8443-214a599bb7cd",
   "metadata": {},
   "source": [
    "En este ejercicio vamos a utilizar las funciones `abs(z)` y `arg(z)` de SymPy para obtener el módulo y el argumento del número complejo $z$, respectivamente. Para el primer caso, en que $z = z_1 = 1 + i$:"
   ]
  },
  {
   "cell_type": "code",
   "execution_count": 5,
   "id": "f3cb845f-a5c0-4b6b-86a5-117388e501c4",
   "metadata": {
    "tags": []
   },
   "outputs": [
    {
     "name": "stdout",
     "output_type": "stream",
     "text": [
      "|z| = sqrt(2), arg(z) = pi/4\n",
      "|z i| = sqrt(2), arg(z i) = 3*pi/4\n",
      "arg(z1 i) - arg(z1) = 3*pi/4 - pi/4 = pi/2\n"
     ]
    }
   ],
   "source": [
    "z1 = 1 + I\n",
    "print(f\"|z| = {abs(z1)}, arg(z) = {arg(z1)}\")\n",
    "print(f\"|z i| = {abs(z1 * I)}, arg(z i) = {arg(z1 * I)}\")\n",
    "print(f\"arg(z1 i) - arg(z1) = {arg(z1 * I)} - {arg(z1)} = {arg(z1 * I) - arg(z1)}\")"
   ]
  },
  {
   "cell_type": "markdown",
   "id": "6a5c578f-a2b4-46d7-85a5-2b2d75aeca24",
   "metadata": {},
   "source": [
    "Podemos repetir el cálculo para los otros dos valores del ejercicio, pero aprovechamos que Python es un lenguaje de programación para repetir código y escribir menos. Además, pasamos a una representación en grados (en vez de radianes) para los argumentos de los complejos, de modo de facilitar la representación gráfica."
   ]
  },
  {
   "cell_type": "code",
   "execution_count": 6,
   "id": "d5878755-5842-494b-bd6a-5f3db8b59d88",
   "metadata": {
    "tags": []
   },
   "outputs": [
    {
     "name": "stdout",
     "output_type": "stream",
     "text": [
      " z = 1 + I\n",
      "|z| = sqrt(2), arg(z) = 45.0\n",
      "|z i| = sqrt(2), arg(z i) = 135.0\n",
      "arg(z i) - arg(z) = 90.0\n",
      "------------------------------\n",
      " z = -1 + 2*I\n",
      "|z| = sqrt(5), arg(z) = 116.56505117707799\n",
      "|z i| = sqrt(5), arg(z i) = -153.434948822922\n",
      "arg(z i) - arg(z) = -270.0\n",
      "------------------------------\n",
      " z = 4 - 3*I\n",
      "|z| = 5, arg(z) = -36.86989764584402\n",
      "|z i| = 5, arg(z i) = 53.13010235415598\n",
      "arg(z i) - arg(z) = 90.0\n",
      "------------------------------\n"
     ]
    }
   ],
   "source": [
    "zetas = [1 + I, -1 + 2 * I, 4 - 3 * I]\n",
    "for z in zetas:\n",
    "    print(f\" z = {z}\")\n",
    "    print(f\"|z| = {abs(z)}, arg(z) = {math.degrees(arg(z))}\")\n",
    "    print(f\"|z i| = {abs(z * I)}, arg(z i) = {math.degrees(arg(z * I))}\")\n",
    "    delta_arg = arg(z * I) - arg(z)\n",
    "    print(f\"arg(z i) - arg(z) = {math.degrees(delta_arg)}\")\n",
    "    print(30 * \"-\")"
   ]
  },
  {
   "cell_type": "markdown",
   "id": "28e4bd0a-f0f5-43a6-838f-72415fde097f",
   "metadata": {},
   "source": [
    "## Ejercicio 3"
   ]
  },
  {
   "cell_type": "markdown",
   "id": "fe415d66-18b9-4a3e-9f67-978354e49f8c",
   "metadata": {},
   "source": [
    "Es simple realizar las operaciones aritméticas con los valores indicados para $z_1$ y $z_2$. Podemos aprovechar las capacidades simbólicas del módulo SymPy definiendo ambas cantidades como números abstractos y operando sobre ellas. En Python, el operador `==` devuelve `True` si ambos argumentos (a izquierda y derecha), son iguales."
   ]
  },
  {
   "cell_type": "code",
   "execution_count": 20,
   "id": "05f7b62f-b277-4f46-bc0f-6438631c2e29",
   "metadata": {
    "tags": []
   },
   "outputs": [],
   "source": [
    "a, b, c, d = symbols('a b c d', real=True)\n",
    "z1, z2 = a + b * I, c + d * I"
   ]
  },
  {
   "cell_type": "code",
   "execution_count": 8,
   "id": "bfb582d7-5f19-4b72-a082-8c85730ed184",
   "metadata": {
    "tags": []
   },
   "outputs": [
    {
     "data": {
      "text/plain": [
       "True"
      ]
     },
     "execution_count": 8,
     "metadata": {},
     "output_type": "execute_result"
    }
   ],
   "source": [
    "conjugate(z1 + z2) == conjugate(z1) + conjugate(z2)"
   ]
  },
  {
   "cell_type": "code",
   "execution_count": 9,
   "id": "a6f9ab0a-9641-4799-9bb8-82898cca65a5",
   "metadata": {
    "tags": []
   },
   "outputs": [
    {
     "data": {
      "text/plain": [
       "True"
      ]
     },
     "execution_count": 9,
     "metadata": {},
     "output_type": "execute_result"
    }
   ],
   "source": [
    "conjugate(z1 - z2) == conjugate(z1) - conjugate(z2)"
   ]
  },
  {
   "cell_type": "code",
   "execution_count": 10,
   "id": "b03f654e-9038-45cb-985a-8729751d7ae3",
   "metadata": {
    "tags": []
   },
   "outputs": [
    {
     "data": {
      "text/plain": [
       "True"
      ]
     },
     "execution_count": 10,
     "metadata": {},
     "output_type": "execute_result"
    }
   ],
   "source": [
    "conjugate(z1 * z2) == conjugate(z1) * conjugate(z2)"
   ]
  },
  {
   "cell_type": "code",
   "execution_count": 22,
   "id": "6a782007-78f3-4585-a817-da77d05d84ec",
   "metadata": {
    "tags": []
   },
   "outputs": [
    {
     "data": {
      "text/plain": [
       "True"
      ]
     },
     "execution_count": 22,
     "metadata": {},
     "output_type": "execute_result"
    }
   ],
   "source": [
    "conjugate(z1 / z2) == conjugate(z1) / conjugate(z2)"
   ]
  },
  {
   "cell_type": "markdown",
   "id": "648f41a6-7044-45a5-b1e8-f050d4e1cb85",
   "metadata": {},
   "source": [
    "## Ejercicio 4"
   ]
  },
  {
   "cell_type": "markdown",
   "id": "522af124-b8cf-4933-9d81-013af42e0bd8",
   "metadata": {},
   "source": [
    "Primero calculamos el cociente entre $z_1$ y $z_2$, recordando que si queremos hacerlo manualmente, debemos multiplicar numerador y denominador por el conjugado del denominador. Python puede hacer esto por nosotros."
   ]
  },
  {
   "cell_type": "code",
   "execution_count": 24,
   "id": "1c0b5354-72f1-4e43-a36c-473757a4d442",
   "metadata": {
    "tags": []
   },
   "outputs": [
    {
     "data": {
      "text/latex": [
       "$\\displaystyle \\frac{\\left(3 + 5 i\\right) \\left(7 - 9 i\\right)}{130}$"
      ],
      "text/plain": [
       "(3 + 5*I)*(7 - 9*I)/130"
      ]
     },
     "execution_count": 24,
     "metadata": {},
     "output_type": "execute_result"
    }
   ],
   "source": [
    "z1 = 3 + 5 * I\n",
    "z2 = 7 + 9 * I\n",
    "z12 = z1 / z2\n",
    "z12"
   ]
  },
  {
   "cell_type": "markdown",
   "id": "33f2821a-aaeb-4ffe-920f-927ccebda2fb",
   "metadata": {},
   "source": [
    "Las funciones `re()` e `im()` de SymPy nos devuelven la parte real e imaginaria del argumento complejo que le pasemos:"
   ]
  },
  {
   "cell_type": "code",
   "execution_count": 26,
   "id": "c8a477a0-fe9d-4331-aa81-4ee2e502e5cc",
   "metadata": {
    "tags": []
   },
   "outputs": [
    {
     "data": {
      "text/plain": [
       "(33/65, 4/65)"
      ]
     },
     "execution_count": 26,
     "metadata": {},
     "output_type": "execute_result"
    }
   ],
   "source": [
    "a = re(z12)\n",
    "b = im(z12)\n",
    "a, b"
   ]
  },
  {
   "cell_type": "markdown",
   "id": "dae51d02-3eaf-4b9f-80a3-d3f02c91cd82",
   "metadata": {},
   "source": [
    "## Ejercicio 5"
   ]
  },
  {
   "cell_type": "markdown",
   "id": "a0a1a83f-6e0c-4fab-8712-360ed75f0746",
   "metadata": {},
   "source": [
    "En este ejercicio, cada una de las regiones en el diagrama de Argand está limitada por una circunferencia:\n",
    "$$ \\begin{cases}\n",
    "|z - (1 + i)| < 2&, \\qquad C_1 \\\\\n",
    "|z - 2 i | > \\frac{3}{2}&, \\qquad C_2\n",
    "\\end{cases}$$\n",
    "$C_1$ es la región **interior** a la circunferencia de radio 2 y centrada en $(1 + i)$, mientras que $C_2$ es la región **exterior** a la circunferencia centrada en $2 i$ y de radio $3/2$. Por lo tanto, la solución es la intersección de ambas regiones (la más oscura del siguiente gráfico):"
   ]
  },
  {
   "cell_type": "code",
   "execution_count": 53,
   "id": "371aeef5-8bdb-44db-95b9-78df45c049a0",
   "metadata": {
    "tags": []
   },
   "outputs": [
    {
     "data": {
      "text/plain": [
       "(-3.0, 5.0)"
      ]
     },
     "execution_count": 53,
     "metadata": {},
     "output_type": "execute_result"
    },
    {
     "data": {
      "image/png": "[encoded data removed]",
      "text/plain": [
       "<Figure size 640x480 with 1 Axes>"
      ]
     },
     "metadata": {},
     "output_type": "display_data"
    }
   ],
   "source": [
    "xinf, xsup = -3, 4\n",
    "yinf, ysup = -3, 5\n",
    "Rect = plt.Rectangle((xinf, yinf), \n",
    "                     xsup-xinf, ysup-yinf, \n",
    "                     color='blue', alpha=0.2) # Todo el \"espacio\"\n",
    "C_1 = plt.Circle((1, 0), 2, color='red', linewidth=3, alpha=0.2) # Región interna\n",
    "C_2 = plt.Circle((0, 2), 2, color='white', linewidth=3, alpha=0.5) # Región externa\n",
    "fig = plt.figure()\n",
    "ax = fig.add_subplot(aspect='equal')\n",
    "ax.add_patch(Rect)\n",
    "ax.add_patch(C_1)\n",
    "ax.add_patch(C_2)\n",
    "plt.plot(1, 0, 'o')\n",
    "plt.plot(0, 2, 'o')\n",
    "plt.axhline()\n",
    "plt.axvline()\n",
    "plt.xlim([xinf, xsup])\n",
    "plt.ylim([yinf, ysup])"
   ]
  },
  {
   "cell_type": "markdown",
   "id": "358573a0-3338-4bfd-bc3e-22b247c8df39",
   "metadata": {},
   "source": [
    "## Ejercicio 6"
   ]
  },
  {
   "cell_type": "markdown",
   "id": "717483ac-53a4-4f5d-acef-627e126cd173",
   "metadata": {
    "tags": []
   },
   "source": [
    "$S$ describe una curva paramétrica en el diagrama de Argand, en la que $\\Re(z(t))$ es la coordenada horizontal e $\\Im(z(t))$ la vertical. AVamos a utilizar este ejemplo para ver cómo graficar con el módulo matplotlib funciones paramétricas en coordenadas cartesianas y polares.\n",
    "\n",
    "Primero veremos la representación cartesiana. Generamos un array de numpy con los valores del parámetro $t$, y luego\n",
    "definimos dos funciones que devuelven dos arrays cada uno (las coordenadas del diagrama):"
   ]
  },
  {
   "cell_type": "code",
   "execution_count": 76,
   "id": "6d1f220e-3ff8-437f-8fa0-c3e812ba6dbd",
   "metadata": {
    "tags": []
   },
   "outputs": [],
   "source": [
    "n_puntos = 100\n",
    "t = np.linspace(0, np.pi, n_puntos)\n",
    "\n",
    "def z(t):\n",
    "    return np.cos(t), np.sin(t)\n",
    "\n",
    "def z2(t):\n",
    "    return (z(t)[0])**2 - (z(t)[1])**2, 2 * z(t)[0] * z(t)[1]"
   ]
  },
  {
   "cell_type": "code",
   "execution_count": 85,
   "id": "06f1d1a1-6ea2-40e9-a0a5-a9ad59b443f1",
   "metadata": {
    "tags": []
   },
   "outputs": [
    {
     "data": {
      "text/plain": [
       "<matplotlib.legend.Legend at 0x7fbb2cf8a3a0>"
      ]
     },
     "execution_count": 85,
     "metadata": {},
     "output_type": "execute_result"
    },
    {
     "data": {
      "image/png": "[encoded data removed]",
      "text/plain": [
       "<Figure size 640x480 with 1 Axes>"
      ]
     },
     "metadata": {},
     "output_type": "display_data"
    }
   ],
   "source": [
    "fig = plt.figure()\n",
    "ax = fig.add_subplot(aspect='equal')\n",
    "plt.plot(z(t)[0], z(t)[1], linewidth=4, color='red', alpha=0.5, label=\"a)\")\n",
    "plt.plot(z2(t)[0], z2(t)[1], linewidth=2, color='blue', alpha=0.5, label=\"b)\")\n",
    "plt.xlim([-1.5, 1.5])\n",
    "plt.ylim([-1.5, 1.5])\n",
    "plt.xlabel(r\"$\\Re(z)$\")\n",
    "plt.ylabel(r\"$\\Im(z)$\")\n",
    "plt.axhline()\n",
    "plt.axvline()\n",
    "plt.legend()"
   ]
  },
  {
   "cell_type": "markdown",
   "id": "c92abd5d-9c70-4803-b932-33df03ff1dd9",
   "metadata": {},
   "source": [
    "Si pasamos a la representación polar de $z$, vemos que \n",
    "$$z(t) = 1 e^{i t} = (1, t) $$\n",
    "es decir que el módulo de $z$ es 1, y su argumento es $t$. Si ahora calculamos $z^2$ en esta representación, tenemos:\n",
    "$$ (1, t)^2 = (1, t)(1, t) = (1, t + t) = (1, 2t)$$\n",
    "Por lo tanto vemos que al elevar al cuadrado $z$, el valor extremo $t = \\pi$ mapea a $2 \\pi$. Para representar estas funciones ($z(t)$ y $z^2(t)$) en coordenadas polares, debemos suministrar dos arrays con la misma longitud. Uno de ellos representa el argumento y contiene a los valores de $t$, y el otro es el valor constante $r = 1$, por lo que es un array que contiene tantos unos como valores tiene el array `t`:"
   ]
  },
  {
   "cell_type": "code",
   "execution_count": 92,
   "id": "8e0b7b13-63ee-4c2b-9bb7-26693871d890",
   "metadata": {
    "tags": []
   },
   "outputs": [
    {
     "data": {
      "text/plain": [
       "<matplotlib.legend.Legend at 0x7fbb2be46340>"
      ]
     },
     "execution_count": 92,
     "metadata": {},
     "output_type": "execute_result"
    },
    {
     "data": {
      "image/png": "[encoded data removed]",
      "text/plain": [
       "<Figure size 640x480 with 1 Axes>"
      ]
     },
     "metadata": {},
     "output_type": "display_data"
    }
   ],
   "source": [
    "fig, ax = plt.subplots(subplot_kw={'projection': 'polar'})\n",
    "r = np.ones(t.size)\n",
    "t2 = 2 * t\n",
    "ax.plot(t, r, linewidth=4, color='red', alpha=0.5, label=\"a)\")\n",
    "ax.plot(t2, r, linewidth=2, color='blue', alpha=0.5, label=\"b)\")\n",
    "ax.set_rmax(1.5)\n",
    "ax.set_rticks([0.5, 1, 1.5])  # Less radial ticks\n",
    "ax.set_rlabel_position(-22.5)  # Move radial labels away from plotted line\n",
    "ax.grid(True)\n",
    "plt.legend()"
   ]
  },
  {
   "cell_type": "markdown",
   "id": "ee7cb659-03e3-44a1-a43b-895987cddc24",
   "metadata": {},
   "source": [
    "## Ejercicio 7"
   ]
  },
  {
   "cell_type": "markdown",
   "id": "36538b3d-76a4-44ef-b333-625e288aa37d",
   "metadata": {},
   "source": [
    "Es conveniente trabajar con la representación polar para multiplicar números complejos, ya que los módulos se multiplican y los argumentos se suman. Para este caso:"
   ]
  },
  {
   "cell_type": "code",
   "execution_count": 93,
   "id": "f8235d8c-43f6-423f-a2de-fa3a63f8c345",
   "metadata": {
    "tags": []
   },
   "outputs": [
    {
     "name": "stdout",
     "output_type": "stream",
     "text": [
      "Módulo de z = sqrt(2), argumento de z = pi/4\n"
     ]
    }
   ],
   "source": [
    "z = 1 + I\n",
    "print(f\"Módulo de z = {abs(z)}, argumento de z = {arg(z)}\")"
   ]
  },
  {
   "cell_type": "markdown",
   "id": "9c5a25b0-1966-4b9b-bb5a-6758b9e7eb65",
   "metadata": {},
   "source": [
    "Entonces:\n",
    "$$ 1 + i = \\sqrt{2} \\left( \\cos \\frac{\\pi}{4} + i \\sin \\frac{pi}{4} \\right) $$\n",
    "\n",
    "Usando la fórmula de De Moivre, con $r = \\sqrt{2}$ y $n = 20$:\n",
    "$$ \\begin{align*} (1 + i)^{20} &= \\left(\\sqrt{2} \\right)^{20} \\left( \\cos \\frac{20 \\pi}{4} + i \\sin \\frac{ 20 pi}{4} \\right) \\\\\n",
    "&= 2^{10} (\\cos 5 \\pi + i \\sin 5 \\pi) \\\\\n",
    "&= 2^{10} (\\cos \\pi + i \\sin \\pi) \n",
    "\\end{align*} $$\n",
    "\n",
    "Por lo tanto:\n",
    "$$ \\arg(z) = \\pi \\pm 2 n \\pi, \\quad n = 0, 1, 2, \\cdots \\quad $$\n",
    "\n",
    "Además, notar que:\n",
    "$$(1 + i)^{20} = 2^{10}(\\cos \\pi + i \\sin \\pi) = 2^{10}(-1 + i \\cdot 0) = -1024$$"
   ]
  },
  {
   "cell_type": "code",
   "execution_count": null,
   "id": "15fa4add-8553-45af-9bc2-ed5f853f9c9f",
   "metadata": {},
   "outputs": [],
   "source": []
  }
 ],
 "metadata": {
  "kernelspec": {
   "display_name": "Python 3 (ipykernel)",
   "language": "python",
   "name": "python3"
  },
  "language_info": {
   "codemirror_mode": {
    "name": "ipython",
    "version": 3
   },
   "file_extension": ".py",
   "mimetype": "text/x-python",
   "name": "python",
   "nbconvert_exporter": "python",
   "pygments_lexer": "ipython3",
   "version": "3.8.16"
  }
 },
 "nbformat": 4,
 "nbformat_minor": 5
}
