{
 "cells": [
  {
   "cell_type": "markdown",
   "id": "f3810fcb-91ba-4885-b653-d079a803e9c8",
   "metadata": {},
   "source": [
    "# Práctica Nro. 2\n",
    "\n",
    "[![Open In Colab](https://colab.research.google.com/assets/colab-badge.svg)](https://colab.research.google.com/github/manuxch/calculo_avanzado/blob/main/complejos/clase_02/code/practica_02.ipynb)"
   ]
  },
  {
   "cell_type": "markdown",
   "id": "245f28f3-c1b8-49f1-bd4a-6800a917f009",
   "metadata": {},
   "source": [
    "En esta práctica se utiliza el módulo sympy para la manipulación de números complejos y operaciones de cálculo diferencial e integral. Se puede obtener ayuda en:\n",
    "- [Evaluación numérica](https://docs.sympy.org/latest/modules/evalf.html)\n",
    "- [Funciones elementales con números complejos](https://docs.sympy.org/latest/modules/functions/elementary.html)\n",
    "- [Cálculo diferencial e integral](https://docs.sympy.org/latest/tutorials/intro-tutorial/calculus.html)"
   ]
  },
  {
   "cell_type": "markdown",
   "id": "1613b6f8-a51f-477a-80d4-b4d7fb8540d7",
   "metadata": {},
   "source": [
    "Primero importamos los módulos necesarios."
   ]
  },
  {
   "cell_type": "code",
   "execution_count": null,
   "id": "7c95acb9-9689-49bd-a525-6727eb8ac114",
   "metadata": {
    "tags": []
   },
   "outputs": [],
   "source": [
    "from sympy import *\n",
    "from sympy import re, im, I, symbols"
   ]
  },
  {
   "cell_type": "markdown",
   "id": "b2792159-a27b-4adc-aa82-84e06b47cf63",
   "metadata": {},
   "source": [
    "## Ejercicio 1"
   ]
  },
  {
   "cell_type": "markdown",
   "id": "8480abfe-ab44-4905-8ea2-260ce0586fe7",
   "metadata": {},
   "source": [
    "### Parte a)"
   ]
  },
  {
   "cell_type": "markdown",
   "id": "c9bfc231-3dae-41ae-998c-035ee3e18afa",
   "metadata": {},
   "source": [
    "La primera impresión es que este ejercicio se resuelve en forma trivial, procediendo de igual forma que en el caso real:\n",
    "$$ \\int_a^b f(x) \\, dx = F(b) - F(a) $$\n",
    "donde $F' = f$. Ahora simplemente reemplazamos $x$ por $z$:\n",
    "\\begin{equation} \n",
    "\\int_a^b f(z) \\, dz = F(b) - F(a) \n",
    "\\label{eq:1.1} \\tag{1.1}\n",
    "\\end{equation} \n",
    "donde $F'(z) 0 f(z)$ y ahora $a$ y $b$ son complejos. Usando $\\eqref{eq:1.1}$ en este ejercicio, y dado que\n",
    "$$ \\frac{d \\left( \\dfrac{1}{2} z^2 \\right)}{dz} = z$$\n",
    "obtenemos\n",
    "\\begin{align}\n",
    "\\int_0^{2i} z \\, dz &= \\frac{1}{2} z^2 \\biggr\\rvert_{z=0}^{2i} = \\frac{1}{2}(2i)^2 - \\frac{1}{2}(0)^2 \\\\\n",
    "&= \\frac{1}{2} (4i^2) \\\\\n",
    "&= -2\n",
    "\\label{eq:1.2} \\tag{1.2}\n",
    "\\end{align}\n",
    "Si bien la integración es muy simple, podemos dejarle ese trabajo a SymPy:"
   ]
  },
  {
   "cell_type": "code",
   "execution_count": null,
   "id": "1fda87b6-25c5-4165-af00-da7d2de805b4",
   "metadata": {
    "tags": []
   },
   "outputs": [
    {
     "data": {
      "text/latex": [
       "$\\displaystyle -2$"
      ],
      "text/plain": [
       "-2"
      ]
     },
     "execution_count": 2,
     "metadata": {},
     "output_type": "execute_result"
    }
   ],
   "source": [
    "z = symbols('z', real=False)\n",
    "integrate(z, (z, 0, 2*I))"
   ]
  },
  {
   "cell_type": "markdown",
   "id": "5b579e8c-78d3-4184-9d9d-51b3ce0ed1e1",
   "metadata": {},
   "source": [
    "Podemos pensar que el resultado en (1.2) es correcto dado que insistimos en que los números complejos tienen la misma estructura que los reales. El problema es que los límites de integración $a$ y $b$ son ahora números complejos que podemos representar como puntos en el diagrama de Argand, y existen muchos caminos para unir $a$ con $b$. Por lo tanto, el lado izquierdo de (1.1) dependerá, en general, del camino elegido para unir $a$ con $b$.\n",
    "\n",
    "Sin embargo vimos en clase que si $f(z)$ es **analítica** el valor de la integral **no depende** del camino que une $a$ con $b$, y en ese caso el valor de la integral está dado por la ecuación (1.1). Sin embargo, si $f(z)$ no es analítica, el lado izquierdo de (1.1) es ambiguo y si valor dependerá del camino elegido que une $a$ con $b$, como veremos en la parte b)."
   ]
  },
  {
   "cell_type": "markdown",
   "id": "62e3a9cb-c620-4022-a1c8-1c87691fb6af",
   "metadata": {},
   "source": [
    "### Parte b)"
   ]
  },
  {
   "cell_type": "markdown",
   "id": "8aa1d04e-7bb0-4465-81b4-e3c0c7381706",
   "metadata": {},
   "source": [
    "Por definición:\n",
    "\\begin{equation} \n",
    "\\int_C f(z) \\, dz = \\int_{t_0}^{t_1} f[z(t)] z'(t) \\, dt \n",
    "\\tag{1.3}\n",
    "\\end{equation}\n",
    "donde $C$ está dada en forma compleja por $z = z(t), t_0 \\leq t \\leq t_1$.\n",
    "\n",
    "En este ejercicio $f(z) = \\bar{z}$, y la curva $c_1$ está dada por\n",
    "\\begin{equation}\n",
    "z = i t, \\quad 0 \\leq t \\leq 2 \n",
    "\\tag{1.4}\n",
    "\\end{equation}\n",
    "Considerando (1.4), la ecuación (1.3) queda\n",
    "\\begin{align}\n",
    "\\int_{C_1} \\bar{z} \\, dz &= \\int_0^2 \\bar{it} \\frac{d(it)}{dt} \\, dt = \\int_0^2 -it (i) \\, dt \\\\\n",
    "&= \\int_0^2 t \\, dt = \\frac{1}{2} t^2 \\biggr\\rvert_{t=0}^{2} = 2\n",
    "\\tag{1.5}\n",
    "\\end{align}\n",
    "Por lo tanto, la integral vale $2$ cuando el camino que une $0$ con $2i$ es un segmento de recta.\n",
    "Por otra parte, si $C_2$ es el conjunto $\\{z: z = i + e^{i \\theta}, -\\dfrac{\\pi}{2} \\leq \\theta \\leq \\dfrac{\\pi}{2}\\}$, es decir, el semicírculo con centro en $i$, de radio 1 y que une $0$ con $2i$ en dirección antihoraria, la función en términos del parámetro $\\theta$ queda:\n",
    "\\begin{equation}\n",
    "f(z) = \\bar{z} = \\overline{i + e^{i \\theta}} = \\bar{i} + e^{\\overline{i \\theta}} = -i + e^{-i \\theta}\n",
    "\\tag{1.6}\n",
    "\\end{equation}\n",
    "Usando (1.6) en (1.3) vemos que:\n",
    "\\begin{align}\n",
    "\\int_{C_2} \\bar{z} \\, dz &= \\int_{-\\tfrac{\\pi}{2}}^{\\tfrac{\\pi}{2}} (-i + e^{-i \\theta}) \\frac{d(i + e^{i \\theta})}{d \\theta} \\, d\\theta \\\\\n",
    "&= \\int_{-\\tfrac{\\pi}{2}}^{\\tfrac{\\pi}{2}} (-i + e^{-i \\theta})(i e^{i\\theta}) \\, d\\theta \\\\\n",
    "&=\\int_{-\\tfrac{\\pi}{2}}^{\\tfrac{\\pi}{2}} (e^{-i \\theta} + i) \\, d \\theta \\\\\n",
    "&= \\frac{1}{i} e^{i \\theta} + i \\theta \\biggr\\rvert_{\\theta=-\\tfrac{\\pi}{2}}^{\\tfrac{\\pi}{2}} \\\\\n",
    "&= \\left( \\frac{1}{i} e^{\\tfrac{\\pi}{2}} + i \\frac{\\pi}{2} \\right) - \\left( \\frac{1}{i} e^{-\\tfrac{\\pi}{2}} - i \\frac{\\pi}{2} \\right) \\\\\n",
    "&= \\frac{1}{i}(i) + i \\frac{\\pi}{2} - \\frac{1}{i}(-i) + i \\frac{\\pi}{2} \\\\\n",
    "&= 2 + i \\pi\n",
    "\\tag{1.7}\n",
    "\\end{align}\n",
    "Comparando (1.5) y (1.7) vemos que el resultado de la integral depende del camino que une los límites de integración, consecuencia de que $f(z) = \\bar{z}$ **no es analítica**. Proponemos resolver la integral de la parte a) uniendo $0$ con $2i$ a través de $C_1$ y $C_2$ para verificar que por ambos caminos el resultado es idéntico.\n",
    "\n",
    "Para finalizar veremos cómo realizar las integrales de la parte b) utilizando el cálculo simbólico que provee SymPy. Primero definimos las funciones `f(z)`, y las funciones `z_1(t)` y `z_2(t)`, que representan las trayectorias $C_1$ y $C_2$ respectivamente:"
   ]
  },
  {
   "cell_type": "code",
   "execution_count": 34,
   "id": "5e9135c3-d466-4548-bb69-8417e46e11d5",
   "metadata": {
    "tags": []
   },
   "outputs": [],
   "source": [
    "def f(z):  # f(z)\n",
    "    return conjugate(z)\n",
    "\n",
    "def z_1(t):  # C_1, 0 <= t <= 2\n",
    "    return I * t\n",
    "\n",
    "def z_2(t):  # C_2, -pi/2 <= t <= pi/2\n",
    "    return I + exp(I * t)"
   ]
  },
  {
   "cell_type": "markdown",
   "id": "bef8e5d0-b030-4402-aa7e-da86d2edc671",
   "metadata": {},
   "source": [
    "Ahora realizamos las integraciones según (1.3), primero integrando sobre $C_1$ (`I_1`) y luego sobre $C_2$ (`I_2`):"
   ]
  },
  {
   "cell_type": "code",
   "execution_count": 37,
   "id": "ff7b85e3-fb41-4b89-be21-705ae6bef8db",
   "metadata": {
    "tags": []
   },
   "outputs": [
    {
     "data": {
      "text/latex": [
       "$\\displaystyle 2$"
      ],
      "text/plain": [
       "2"
      ]
     },
     "execution_count": 37,
     "metadata": {},
     "output_type": "execute_result"
    }
   ],
   "source": [
    "I_1 = integrate(f(z_1(t)) * diff(z_1(t), t), (t, 0, 2))\n",
    "I_1"
   ]
  },
  {
   "cell_type": "code",
   "execution_count": 38,
   "id": "d1662edd-367c-4396-abd3-7eb9237bb10a",
   "metadata": {
    "tags": []
   },
   "outputs": [
    {
     "data": {
      "text/latex": [
       "$\\displaystyle 2 + i \\pi$"
      ],
      "text/plain": [
       "2 + I*pi"
      ]
     },
     "execution_count": 38,
     "metadata": {},
     "output_type": "execute_result"
    }
   ],
   "source": [
    "I_2 = integrate(f(z_2(t)) * diff(z_2(t), t), (t, -pi/2, pi/2))\n",
    "I_2"
   ]
  },
  {
   "cell_type": "markdown",
   "id": "90ddc4c3-8f9d-454a-90ba-2ff6b1234364",
   "metadata": {},
   "source": [
    "Claramente los resultados de `I_1` e `I_2` son diferentes y coinciden con los que obtuvimos previamente en forma _manual_. Aún así, podemos comparar ambos valores para determinar si son iguales:"
   ]
  },
  {
   "cell_type": "code",
   "execution_count": 33,
   "id": "3c43f0bc-73cd-41e8-82cb-6bc80cce3833",
   "metadata": {
    "tags": []
   },
   "outputs": [
    {
     "data": {
      "text/plain": [
       "False"
      ]
     },
     "execution_count": 33,
     "metadata": {},
     "output_type": "execute_result"
    }
   ],
   "source": [
    "I_1 == I_2"
   ]
  },
  {
   "cell_type": "markdown",
   "id": "47716769-43a0-40d5-a7e5-6c4921c39cf8",
   "metadata": {
    "tags": []
   },
   "source": [
    "## Ejercicio 2"
   ]
  },
  {
   "cell_type": "markdown",
   "id": "4bfd233d-be5e-4230-8b3a-53857028b1e7",
   "metadata": {},
   "source": [
    "Primero definimos los símbolos que vamos a utilizar y las funciones en términos de $u$ y $v$: $$f(x + i y) = u(x, y) + i v(x, y)$$"
   ]
  },
  {
   "cell_type": "code",
   "execution_count": null,
   "id": "7fbeb68f-bc8b-4e22-aeea-d51b0152a91d",
   "metadata": {
    "tags": []
   },
   "outputs": [],
   "source": [
    "x, y, z = symbols('x y z', real=True)\n",
    "def f(x, y):\n",
    "    return 2 * exp(2 * x + 2 * y * I)\n",
    "\n",
    "def u(x, y):\n",
    "    return re(f(x, y))\n",
    "\n",
    "def v(x, y):\n",
    "    return im(f(x, y))"
   ]
  },
  {
   "cell_type": "markdown",
   "id": "4b2dcac0-1508-4933-aedc-b6fc3b45ba28",
   "metadata": {},
   "source": [
    "Verificamos que obtenemos correctamente ambas funciones:"
   ]
  },
  {
   "cell_type": "code",
   "execution_count": null,
   "id": "43ed1e73-d084-4bec-b045-828f7612490d",
   "metadata": {
    "tags": []
   },
   "outputs": [
    {
     "data": {
      "text/latex": [
       "$\\displaystyle 2 e^{2 x} \\cos{\\left(2 y \\right)}$"
      ],
      "text/plain": [
       "2*exp(2*x)*cos(2*y)"
      ]
     },
     "execution_count": 4,
     "metadata": {},
     "output_type": "execute_result"
    }
   ],
   "source": [
    "u(x, y)"
   ]
  },
  {
   "cell_type": "code",
   "execution_count": null,
   "id": "1c9c39d1-adde-40cd-8552-94fa964982bf",
   "metadata": {
    "tags": []
   },
   "outputs": [
    {
     "data": {
      "text/latex": [
       "$\\displaystyle 2 e^{2 x} \\sin{\\left(2 y \\right)}$"
      ],
      "text/plain": [
       "2*exp(2*x)*sin(2*y)"
      ]
     },
     "execution_count": 5,
     "metadata": {},
     "output_type": "execute_result"
    }
   ],
   "source": [
    "v(x, y)"
   ]
  },
  {
   "cell_type": "markdown",
   "id": "59a1c779-c9d9-40df-9ee5-8b5f79b3df6e",
   "metadata": {},
   "source": [
    "Comprobamos que se satisfacen las ecuaciones de Cauchy-Riemann:\n",
    "$$ \\frac{\\partial u(x, y)}{\\partial x} - \\frac{\\partial v(x, y)}{\\partial y} = 0$$\n",
    "y\n",
    "$$ \\frac{\\partial u(x, y)}{\\partial y} + \\frac{\\partial v(x, y)}{\\partial x} = 0$$"
   ]
  },
  {
   "cell_type": "code",
   "execution_count": null,
   "id": "74f18e2c-ae02-4e24-802b-309ebc057f52",
   "metadata": {
    "tags": []
   },
   "outputs": [
    {
     "data": {
      "text/latex": [
       "$\\displaystyle 0$"
      ],
      "text/plain": [
       "0"
      ]
     },
     "execution_count": 6,
     "metadata": {},
     "output_type": "execute_result"
    }
   ],
   "source": [
    "diff(u(x, y), x) - diff(v(x, y), y)"
   ]
  },
  {
   "cell_type": "code",
   "execution_count": null,
   "id": "7f38c6f7-99e8-4170-b5ed-95d0e9347b91",
   "metadata": {
    "tags": []
   },
   "outputs": [
    {
     "data": {
      "text/latex": [
       "$\\displaystyle 0$"
      ],
      "text/plain": [
       "0"
      ]
     },
     "execution_count": 7,
     "metadata": {},
     "output_type": "execute_result"
    }
   ],
   "source": [
    "diff(u(x, y), y) + diff(v(x, y), x)"
   ]
  },
  {
   "cell_type": "markdown",
   "id": "8c738750-f242-47f6-af1a-6c23dfd6c7a2",
   "metadata": {},
   "source": [
    "Dado que se verifican las ecuaciones de Cauchy-Riemann, la función $f$ es analítica y por lo tanto su integración  no depende de la trayectoria que une los límites de integración, sino solamente de los valores de estos límites. Podemos hacer la integración como en el caso de las funciones de variable real, obteniendo su primitiva y evaluando en los extremos de integración:"
   ]
  },
  {
   "cell_type": "code",
   "execution_count": null,
   "id": "c147e94e-9df3-4018-b457-724db7e147ea",
   "metadata": {
    "tags": []
   },
   "outputs": [
    {
     "data": {
      "text/latex": [
       "$\\displaystyle - e^{2} + e^{2 i}$"
      ],
      "text/plain": [
       "-exp(2) + exp(2*I)"
      ]
     },
     "execution_count": 8,
     "metadata": {},
     "output_type": "execute_result"
    }
   ],
   "source": [
    "integral = integrate(2 * exp(2 * z), (z, 1, I))\n",
    "integral"
   ]
  },
  {
   "cell_type": "code",
   "execution_count": null,
   "id": "8346b975-794b-4cf3-b5b1-73831e22854f",
   "metadata": {
    "tags": []
   },
   "outputs": [
    {
     "name": "stdout",
     "output_type": "stream",
     "text": [
      "-exp(2) + cos(2) + i sin(2)\n"
     ]
    }
   ],
   "source": [
    "print(f\"{re(integral)} + i {im(integral)}\")"
   ]
  },
  {
   "cell_type": "markdown",
   "id": "deb7ccc8-0d6c-4a58-be8b-309f9d51934c",
   "metadata": {},
   "source": [
    "## Ejercicio 3"
   ]
  },
  {
   "cell_type": "markdown",
   "id": "61b911f7-82ec-4bed-9bf6-c5a2051dfcfa",
   "metadata": {},
   "source": [
    "Primero definimos los símbolos que vamos a usar en el problema, y luego definimos las funciones $z = x + i y$ y $f(z) = \\bar{z}^2$:"
   ]
  },
  {
   "cell_type": "code",
   "execution_count": null,
   "id": "76c5fc79-e2d7-421e-8168-a2ad76c320e1",
   "metadata": {
    "tags": []
   },
   "outputs": [],
   "source": [
    "x, y, z, t = symbols('x y z t', real=True)"
   ]
  },
  {
   "cell_type": "code",
   "execution_count": null,
   "id": "fd8dae7d-2c67-4146-ac48-3aba5eafb20b",
   "metadata": {
    "tags": []
   },
   "outputs": [],
   "source": [
    "def z(x, y):\n",
    "    return x + I * y\n",
    "\n",
    "def f(z):\n",
    "    return conjugate(z)**2"
   ]
  },
  {
   "cell_type": "code",
   "execution_count": null,
   "id": "6d3073c9-128e-40ed-8031-d9d527e12b95",
   "metadata": {
    "tags": []
   },
   "outputs": [
    {
     "data": {
      "text/latex": [
       "$\\displaystyle x + i y$"
      ],
      "text/plain": [
       "x + I*y"
      ]
     },
     "execution_count": 12,
     "metadata": {},
     "output_type": "execute_result"
    }
   ],
   "source": [
    "z(x, y)"
   ]
  },
  {
   "cell_type": "code",
   "execution_count": null,
   "id": "2a8a8271-50b6-4c5f-8ba3-ab0f5cac3503",
   "metadata": {
    "tags": []
   },
   "outputs": [
    {
     "data": {
      "text/latex": [
       "$\\displaystyle \\left(x - i y\\right)^{2}$"
      ],
      "text/plain": [
       "(x - I*y)**2"
      ]
     },
     "execution_count": 13,
     "metadata": {},
     "output_type": "execute_result"
    }
   ],
   "source": [
    "f(z(x, y))"
   ]
  },
  {
   "cell_type": "markdown",
   "id": "a528d2e0-fbf6-452c-aff8-204ffcb1716b",
   "metadata": {},
   "source": [
    "### Parte a)\n",
    "\n",
    "Como $\\bar{z}^2$ no es analítica, suponemos que el valor de la integral dependerá de la trayectoria elegida para unir los extremos de integración. El segmento de recta que une $(1, 0)$ con $(0, 1)$ en el diagrama de Argand $(x, y)$ es\n",
    "$$ y = 1 - x $$\n",
    "por lo tanto tendremos:\n",
    "$$ z = x + (1 - x) i$$ \n",
    "y \n",
    "$$ dz = dx - i dx = (1 - i) dx$$"
   ]
  },
  {
   "cell_type": "code",
   "execution_count": null,
   "id": "f033d264-f31c-4844-9335-8db8dc19edc8",
   "metadata": {
    "tags": []
   },
   "outputs": [
    {
     "data": {
      "text/latex": [
       "$\\displaystyle 1 - i$"
      ],
      "text/plain": [
       "1 - I"
      ]
     },
     "execution_count": 14,
     "metadata": {},
     "output_type": "execute_result"
    }
   ],
   "source": [
    "dz = diff(z(x, 1-x), x)\n",
    "dz"
   ]
  },
  {
   "cell_type": "markdown",
   "id": "d5f3a4cb-84d5-4cdb-8ca1-66b195aa9891",
   "metadata": {},
   "source": [
    "Ahora las funciones $u$ y $v$, al estar definidas sobre el segmento de recta, quedan parametrizadas solo con $x$:"
   ]
  },
  {
   "cell_type": "code",
   "execution_count": null,
   "id": "e861e41d-4f2e-42d5-82c1-25d439ec3348",
   "metadata": {
    "tags": []
   },
   "outputs": [],
   "source": [
    "def u(x):\n",
    "    return re(f(z(x, 1-x)) * dz)\n",
    "\n",
    "def v(x):\n",
    "    return im(f(z(x, 1-x)) * dz)"
   ]
  },
  {
   "cell_type": "code",
   "execution_count": null,
   "id": "5d9d3417-97e8-4f57-863e-45aefd8a2fc3",
   "metadata": {
    "tags": []
   },
   "outputs": [
    {
     "data": {
      "text/latex": [
       "$\\displaystyle x^{2} + 2 x \\left(x - 1\\right) - \\left(x - 1\\right)^{2}$"
      ],
      "text/plain": [
       "x**2 + 2*x*(x - 1) - (x - 1)**2"
      ]
     },
     "execution_count": 16,
     "metadata": {},
     "output_type": "execute_result"
    }
   ],
   "source": [
    "u(x)"
   ]
  },
  {
   "cell_type": "code",
   "execution_count": null,
   "id": "eba34a07-ff53-4963-b321-ae53129166d9",
   "metadata": {
    "tags": []
   },
   "outputs": [
    {
     "data": {
      "text/latex": [
       "$\\displaystyle - x^{2} + 2 x \\left(x - 1\\right) + \\left(x - 1\\right)^{2}$"
      ],
      "text/plain": [
       "-x**2 + 2*x*(x - 1) + (x - 1)**2"
      ]
     },
     "execution_count": 17,
     "metadata": {},
     "output_type": "execute_result"
    }
   ],
   "source": [
    "v(x)"
   ]
  },
  {
   "cell_type": "markdown",
   "id": "d220155b-0715-47ea-9073-0dd851cb5941",
   "metadata": {},
   "source": [
    "La integral de línea se resuelve entonces como es usual:\n",
    "$$\\int_0^i \\bar{z}^2 dz = \\int_1^0 u(x) dx + i \\int_1^0 v(x) dx $$"
   ]
  },
  {
   "cell_type": "code",
   "execution_count": null,
   "id": "1abd4e28-6e81-4c6f-a0fa-f3f0b07a4c85",
   "metadata": {
    "tags": []
   },
   "outputs": [
    {
     "data": {
      "text/latex": [
       "$\\displaystyle \\frac{1}{3} + \\frac{i}{3}$"
      ],
      "text/plain": [
       "1/3 + I/3"
      ]
     },
     "execution_count": 18,
     "metadata": {},
     "output_type": "execute_result"
    }
   ],
   "source": [
    "resultado = integrate(u(x), (x, 1, 0)) + I * integrate(v(x), (x, 1, 0))\n",
    "resultado"
   ]
  },
  {
   "cell_type": "markdown",
   "id": "7d149f8f-b0a0-44bc-a36f-b53d57e3b3ea",
   "metadata": {},
   "source": [
    "### Parte b)\n",
    "\n",
    "Ahora utilizamos un recorrido sobre un arco de círculo, por lo que es conveniente expresar la trayectoria en coordenadas polares $(r, \\theta)$ (representando $\\theta$ por la letra `t`en el código):"
   ]
  },
  {
   "cell_type": "code",
   "execution_count": null,
   "id": "41961891-e659-4f7e-aa7c-98af548d7f63",
   "metadata": {
    "tags": []
   },
   "outputs": [
    {
     "data": {
      "text/latex": [
       "$\\displaystyle i e^{i t}$"
      ],
      "text/plain": [
       "I*exp(I*t)"
      ]
     },
     "execution_count": 19,
     "metadata": {},
     "output_type": "execute_result"
    }
   ],
   "source": [
    "def z(t):\n",
    "    return exp(I * t)\n",
    "\n",
    "dzdt = diff(z(t), t)\n",
    "dzdt"
   ]
  },
  {
   "cell_type": "code",
   "execution_count": null,
   "id": "d2fdab22-24ad-4c60-815d-d86073225f64",
   "metadata": {
    "tags": []
   },
   "outputs": [
    {
     "data": {
      "text/latex": [
       "$\\displaystyle e^{- 2 i t}$"
      ],
      "text/plain": [
       "exp(-2*I*t)"
      ]
     },
     "execution_count": 20,
     "metadata": {},
     "output_type": "execute_result"
    }
   ],
   "source": [
    "f(z(t))"
   ]
  },
  {
   "cell_type": "markdown",
   "id": "9a3bb733-5d7f-41b5-8a36-9e74a5df277f",
   "metadata": {},
   "source": [
    "La integral de línea se resuelve integrando sobre $\\theta$ en el intervalo $(0, \\pi/2)$:\n",
    "$$ \\int_0^i \\bar{z} dz = \\int_0^{\\pi/2} f(z) \\frac{dz}{d \\theta} d\\theta $$ "
   ]
  },
  {
   "cell_type": "code",
   "execution_count": null,
   "id": "7aa6e115-6159-416f-a1c6-e3dcc34841cf",
   "metadata": {
    "tags": []
   },
   "outputs": [
    {
     "data": {
      "text/latex": [
       "$\\displaystyle 1 + i$"
      ],
      "text/plain": [
       "1 + I"
      ]
     },
     "execution_count": 21,
     "metadata": {},
     "output_type": "execute_result"
    }
   ],
   "source": [
    "integrate(f(z(t)) * dzdt, (t, 0, pi/2))"
   ]
  },
  {
   "cell_type": "markdown",
   "id": "cb296142-848d-4778-bcdf-45d6f408f133",
   "metadata": {},
   "source": [
    "Como podemos ver, los resultados obtenidos de la integral en las partes a) y b) difieren, lo cual era esperable por no ser analítica la función $f(z)$."
   ]
  },
  {
   "cell_type": "markdown",
   "id": "4d335711-1ed2-4304-a233-2df43fe085dd",
   "metadata": {},
   "source": [
    "## Ejercicio 4"
   ]
  },
  {
   "cell_type": "markdown",
   "id": "239ee208-060b-4fc4-8d83-76538cb70a75",
   "metadata": {},
   "source": [
    "Tal como en el caso real, podemos probar el enunciado considerando que dado $\\varepsilon > 0$, podemos encontrar $N_1$ y $N_2$ tal que:\n",
    "$$ n > N_1 \\rightarrow |L_1 - a_n| < \\frac{\\varepsilon}{2} $$\n",
    "y\n",
    "$$ n > N_2 \\rightarrow |L_2 - a_n| < \\frac{\\varepsilon}{2} $$\n",
    "\n",
    "Entonces, haciendo $N = \\max {N_1, N_2}$, podemos ver que\n",
    "$$ n > N \\rightarrow |L_1 - a_n| + |a_n -L_2| < \\frac{\\varepsilon}{2} + \\frac{\\varepsilon}{2} \\qquad (1.1)$$\n",
    "\n",
    "Teniendo en cuenta la desigualdad triangular, que para vectores es:\n",
    "$$ |\\vec{x}| - |\\vec{y}| \\leq |\\vec{x} + \\vec{y}| \\leq |\\vec{x}| + |\\vec{y}| $$\n",
    "y para números complejos es:\n",
    "$$|z_1| - |z_2| \\leq |z_1 + z_2| \\leq |z_1| + |z_2| $$\n",
    "podemos expresar:\n",
    "$$|L_1 - L_2| = |(L_1 - a_n) + (a_n - L_2)| \\leq |L_1 - a_n| + |a_n - L_2| $$\n",
    "\n",
    "Entonces, la expresión $(1.1)$ resulta:\n",
    "$$ n > N \\rightarrow |L_1 - L_2| < \\varepsilon \\qquad (1.2) $$\n",
    "\n",
    "Dado que $\\varepsilon > 0$ se elige arbitrariamente, la ecuación $(1.2)$ nos dice que para un $n$ suficientemente grande, $|L_1 - L_2|$ es menor que **cualquier** número positivo dado. Entonces, como $|L_1 - L_2|$ es una constante independiente de $n$, podemos concluir que como $|L_1 - L_2|$ es menor que cualquier número positivo elegido arbitrariamente pequeño y dado que $|L_1 - L_2| > 0$, resulta que $|L_1 - L_2| = 0$ o $L_1 = L_2$."
   ]
  }
 ],
 "metadata": {
  "kernelspec": {
   "display_name": "Python 3 (ipykernel)",
   "language": "python",
   "name": "python3"
  },
  "language_info": {
   "codemirror_mode": {
    "name": "ipython",
    "version": 3
   },
   "file_extension": ".py",
   "mimetype": "text/x-python",
   "name": "python",
   "nbconvert_exporter": "python",
   "pygments_lexer": "ipython3",
   "version": "3.8.16"
  }
 },
 "nbformat": 4,
 "nbformat_minor": 5
}
